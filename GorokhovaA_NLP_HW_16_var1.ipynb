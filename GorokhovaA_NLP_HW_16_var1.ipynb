{
  "nbformat": 4,
  "nbformat_minor": 0,
  "metadata": {
    "colab": {
      "provenance": [],
      "gpuType": "T4",
      "mount_file_id": "1ZQ3-mfeaUupcrJPI-xzgjED-ZZIjaVR6",
      "authorship_tag": "ABX9TyMd5KGezJgJ/C+wc+dmYMha",
      "include_colab_link": true
    },
    "kernelspec": {
      "name": "python3",
      "display_name": "Python 3"
    },
    "language_info": {
      "name": "python"
    },
    "accelerator": "GPU",
    "widgets": {
      "application/vnd.jupyter.widget-state+json": {
        "c9b92a95dc274ffe9205bafcddf38731": {
          "model_module": "@jupyter-widgets/controls",
          "model_name": "HBoxModel",
          "model_module_version": "1.5.0",
          "state": {
            "_dom_classes": [],
            "_model_module": "@jupyter-widgets/controls",
            "_model_module_version": "1.5.0",
            "_model_name": "HBoxModel",
            "_view_count": null,
            "_view_module": "@jupyter-widgets/controls",
            "_view_module_version": "1.5.0",
            "_view_name": "HBoxView",
            "box_style": "",
            "children": [
              "IPY_MODEL_61fd343af44547749cccdb2decf3b797",
              "IPY_MODEL_96cbc04e837a4cc6b6e1ed38f56f00ad",
              "IPY_MODEL_8494dad789a349328ab2524a548b16d9"
            ],
            "layout": "IPY_MODEL_eace2c074cd14aeabea4743245763aaf"
          }
        },
        "61fd343af44547749cccdb2decf3b797": {
          "model_module": "@jupyter-widgets/controls",
          "model_name": "HTMLModel",
          "model_module_version": "1.5.0",
          "state": {
            "_dom_classes": [],
            "_model_module": "@jupyter-widgets/controls",
            "_model_module_version": "1.5.0",
            "_model_name": "HTMLModel",
            "_view_count": null,
            "_view_module": "@jupyter-widgets/controls",
            "_view_module_version": "1.5.0",
            "_view_name": "HTMLView",
            "description": "",
            "description_tooltip": null,
            "layout": "IPY_MODEL_673fee786a954851ac7256c150d2aa7a",
            "placeholder": "​",
            "style": "IPY_MODEL_481c75cad468425caa0d0cb04aafe855",
            "value": ""
          }
        },
        "96cbc04e837a4cc6b6e1ed38f56f00ad": {
          "model_module": "@jupyter-widgets/controls",
          "model_name": "FloatProgressModel",
          "model_module_version": "1.5.0",
          "state": {
            "_dom_classes": [],
            "_model_module": "@jupyter-widgets/controls",
            "_model_module_version": "1.5.0",
            "_model_name": "FloatProgressModel",
            "_view_count": null,
            "_view_module": "@jupyter-widgets/controls",
            "_view_module_version": "1.5.0",
            "_view_name": "ProgressView",
            "bar_style": "success",
            "description": "",
            "description_tooltip": null,
            "layout": "IPY_MODEL_978385f687d149bead63875146e2e75d",
            "max": 1,
            "min": 0,
            "orientation": "horizontal",
            "style": "IPY_MODEL_820d925930b741619306078d66a47289",
            "value": 1
          }
        },
        "8494dad789a349328ab2524a548b16d9": {
          "model_module": "@jupyter-widgets/controls",
          "model_name": "HTMLModel",
          "model_module_version": "1.5.0",
          "state": {
            "_dom_classes": [],
            "_model_module": "@jupyter-widgets/controls",
            "_model_module_version": "1.5.0",
            "_model_name": "HTMLModel",
            "_view_count": null,
            "_view_module": "@jupyter-widgets/controls",
            "_view_module_version": "1.5.0",
            "_view_name": "HTMLView",
            "description": "",
            "description_tooltip": null,
            "layout": "IPY_MODEL_cf850ee48c1f40d3942657e7cecb4d04",
            "placeholder": "​",
            "style": "IPY_MODEL_fca21af3f9ba4542bba77ac54918282d",
            "value": " 7550926/? [00:31&lt;00:00, 247304.28it/s]"
          }
        },
        "eace2c074cd14aeabea4743245763aaf": {
          "model_module": "@jupyter-widgets/base",
          "model_name": "LayoutModel",
          "model_module_version": "1.2.0",
          "state": {
            "_model_module": "@jupyter-widgets/base",
            "_model_module_version": "1.2.0",
            "_model_name": "LayoutModel",
            "_view_count": null,
            "_view_module": "@jupyter-widgets/base",
            "_view_module_version": "1.2.0",
            "_view_name": "LayoutView",
            "align_content": null,
            "align_items": null,
            "align_self": null,
            "border": null,
            "bottom": null,
            "display": null,
            "flex": null,
            "flex_flow": null,
            "grid_area": null,
            "grid_auto_columns": null,
            "grid_auto_flow": null,
            "grid_auto_rows": null,
            "grid_column": null,
            "grid_gap": null,
            "grid_row": null,
            "grid_template_areas": null,
            "grid_template_columns": null,
            "grid_template_rows": null,
            "height": null,
            "justify_content": null,
            "justify_items": null,
            "left": null,
            "margin": null,
            "max_height": null,
            "max_width": null,
            "min_height": null,
            "min_width": null,
            "object_fit": null,
            "object_position": null,
            "order": null,
            "overflow": null,
            "overflow_x": null,
            "overflow_y": null,
            "padding": null,
            "right": null,
            "top": null,
            "visibility": null,
            "width": null
          }
        },
        "673fee786a954851ac7256c150d2aa7a": {
          "model_module": "@jupyter-widgets/base",
          "model_name": "LayoutModel",
          "model_module_version": "1.2.0",
          "state": {
            "_model_module": "@jupyter-widgets/base",
            "_model_module_version": "1.2.0",
            "_model_name": "LayoutModel",
            "_view_count": null,
            "_view_module": "@jupyter-widgets/base",
            "_view_module_version": "1.2.0",
            "_view_name": "LayoutView",
            "align_content": null,
            "align_items": null,
            "align_self": null,
            "border": null,
            "bottom": null,
            "display": null,
            "flex": null,
            "flex_flow": null,
            "grid_area": null,
            "grid_auto_columns": null,
            "grid_auto_flow": null,
            "grid_auto_rows": null,
            "grid_column": null,
            "grid_gap": null,
            "grid_row": null,
            "grid_template_areas": null,
            "grid_template_columns": null,
            "grid_template_rows": null,
            "height": null,
            "justify_content": null,
            "justify_items": null,
            "left": null,
            "margin": null,
            "max_height": null,
            "max_width": null,
            "min_height": null,
            "min_width": null,
            "object_fit": null,
            "object_position": null,
            "order": null,
            "overflow": null,
            "overflow_x": null,
            "overflow_y": null,
            "padding": null,
            "right": null,
            "top": null,
            "visibility": null,
            "width": null
          }
        },
        "481c75cad468425caa0d0cb04aafe855": {
          "model_module": "@jupyter-widgets/controls",
          "model_name": "DescriptionStyleModel",
          "model_module_version": "1.5.0",
          "state": {
            "_model_module": "@jupyter-widgets/controls",
            "_model_module_version": "1.5.0",
            "_model_name": "DescriptionStyleModel",
            "_view_count": null,
            "_view_module": "@jupyter-widgets/base",
            "_view_module_version": "1.2.0",
            "_view_name": "StyleView",
            "description_width": ""
          }
        },
        "978385f687d149bead63875146e2e75d": {
          "model_module": "@jupyter-widgets/base",
          "model_name": "LayoutModel",
          "model_module_version": "1.2.0",
          "state": {
            "_model_module": "@jupyter-widgets/base",
            "_model_module_version": "1.2.0",
            "_model_name": "LayoutModel",
            "_view_count": null,
            "_view_module": "@jupyter-widgets/base",
            "_view_module_version": "1.2.0",
            "_view_name": "LayoutView",
            "align_content": null,
            "align_items": null,
            "align_self": null,
            "border": null,
            "bottom": null,
            "display": null,
            "flex": null,
            "flex_flow": null,
            "grid_area": null,
            "grid_auto_columns": null,
            "grid_auto_flow": null,
            "grid_auto_rows": null,
            "grid_column": null,
            "grid_gap": null,
            "grid_row": null,
            "grid_template_areas": null,
            "grid_template_columns": null,
            "grid_template_rows": null,
            "height": null,
            "justify_content": null,
            "justify_items": null,
            "left": null,
            "margin": null,
            "max_height": null,
            "max_width": null,
            "min_height": null,
            "min_width": null,
            "object_fit": null,
            "object_position": null,
            "order": null,
            "overflow": null,
            "overflow_x": null,
            "overflow_y": null,
            "padding": null,
            "right": null,
            "top": null,
            "visibility": null,
            "width": "20px"
          }
        },
        "820d925930b741619306078d66a47289": {
          "model_module": "@jupyter-widgets/controls",
          "model_name": "ProgressStyleModel",
          "model_module_version": "1.5.0",
          "state": {
            "_model_module": "@jupyter-widgets/controls",
            "_model_module_version": "1.5.0",
            "_model_name": "ProgressStyleModel",
            "_view_count": null,
            "_view_module": "@jupyter-widgets/base",
            "_view_module_version": "1.2.0",
            "_view_name": "StyleView",
            "bar_color": null,
            "description_width": ""
          }
        },
        "cf850ee48c1f40d3942657e7cecb4d04": {
          "model_module": "@jupyter-widgets/base",
          "model_name": "LayoutModel",
          "model_module_version": "1.2.0",
          "state": {
            "_model_module": "@jupyter-widgets/base",
            "_model_module_version": "1.2.0",
            "_model_name": "LayoutModel",
            "_view_count": null,
            "_view_module": "@jupyter-widgets/base",
            "_view_module_version": "1.2.0",
            "_view_name": "LayoutView",
            "align_content": null,
            "align_items": null,
            "align_self": null,
            "border": null,
            "bottom": null,
            "display": null,
            "flex": null,
            "flex_flow": null,
            "grid_area": null,
            "grid_auto_columns": null,
            "grid_auto_flow": null,
            "grid_auto_rows": null,
            "grid_column": null,
            "grid_gap": null,
            "grid_row": null,
            "grid_template_areas": null,
            "grid_template_columns": null,
            "grid_template_rows": null,
            "height": null,
            "justify_content": null,
            "justify_items": null,
            "left": null,
            "margin": null,
            "max_height": null,
            "max_width": null,
            "min_height": null,
            "min_width": null,
            "object_fit": null,
            "object_position": null,
            "order": null,
            "overflow": null,
            "overflow_x": null,
            "overflow_y": null,
            "padding": null,
            "right": null,
            "top": null,
            "visibility": null,
            "width": null
          }
        },
        "fca21af3f9ba4542bba77ac54918282d": {
          "model_module": "@jupyter-widgets/controls",
          "model_name": "DescriptionStyleModel",
          "model_module_version": "1.5.0",
          "state": {
            "_model_module": "@jupyter-widgets/controls",
            "_model_module_version": "1.5.0",
            "_model_name": "DescriptionStyleModel",
            "_view_count": null,
            "_view_module": "@jupyter-widgets/base",
            "_view_module_version": "1.2.0",
            "_view_name": "StyleView",
            "description_width": ""
          }
        },
        "3c9e3c073dd6417491b0bc8f2573a7ec": {
          "model_module": "@jupyter-widgets/controls",
          "model_name": "HBoxModel",
          "model_module_version": "1.5.0",
          "state": {
            "_dom_classes": [],
            "_model_module": "@jupyter-widgets/controls",
            "_model_module_version": "1.5.0",
            "_model_name": "HBoxModel",
            "_view_count": null,
            "_view_module": "@jupyter-widgets/controls",
            "_view_module_version": "1.5.0",
            "_view_name": "HBoxView",
            "box_style": "",
            "children": [
              "IPY_MODEL_b8f614a779d34c199995113dec0495bd",
              "IPY_MODEL_94d12d4c33f847e291148065589f5824",
              "IPY_MODEL_10b9f9b196fe41b58d60b146025f4786"
            ],
            "layout": "IPY_MODEL_39fb055250e74618abbc846b35249554"
          }
        },
        "b8f614a779d34c199995113dec0495bd": {
          "model_module": "@jupyter-widgets/controls",
          "model_name": "HTMLModel",
          "model_module_version": "1.5.0",
          "state": {
            "_dom_classes": [],
            "_model_module": "@jupyter-widgets/controls",
            "_model_module_version": "1.5.0",
            "_model_name": "HTMLModel",
            "_view_count": null,
            "_view_module": "@jupyter-widgets/controls",
            "_view_module_version": "1.5.0",
            "_view_name": "HTMLView",
            "description": "",
            "description_tooltip": null,
            "layout": "IPY_MODEL_b27a684c1b34494da388557ac7b6ad2b",
            "placeholder": "​",
            "style": "IPY_MODEL_82d02266e9a34344b92b764120670ee7",
            "value": ""
          }
        },
        "94d12d4c33f847e291148065589f5824": {
          "model_module": "@jupyter-widgets/controls",
          "model_name": "FloatProgressModel",
          "model_module_version": "1.5.0",
          "state": {
            "_dom_classes": [],
            "_model_module": "@jupyter-widgets/controls",
            "_model_module_version": "1.5.0",
            "_model_name": "FloatProgressModel",
            "_view_count": null,
            "_view_module": "@jupyter-widgets/controls",
            "_view_module_version": "1.5.0",
            "_view_name": "ProgressView",
            "bar_style": "danger",
            "description": "",
            "description_tooltip": null,
            "layout": "IPY_MODEL_81510d862b544c91b31330538ccbe966",
            "max": 1,
            "min": 0,
            "orientation": "horizontal",
            "style": "IPY_MODEL_31c0e8cb448e4ef38bfeea043651dd05",
            "value": 1
          }
        },
        "10b9f9b196fe41b58d60b146025f4786": {
          "model_module": "@jupyter-widgets/controls",
          "model_name": "HTMLModel",
          "model_module_version": "1.5.0",
          "state": {
            "_dom_classes": [],
            "_model_module": "@jupyter-widgets/controls",
            "_model_module_version": "1.5.0",
            "_model_name": "HTMLModel",
            "_view_count": null,
            "_view_module": "@jupyter-widgets/controls",
            "_view_module_version": "1.5.0",
            "_view_name": "HTMLView",
            "description": "",
            "description_tooltip": null,
            "layout": "IPY_MODEL_eda6033b3605471c905739db2d1e0e75",
            "placeholder": "​",
            "style": "IPY_MODEL_96d913aec01c40a9947906412f757a6d",
            "value": " 500000/? [33:43&lt;00:00, 333.49it/s]"
          }
        },
        "39fb055250e74618abbc846b35249554": {
          "model_module": "@jupyter-widgets/base",
          "model_name": "LayoutModel",
          "model_module_version": "1.2.0",
          "state": {
            "_model_module": "@jupyter-widgets/base",
            "_model_module_version": "1.2.0",
            "_model_name": "LayoutModel",
            "_view_count": null,
            "_view_module": "@jupyter-widgets/base",
            "_view_module_version": "1.2.0",
            "_view_name": "LayoutView",
            "align_content": null,
            "align_items": null,
            "align_self": null,
            "border": null,
            "bottom": null,
            "display": null,
            "flex": null,
            "flex_flow": null,
            "grid_area": null,
            "grid_auto_columns": null,
            "grid_auto_flow": null,
            "grid_auto_rows": null,
            "grid_column": null,
            "grid_gap": null,
            "grid_row": null,
            "grid_template_areas": null,
            "grid_template_columns": null,
            "grid_template_rows": null,
            "height": null,
            "justify_content": null,
            "justify_items": null,
            "left": null,
            "margin": null,
            "max_height": null,
            "max_width": null,
            "min_height": null,
            "min_width": null,
            "object_fit": null,
            "object_position": null,
            "order": null,
            "overflow": null,
            "overflow_x": null,
            "overflow_y": null,
            "padding": null,
            "right": null,
            "top": null,
            "visibility": null,
            "width": null
          }
        },
        "b27a684c1b34494da388557ac7b6ad2b": {
          "model_module": "@jupyter-widgets/base",
          "model_name": "LayoutModel",
          "model_module_version": "1.2.0",
          "state": {
            "_model_module": "@jupyter-widgets/base",
            "_model_module_version": "1.2.0",
            "_model_name": "LayoutModel",
            "_view_count": null,
            "_view_module": "@jupyter-widgets/base",
            "_view_module_version": "1.2.0",
            "_view_name": "LayoutView",
            "align_content": null,
            "align_items": null,
            "align_self": null,
            "border": null,
            "bottom": null,
            "display": null,
            "flex": null,
            "flex_flow": null,
            "grid_area": null,
            "grid_auto_columns": null,
            "grid_auto_flow": null,
            "grid_auto_rows": null,
            "grid_column": null,
            "grid_gap": null,
            "grid_row": null,
            "grid_template_areas": null,
            "grid_template_columns": null,
            "grid_template_rows": null,
            "height": null,
            "justify_content": null,
            "justify_items": null,
            "left": null,
            "margin": null,
            "max_height": null,
            "max_width": null,
            "min_height": null,
            "min_width": null,
            "object_fit": null,
            "object_position": null,
            "order": null,
            "overflow": null,
            "overflow_x": null,
            "overflow_y": null,
            "padding": null,
            "right": null,
            "top": null,
            "visibility": null,
            "width": null
          }
        },
        "82d02266e9a34344b92b764120670ee7": {
          "model_module": "@jupyter-widgets/controls",
          "model_name": "DescriptionStyleModel",
          "model_module_version": "1.5.0",
          "state": {
            "_model_module": "@jupyter-widgets/controls",
            "_model_module_version": "1.5.0",
            "_model_name": "DescriptionStyleModel",
            "_view_count": null,
            "_view_module": "@jupyter-widgets/base",
            "_view_module_version": "1.2.0",
            "_view_name": "StyleView",
            "description_width": ""
          }
        },
        "81510d862b544c91b31330538ccbe966": {
          "model_module": "@jupyter-widgets/base",
          "model_name": "LayoutModel",
          "model_module_version": "1.2.0",
          "state": {
            "_model_module": "@jupyter-widgets/base",
            "_model_module_version": "1.2.0",
            "_model_name": "LayoutModel",
            "_view_count": null,
            "_view_module": "@jupyter-widgets/base",
            "_view_module_version": "1.2.0",
            "_view_name": "LayoutView",
            "align_content": null,
            "align_items": null,
            "align_self": null,
            "border": null,
            "bottom": null,
            "display": null,
            "flex": null,
            "flex_flow": null,
            "grid_area": null,
            "grid_auto_columns": null,
            "grid_auto_flow": null,
            "grid_auto_rows": null,
            "grid_column": null,
            "grid_gap": null,
            "grid_row": null,
            "grid_template_areas": null,
            "grid_template_columns": null,
            "grid_template_rows": null,
            "height": null,
            "justify_content": null,
            "justify_items": null,
            "left": null,
            "margin": null,
            "max_height": null,
            "max_width": null,
            "min_height": null,
            "min_width": null,
            "object_fit": null,
            "object_position": null,
            "order": null,
            "overflow": null,
            "overflow_x": null,
            "overflow_y": null,
            "padding": null,
            "right": null,
            "top": null,
            "visibility": null,
            "width": "20px"
          }
        },
        "31c0e8cb448e4ef38bfeea043651dd05": {
          "model_module": "@jupyter-widgets/controls",
          "model_name": "ProgressStyleModel",
          "model_module_version": "1.5.0",
          "state": {
            "_model_module": "@jupyter-widgets/controls",
            "_model_module_version": "1.5.0",
            "_model_name": "ProgressStyleModel",
            "_view_count": null,
            "_view_module": "@jupyter-widgets/base",
            "_view_module_version": "1.2.0",
            "_view_name": "StyleView",
            "bar_color": null,
            "description_width": ""
          }
        },
        "eda6033b3605471c905739db2d1e0e75": {
          "model_module": "@jupyter-widgets/base",
          "model_name": "LayoutModel",
          "model_module_version": "1.2.0",
          "state": {
            "_model_module": "@jupyter-widgets/base",
            "_model_module_version": "1.2.0",
            "_model_name": "LayoutModel",
            "_view_count": null,
            "_view_module": "@jupyter-widgets/base",
            "_view_module_version": "1.2.0",
            "_view_name": "LayoutView",
            "align_content": null,
            "align_items": null,
            "align_self": null,
            "border": null,
            "bottom": null,
            "display": null,
            "flex": null,
            "flex_flow": null,
            "grid_area": null,
            "grid_auto_columns": null,
            "grid_auto_flow": null,
            "grid_auto_rows": null,
            "grid_column": null,
            "grid_gap": null,
            "grid_row": null,
            "grid_template_areas": null,
            "grid_template_columns": null,
            "grid_template_rows": null,
            "height": null,
            "justify_content": null,
            "justify_items": null,
            "left": null,
            "margin": null,
            "max_height": null,
            "max_width": null,
            "min_height": null,
            "min_width": null,
            "object_fit": null,
            "object_position": null,
            "order": null,
            "overflow": null,
            "overflow_x": null,
            "overflow_y": null,
            "padding": null,
            "right": null,
            "top": null,
            "visibility": null,
            "width": null
          }
        },
        "96d913aec01c40a9947906412f757a6d": {
          "model_module": "@jupyter-widgets/controls",
          "model_name": "DescriptionStyleModel",
          "model_module_version": "1.5.0",
          "state": {
            "_model_module": "@jupyter-widgets/controls",
            "_model_module_version": "1.5.0",
            "_model_name": "DescriptionStyleModel",
            "_view_count": null,
            "_view_module": "@jupyter-widgets/base",
            "_view_module_version": "1.2.0",
            "_view_name": "StyleView",
            "description_width": ""
          }
        },
        "7122640962ea477ea950f90450ef2cf8": {
          "model_module": "@jupyter-widgets/controls",
          "model_name": "HBoxModel",
          "model_module_version": "1.5.0",
          "state": {
            "_dom_classes": [],
            "_model_module": "@jupyter-widgets/controls",
            "_model_module_version": "1.5.0",
            "_model_name": "HBoxModel",
            "_view_count": null,
            "_view_module": "@jupyter-widgets/controls",
            "_view_module_version": "1.5.0",
            "_view_name": "HBoxView",
            "box_style": "",
            "children": [
              "IPY_MODEL_855c6ea993984dbe81329202fb50e9a1",
              "IPY_MODEL_eab472c28c594b52839d9c13996ce60b",
              "IPY_MODEL_24ec8c80e85743ff88b14b7f6298d2be"
            ],
            "layout": "IPY_MODEL_e6e20e5de13b47c48f60ca10d3f57e32"
          }
        },
        "855c6ea993984dbe81329202fb50e9a1": {
          "model_module": "@jupyter-widgets/controls",
          "model_name": "HTMLModel",
          "model_module_version": "1.5.0",
          "state": {
            "_dom_classes": [],
            "_model_module": "@jupyter-widgets/controls",
            "_model_module_version": "1.5.0",
            "_model_name": "HTMLModel",
            "_view_count": null,
            "_view_module": "@jupyter-widgets/controls",
            "_view_module_version": "1.5.0",
            "_view_name": "HTMLView",
            "description": "",
            "description_tooltip": null,
            "layout": "IPY_MODEL_5cd72091a85c4675b9b8e4c2f5e9239b",
            "placeholder": "​",
            "style": "IPY_MODEL_11568ee25d1b45d791a83cb09b75a8a9",
            "value": ""
          }
        },
        "eab472c28c594b52839d9c13996ce60b": {
          "model_module": "@jupyter-widgets/controls",
          "model_name": "FloatProgressModel",
          "model_module_version": "1.5.0",
          "state": {
            "_dom_classes": [],
            "_model_module": "@jupyter-widgets/controls",
            "_model_module_version": "1.5.0",
            "_model_name": "FloatProgressModel",
            "_view_count": null,
            "_view_module": "@jupyter-widgets/controls",
            "_view_module_version": "1.5.0",
            "_view_name": "ProgressView",
            "bar_style": "success",
            "description": "",
            "description_tooltip": null,
            "layout": "IPY_MODEL_7510106183be421fb909f0623ba21ad0",
            "max": 1,
            "min": 0,
            "orientation": "horizontal",
            "style": "IPY_MODEL_fddad8f2bb3b4a989f4d87792f471ba2",
            "value": 1
          }
        },
        "24ec8c80e85743ff88b14b7f6298d2be": {
          "model_module": "@jupyter-widgets/controls",
          "model_name": "HTMLModel",
          "model_module_version": "1.5.0",
          "state": {
            "_dom_classes": [],
            "_model_module": "@jupyter-widgets/controls",
            "_model_module_version": "1.5.0",
            "_model_name": "HTMLModel",
            "_view_count": null,
            "_view_module": "@jupyter-widgets/controls",
            "_view_module_version": "1.5.0",
            "_view_name": "HTMLView",
            "description": "",
            "description_tooltip": null,
            "layout": "IPY_MODEL_82fbc65022244d8bb09fcd69022f625f",
            "placeholder": "​",
            "style": "IPY_MODEL_56d60523403f45aab3171e57bb246952",
            "value": " 1163342/? [1:20:14&lt;00:00, 284.79it/s]"
          }
        },
        "e6e20e5de13b47c48f60ca10d3f57e32": {
          "model_module": "@jupyter-widgets/base",
          "model_name": "LayoutModel",
          "model_module_version": "1.2.0",
          "state": {
            "_model_module": "@jupyter-widgets/base",
            "_model_module_version": "1.2.0",
            "_model_name": "LayoutModel",
            "_view_count": null,
            "_view_module": "@jupyter-widgets/base",
            "_view_module_version": "1.2.0",
            "_view_name": "LayoutView",
            "align_content": null,
            "align_items": null,
            "align_self": null,
            "border": null,
            "bottom": null,
            "display": null,
            "flex": null,
            "flex_flow": null,
            "grid_area": null,
            "grid_auto_columns": null,
            "grid_auto_flow": null,
            "grid_auto_rows": null,
            "grid_column": null,
            "grid_gap": null,
            "grid_row": null,
            "grid_template_areas": null,
            "grid_template_columns": null,
            "grid_template_rows": null,
            "height": null,
            "justify_content": null,
            "justify_items": null,
            "left": null,
            "margin": null,
            "max_height": null,
            "max_width": null,
            "min_height": null,
            "min_width": null,
            "object_fit": null,
            "object_position": null,
            "order": null,
            "overflow": null,
            "overflow_x": null,
            "overflow_y": null,
            "padding": null,
            "right": null,
            "top": null,
            "visibility": null,
            "width": null
          }
        },
        "5cd72091a85c4675b9b8e4c2f5e9239b": {
          "model_module": "@jupyter-widgets/base",
          "model_name": "LayoutModel",
          "model_module_version": "1.2.0",
          "state": {
            "_model_module": "@jupyter-widgets/base",
            "_model_module_version": "1.2.0",
            "_model_name": "LayoutModel",
            "_view_count": null,
            "_view_module": "@jupyter-widgets/base",
            "_view_module_version": "1.2.0",
            "_view_name": "LayoutView",
            "align_content": null,
            "align_items": null,
            "align_self": null,
            "border": null,
            "bottom": null,
            "display": null,
            "flex": null,
            "flex_flow": null,
            "grid_area": null,
            "grid_auto_columns": null,
            "grid_auto_flow": null,
            "grid_auto_rows": null,
            "grid_column": null,
            "grid_gap": null,
            "grid_row": null,
            "grid_template_areas": null,
            "grid_template_columns": null,
            "grid_template_rows": null,
            "height": null,
            "justify_content": null,
            "justify_items": null,
            "left": null,
            "margin": null,
            "max_height": null,
            "max_width": null,
            "min_height": null,
            "min_width": null,
            "object_fit": null,
            "object_position": null,
            "order": null,
            "overflow": null,
            "overflow_x": null,
            "overflow_y": null,
            "padding": null,
            "right": null,
            "top": null,
            "visibility": null,
            "width": null
          }
        },
        "11568ee25d1b45d791a83cb09b75a8a9": {
          "model_module": "@jupyter-widgets/controls",
          "model_name": "DescriptionStyleModel",
          "model_module_version": "1.5.0",
          "state": {
            "_model_module": "@jupyter-widgets/controls",
            "_model_module_version": "1.5.0",
            "_model_name": "DescriptionStyleModel",
            "_view_count": null,
            "_view_module": "@jupyter-widgets/base",
            "_view_module_version": "1.2.0",
            "_view_name": "StyleView",
            "description_width": ""
          }
        },
        "7510106183be421fb909f0623ba21ad0": {
          "model_module": "@jupyter-widgets/base",
          "model_name": "LayoutModel",
          "model_module_version": "1.2.0",
          "state": {
            "_model_module": "@jupyter-widgets/base",
            "_model_module_version": "1.2.0",
            "_model_name": "LayoutModel",
            "_view_count": null,
            "_view_module": "@jupyter-widgets/base",
            "_view_module_version": "1.2.0",
            "_view_name": "LayoutView",
            "align_content": null,
            "align_items": null,
            "align_self": null,
            "border": null,
            "bottom": null,
            "display": null,
            "flex": null,
            "flex_flow": null,
            "grid_area": null,
            "grid_auto_columns": null,
            "grid_auto_flow": null,
            "grid_auto_rows": null,
            "grid_column": null,
            "grid_gap": null,
            "grid_row": null,
            "grid_template_areas": null,
            "grid_template_columns": null,
            "grid_template_rows": null,
            "height": null,
            "justify_content": null,
            "justify_items": null,
            "left": null,
            "margin": null,
            "max_height": null,
            "max_width": null,
            "min_height": null,
            "min_width": null,
            "object_fit": null,
            "object_position": null,
            "order": null,
            "overflow": null,
            "overflow_x": null,
            "overflow_y": null,
            "padding": null,
            "right": null,
            "top": null,
            "visibility": null,
            "width": "20px"
          }
        },
        "fddad8f2bb3b4a989f4d87792f471ba2": {
          "model_module": "@jupyter-widgets/controls",
          "model_name": "ProgressStyleModel",
          "model_module_version": "1.5.0",
          "state": {
            "_model_module": "@jupyter-widgets/controls",
            "_model_module_version": "1.5.0",
            "_model_name": "ProgressStyleModel",
            "_view_count": null,
            "_view_module": "@jupyter-widgets/base",
            "_view_module_version": "1.2.0",
            "_view_name": "StyleView",
            "bar_color": null,
            "description_width": ""
          }
        },
        "82fbc65022244d8bb09fcd69022f625f": {
          "model_module": "@jupyter-widgets/base",
          "model_name": "LayoutModel",
          "model_module_version": "1.2.0",
          "state": {
            "_model_module": "@jupyter-widgets/base",
            "_model_module_version": "1.2.0",
            "_model_name": "LayoutModel",
            "_view_count": null,
            "_view_module": "@jupyter-widgets/base",
            "_view_module_version": "1.2.0",
            "_view_name": "LayoutView",
            "align_content": null,
            "align_items": null,
            "align_self": null,
            "border": null,
            "bottom": null,
            "display": null,
            "flex": null,
            "flex_flow": null,
            "grid_area": null,
            "grid_auto_columns": null,
            "grid_auto_flow": null,
            "grid_auto_rows": null,
            "grid_column": null,
            "grid_gap": null,
            "grid_row": null,
            "grid_template_areas": null,
            "grid_template_columns": null,
            "grid_template_rows": null,
            "height": null,
            "justify_content": null,
            "justify_items": null,
            "left": null,
            "margin": null,
            "max_height": null,
            "max_width": null,
            "min_height": null,
            "min_width": null,
            "object_fit": null,
            "object_position": null,
            "order": null,
            "overflow": null,
            "overflow_x": null,
            "overflow_y": null,
            "padding": null,
            "right": null,
            "top": null,
            "visibility": null,
            "width": null
          }
        },
        "56d60523403f45aab3171e57bb246952": {
          "model_module": "@jupyter-widgets/controls",
          "model_name": "DescriptionStyleModel",
          "model_module_version": "1.5.0",
          "state": {
            "_model_module": "@jupyter-widgets/controls",
            "_model_module_version": "1.5.0",
            "_model_name": "DescriptionStyleModel",
            "_view_count": null,
            "_view_module": "@jupyter-widgets/base",
            "_view_module_version": "1.2.0",
            "_view_name": "StyleView",
            "description_width": ""
          }
        }
      }
    }
  },
  "cells": [
    {
      "cell_type": "markdown",
      "metadata": {
        "id": "view-in-github",
        "colab_type": "text"
      },
      "source": [
        "<a href=\"https://colab.research.google.com/github/NastaCom/NLP/blob/main/GorokhovaA_NLP_HW_16_var1.ipynb\" target=\"_parent\"><img src=\"https://colab.research.google.com/assets/colab-badge.svg\" alt=\"Open In Colab\"/></a>"
      ]
    },
    {
      "cell_type": "code",
      "execution_count": null,
      "metadata": {
        "id": "zEK5FFUnN_1v"
      },
      "outputs": [],
      "source": []
    },
    {
      "cell_type": "code",
      "source": [],
      "metadata": {
        "id": "NLQc2gZ_OAo_"
      },
      "execution_count": null,
      "outputs": []
    },
    {
      "cell_type": "code",
      "source": [
        "!pip install python-telegram-bot"
      ],
      "metadata": {
        "colab": {
          "base_uri": "https://localhost:8080/"
        },
        "id": "1rYjWTUTOAsW",
        "outputId": "f82a151f-decb-4ea0-f823-70f130c9c9fe"
      },
      "execution_count": 1,
      "outputs": [
        {
          "output_type": "stream",
          "name": "stdout",
          "text": [
            "Looking in indexes: https://pypi.org/simple, https://us-python.pkg.dev/colab-wheels/public/simple/\n",
            "Requirement already satisfied: python-telegram-bot in /usr/local/lib/python3.10/dist-packages (20.3)\n",
            "Requirement already satisfied: httpx~=0.24.0 in /usr/local/lib/python3.10/dist-packages (from python-telegram-bot) (0.24.1)\n",
            "Requirement already satisfied: certifi in /usr/local/lib/python3.10/dist-packages (from httpx~=0.24.0->python-telegram-bot) (2022.12.7)\n",
            "Requirement already satisfied: httpcore<0.18.0,>=0.15.0 in /usr/local/lib/python3.10/dist-packages (from httpx~=0.24.0->python-telegram-bot) (0.17.2)\n",
            "Requirement already satisfied: idna in /usr/local/lib/python3.10/dist-packages (from httpx~=0.24.0->python-telegram-bot) (3.4)\n",
            "Requirement already satisfied: sniffio in /usr/local/lib/python3.10/dist-packages (from httpx~=0.24.0->python-telegram-bot) (1.3.0)\n",
            "Requirement already satisfied: h11<0.15,>=0.13 in /usr/local/lib/python3.10/dist-packages (from httpcore<0.18.0,>=0.15.0->httpx~=0.24.0->python-telegram-bot) (0.14.0)\n",
            "Requirement already satisfied: anyio<5.0,>=3.0 in /usr/local/lib/python3.10/dist-packages (from httpcore<0.18.0,>=0.15.0->httpx~=0.24.0->python-telegram-bot) (3.6.2)\n"
          ]
        }
      ]
    },
    {
      "cell_type": "code",
      "source": [
        "!pip install pymorphy2 stop_words annoy"
      ],
      "metadata": {
        "colab": {
          "base_uri": "https://localhost:8080/"
        },
        "id": "HFbXRD1TOAvo",
        "outputId": "e714e47e-da8a-4693-c0ad-801a048b5497"
      },
      "execution_count": 2,
      "outputs": [
        {
          "output_type": "stream",
          "name": "stdout",
          "text": [
            "Looking in indexes: https://pypi.org/simple, https://us-python.pkg.dev/colab-wheels/public/simple/\n",
            "Requirement already satisfied: pymorphy2 in /usr/local/lib/python3.10/dist-packages (0.9.1)\n",
            "Requirement already satisfied: stop_words in /usr/local/lib/python3.10/dist-packages (2018.7.23)\n",
            "Requirement already satisfied: annoy in /usr/local/lib/python3.10/dist-packages (1.17.2)\n",
            "Requirement already satisfied: dawg-python>=0.7.1 in /usr/local/lib/python3.10/dist-packages (from pymorphy2) (0.7.2)\n",
            "Requirement already satisfied: pymorphy2-dicts-ru<3.0,>=2.4 in /usr/local/lib/python3.10/dist-packages (from pymorphy2) (2.4.417127.4579844)\n",
            "Requirement already satisfied: docopt>=0.6 in /usr/local/lib/python3.10/dist-packages (from pymorphy2) (0.6.2)\n"
          ]
        }
      ]
    },
    {
      "cell_type": "code",
      "source": [
        "import os\n",
        "from telegram.ext  import Updater, CommandHandler, MessageHandler, filters\n",
        "import string\n",
        "from pymorphy2 import MorphAnalyzer\n",
        "from stop_words import get_stop_words\n",
        "import annoy\n",
        "from gensim.models import Word2Vec, FastText\n",
        "import pickle\n",
        "import numpy as np\n",
        "from tqdm import tqdm_notebook\n",
        "import pandas as pd"
      ],
      "metadata": {
        "id": "7JrPlUrXOAzD"
      },
      "execution_count": 3,
      "outputs": []
    },
    {
      "cell_type": "code",
      "source": [
        "from google.colab import drive\n",
        "drive.mount('/content/drive')"
      ],
      "metadata": {
        "colab": {
          "base_uri": "https://localhost:8080/"
        },
        "id": "56KMVbDqOA2o",
        "outputId": "4b5a4de5-66c0-4332-c91b-7188dec24043"
      },
      "execution_count": 4,
      "outputs": [
        {
          "output_type": "stream",
          "name": "stdout",
          "text": [
            "Drive already mounted at /content/drive; to attempt to forcibly remount, call drive.mount(\"/content/drive\", force_remount=True).\n"
          ]
        }
      ]
    },
    {
      "cell_type": "code",
      "source": [
        "PATH = '/content/drive/MyDrive/Colab Notebooks/Otvety.txt'"
      ],
      "metadata": {
        "id": "dJYpnf5HOzin"
      },
      "execution_count": 5,
      "outputs": []
    },
    {
      "cell_type": "code",
      "source": [
        "assert True\n",
        "\n",
        "#Small preprocess of the answers\n",
        "\n",
        "question = None\n",
        "written = False\n",
        "\n",
        "with open(\"prepared_answers.txt\", \"w\") as fout:\n",
        "    with open(PATH, \"r\") as fin:\n",
        "        for line in tqdm_notebook(fin):\n",
        "            if line.startswith(\"---\"):\n",
        "                written = False\n",
        "                continue\n",
        "            if not written and question is not None:\n",
        "                fout.write(question.replace(\"\\t\", \" \").strip() + \"\\t\" + line.replace(\"\\t\", \" \"))\n",
        "                written = True\n",
        "                question = None\n",
        "                continue\n",
        "            if not written:\n",
        "                question = line.strip()\n",
        "                continue"
      ],
      "metadata": {
        "colab": {
          "base_uri": "https://localhost:8080/",
          "height": 101,
          "referenced_widgets": [
            "c9b92a95dc274ffe9205bafcddf38731",
            "61fd343af44547749cccdb2decf3b797",
            "96cbc04e837a4cc6b6e1ed38f56f00ad",
            "8494dad789a349328ab2524a548b16d9",
            "eace2c074cd14aeabea4743245763aaf",
            "673fee786a954851ac7256c150d2aa7a",
            "481c75cad468425caa0d0cb04aafe855",
            "978385f687d149bead63875146e2e75d",
            "820d925930b741619306078d66a47289",
            "cf850ee48c1f40d3942657e7cecb4d04",
            "fca21af3f9ba4542bba77ac54918282d"
          ]
        },
        "id": "bafUWmjhOzlv",
        "outputId": "4a1c7467-a39b-4606-e74d-feaf2fc03fa1"
      },
      "execution_count": 6,
      "outputs": [
        {
          "output_type": "stream",
          "name": "stderr",
          "text": [
            "<ipython-input-6-c21458b67912>:10: TqdmDeprecationWarning: This function will be removed in tqdm==5.0.0\n",
            "Please use `tqdm.notebook.tqdm` instead of `tqdm.tqdm_notebook`\n",
            "  for line in tqdm_notebook(fin):\n"
          ]
        },
        {
          "output_type": "display_data",
          "data": {
            "text/plain": [
              "0it [00:00, ?it/s]"
            ],
            "application/vnd.jupyter.widget-view+json": {
              "version_major": 2,
              "version_minor": 0,
              "model_id": "c9b92a95dc274ffe9205bafcddf38731"
            }
          },
          "metadata": {}
        }
      ]
    },
    {
      "cell_type": "code",
      "source": [
        "morpher = MorphAnalyzer()\n",
        "sw = set(get_stop_words(\"ru\"))\n",
        "exclude = set(string.punctuation)"
      ],
      "metadata": {
        "id": "j2UlgpbzOzpA"
      },
      "execution_count": 7,
      "outputs": []
    },
    {
      "cell_type": "code",
      "source": [
        "def preprocess_txt(line):\n",
        "    spls = \"\".join(i for i in line.strip() if i not in exclude).split()\n",
        "    spls = [morpher.parse(i.lower())[0].normal_form for i in spls]\n",
        "    spls = [i for i in spls if i not in sw and i != \"\"]\n",
        "    return spls"
      ],
      "metadata": {
        "id": "inqkbsv_Ozs1"
      },
      "execution_count": 8,
      "outputs": []
    },
    {
      "cell_type": "code",
      "source": [
        "def preprocess_txt1(line):\n",
        "    spls = \"\".join(i for i in line.strip() if i not in exclude).split()\n",
        "    spls = [morpher.parse(i.lower())[0].normal_form for i in spls]\n",
        "    spls = [i for i in spls if i != \"\"]\n",
        "    return spls"
      ],
      "metadata": {
        "id": "-lu7NSh3OA6N"
      },
      "execution_count": 9,
      "outputs": []
    },
    {
      "cell_type": "code",
      "source": [
        "assert True\n",
        "\n",
        "# Preprocess for models fitting\n",
        "\n",
        "sentences = []\n",
        "\n",
        "morpher = MorphAnalyzer()\n",
        "sw = set(get_stop_words(\"ru\"))\n",
        "exclude = set(string.punctuation)\n",
        "c = 0\n",
        "\n",
        "with open(PATH, \"r\") as fin:\n",
        "    for line in tqdm_notebook(fin):\n",
        "        spls = preprocess_txt(line)\n",
        "        sentences.append(spls)\n",
        "        c += 1\n",
        "        if c > 500000:\n",
        "            break"
      ],
      "metadata": {
        "colab": {
          "base_uri": "https://localhost:8080/",
          "height": 101,
          "referenced_widgets": [
            "3c9e3c073dd6417491b0bc8f2573a7ec",
            "b8f614a779d34c199995113dec0495bd",
            "94d12d4c33f847e291148065589f5824",
            "10b9f9b196fe41b58d60b146025f4786",
            "39fb055250e74618abbc846b35249554",
            "b27a684c1b34494da388557ac7b6ad2b",
            "82d02266e9a34344b92b764120670ee7",
            "81510d862b544c91b31330538ccbe966",
            "31c0e8cb448e4ef38bfeea043651dd05",
            "eda6033b3605471c905739db2d1e0e75",
            "96d913aec01c40a9947906412f757a6d"
          ]
        },
        "id": "czwlHg_PPT8R",
        "outputId": "a45c5fb2-6acc-43b1-d249-932e4c0021b9"
      },
      "execution_count": 10,
      "outputs": [
        {
          "output_type": "stream",
          "name": "stderr",
          "text": [
            "<ipython-input-10-57288e6b64a1>:13: TqdmDeprecationWarning: This function will be removed in tqdm==5.0.0\n",
            "Please use `tqdm.notebook.tqdm` instead of `tqdm.tqdm_notebook`\n",
            "  for line in tqdm_notebook(fin):\n"
          ]
        },
        {
          "output_type": "display_data",
          "data": {
            "text/plain": [
              "0it [00:00, ?it/s]"
            ],
            "application/vnd.jupyter.widget-view+json": {
              "version_major": 2,
              "version_minor": 0,
              "model_id": "3c9e3c073dd6417491b0bc8f2573a7ec"
            }
          },
          "metadata": {}
        }
      ]
    },
    {
      "cell_type": "code",
      "source": [
        "import pickle\n",
        "with open('/content/drive/MyDrive/Colab Notebooks/sent.pkl', 'wb') as f:\n",
        "   pickle.dump(sentences, f)"
      ],
      "metadata": {
        "id": "RQES3hHyPT_l"
      },
      "execution_count": 12,
      "outputs": []
    },
    {
      "cell_type": "code",
      "source": [
        "with open('/content/drive/MyDrive/Colab Notebooks/sent.pkl', 'rb') as f:\n",
        "  sentences = pickle.load(f)"
      ],
      "metadata": {
        "id": "5-wddaj8PUC6"
      },
      "execution_count": 13,
      "outputs": []
    },
    {
      "cell_type": "code",
      "source": [
        "print(len(sentences))\n",
        "sentences[600]"
      ],
      "metadata": {
        "colab": {
          "base_uri": "https://localhost:8080/"
        },
        "id": "4co14ifEPUF9",
        "outputId": "a97900b2-dd4b-4eb0-efef-63828081177e"
      },
      "execution_count": 11,
      "outputs": [
        {
          "output_type": "stream",
          "name": "stdout",
          "text": [
            "500001\n"
          ]
        },
        {
          "output_type": "execute_result",
          "data": {
            "text/plain": [
              "['посылать', 'посылать', 'посылать', 'далёкий']"
            ]
          },
          "metadata": {},
          "execution_count": 11
        }
      ]
    },
    {
      "cell_type": "code",
      "source": [
        "sentences = [i for i in sentences if len(i) > 2]\n",
        "print('start train fasttext')\n",
        "modelFT = FastText(sentences=sentences, vector_size=100, min_count=1, window=5, workers=8)\n",
        "modelFT.save(\"ft_model\")"
      ],
      "metadata": {
        "colab": {
          "base_uri": "https://localhost:8080/"
        },
        "id": "9b5JVedxPUJJ",
        "outputId": "4270afee-4699-48e7-beda-43f9cfe14aa0"
      },
      "execution_count": 12,
      "outputs": [
        {
          "output_type": "stream",
          "name": "stdout",
          "text": [
            "start train fasttext\n"
          ]
        }
      ]
    },
    {
      "cell_type": "code",
      "source": [
        "modelFT.save(\"/content/drive/MyDrive/Colab Notebooks/ft_model\")"
      ],
      "metadata": {
        "id": "6alsOXk6XM_o"
      },
      "execution_count": 17,
      "outputs": []
    },
    {
      "cell_type": "code",
      "source": [
        "modelFT = FastText.load(\"ft_model\")"
      ],
      "metadata": {
        "id": "gHzCm1XoXNC4"
      },
      "execution_count": 13,
      "outputs": []
    },
    {
      "cell_type": "code",
      "source": [
        "#modelFT = FastText.load(\"ft_model\")\n",
        "ft_index = annoy.AnnoyIndex(100 ,'angular')\n",
        "\n",
        "index_map = {}\n",
        "counter = 0\n",
        "\n",
        "with open(\"prepared_answers.txt\", \"r\") as f:\n",
        "    for line in tqdm_notebook(f):\n",
        "        n_ft = 0\n",
        "        spls = line.split(\"\\t\")\n",
        "        index_map[counter] = spls[1]\n",
        "        question = preprocess_txt(spls[0])\n",
        "        vector_ft = np.zeros(100)\n",
        "        for word in question:\n",
        "            if word in modelFT.wv:\n",
        "                vector_ft += modelFT.wv[word]\n",
        "                n_ft += 1\n",
        "        if n_ft > 0:\n",
        "            vector_ft = vector_ft / n_ft\n",
        "        ft_index.add_item(counter, vector_ft)\n",
        "            \n",
        "        counter += 1\n",
        "\n",
        "ft_index.build(10)\n",
        "ft_index.save('speaker.ann')"
      ],
      "metadata": {
        "colab": {
          "base_uri": "https://localhost:8080/",
          "height": 118,
          "referenced_widgets": [
            "7122640962ea477ea950f90450ef2cf8",
            "855c6ea993984dbe81329202fb50e9a1",
            "eab472c28c594b52839d9c13996ce60b",
            "24ec8c80e85743ff88b14b7f6298d2be",
            "e6e20e5de13b47c48f60ca10d3f57e32",
            "5cd72091a85c4675b9b8e4c2f5e9239b",
            "11568ee25d1b45d791a83cb09b75a8a9",
            "7510106183be421fb909f0623ba21ad0",
            "fddad8f2bb3b4a989f4d87792f471ba2",
            "82fbc65022244d8bb09fcd69022f625f",
            "56d60523403f45aab3171e57bb246952"
          ]
        },
        "id": "oV7Z7E0pXNFz",
        "outputId": "3ed23756-bddc-43f2-f657-85fb860300b5"
      },
      "execution_count": 14,
      "outputs": [
        {
          "output_type": "stream",
          "name": "stderr",
          "text": [
            "<ipython-input-14-8a15aa787f5c>:8: TqdmDeprecationWarning: This function will be removed in tqdm==5.0.0\n",
            "Please use `tqdm.notebook.tqdm` instead of `tqdm.tqdm_notebook`\n",
            "  for line in tqdm_notebook(f):\n"
          ]
        },
        {
          "output_type": "display_data",
          "data": {
            "text/plain": [
              "0it [00:00, ?it/s]"
            ],
            "application/vnd.jupyter.widget-view+json": {
              "version_major": 2,
              "version_minor": 0,
              "model_id": "7122640962ea477ea950f90450ef2cf8"
            }
          },
          "metadata": {}
        },
        {
          "output_type": "execute_result",
          "data": {
            "text/plain": [
              "True"
            ]
          },
          "metadata": {},
          "execution_count": 14
        }
      ]
    },
    {
      "cell_type": "code",
      "source": [
        "ft_index.save('/content/drive/MyDrive/Colab Notebooks/speaker.ann')"
      ],
      "metadata": {
        "colab": {
          "base_uri": "https://localhost:8080/"
        },
        "id": "9mpHxOtSXNI2",
        "outputId": "06fa0cdc-70c2-47b9-936e-6323defbf11f"
      },
      "execution_count": 20,
      "outputs": [
        {
          "output_type": "execute_result",
          "data": {
            "text/plain": [
              "True"
            ]
          },
          "metadata": {},
          "execution_count": 20
        }
      ]
    },
    {
      "cell_type": "code",
      "source": [
        "with open('/content/drive/MyDrive/Colab Notebooks/index_map.pkl', 'wb') as f:\n",
        "   pickle.dump(index_map, f)"
      ],
      "metadata": {
        "id": "xyt-ikI9XNMg"
      },
      "execution_count": 21,
      "outputs": []
    },
    {
      "cell_type": "code",
      "source": [
        "with open('/content/drive/MyDrive/Colab Notebooks/index_map.pkl', 'rb') as f:\n",
        "  index_map = pickle.load(f)"
      ],
      "metadata": {
        "id": "apjG6AhFXNPx"
      },
      "execution_count": 22,
      "outputs": []
    },
    {
      "cell_type": "code",
      "source": [
        "modelFT = FastText.load(\"ft_model\")"
      ],
      "metadata": {
        "id": "xBCOAVuWXNSg"
      },
      "execution_count": 23,
      "outputs": []
    },
    {
      "cell_type": "code",
      "source": [
        "ft_index = annoy.AnnoyIndex(100, 'angular')\n",
        "ft_index.load('speaker.ann') "
      ],
      "metadata": {
        "colab": {
          "base_uri": "https://localhost:8080/"
        },
        "id": "k3Ht9OwcXNVj",
        "outputId": "ab09f7c3-0d58-4a4d-88d7-eae54d29f257"
      },
      "execution_count": 24,
      "outputs": [
        {
          "output_type": "execute_result",
          "data": {
            "text/plain": [
              "True"
            ]
          },
          "metadata": {},
          "execution_count": 24
        }
      ]
    },
    {
      "cell_type": "code",
      "source": [
        "ft_index.get_nns_by_vector(np.zeros(100), 2)"
      ],
      "metadata": {
        "colab": {
          "base_uri": "https://localhost:8080/"
        },
        "id": "-PtQzj34XNYY",
        "outputId": "2863341a-037e-481f-f4ac-bebc350da023"
      },
      "execution_count": 15,
      "outputs": [
        {
          "output_type": "execute_result",
          "data": {
            "text/plain": [
              "[7375, 93099]"
            ]
          },
          "metadata": {},
          "execution_count": 15
        }
      ]
    },
    {
      "cell_type": "code",
      "source": [
        "df_rec = pd.read_csv('/content/all_recepies_inter.csv', sep='\\t')"
      ],
      "metadata": {
        "id": "-u2SiPPLuGFD"
      },
      "execution_count": 16,
      "outputs": []
    },
    {
      "cell_type": "code",
      "source": [
        "df_rec.head()"
      ],
      "metadata": {
        "colab": {
          "base_uri": "https://localhost:8080/",
          "height": 565
        },
        "id": "xSbcGTECvKWU",
        "outputId": "b9cb6f5c-27dd-402e-90b7-48b0bfb20fb3"
      },
      "execution_count": 17,
      "outputs": [
        {
          "output_type": "execute_result",
          "data": {
            "text/plain": [
              "   Unnamed: 0                                               name  \\\n",
              "0           0  рассольник классический с перловкой и солеными...   \n",
              "1           1                    Суп пюре из белокочаной капусты   \n",
              "2           2                     Постные щи из квашеной капусты   \n",
              "3           3                  Тюря- простой суп быстро и вкусно   \n",
              "4           4                    Фасолевый суп из красной фасоли   \n",
              "\n",
              "                                         composition         cooking_type  \\\n",
              "0  [{'Перловка': 0.1, 'unit': 'стак. (200 мл)'}, ...          варка,жарка   \n",
              "1  [{'Капуста белокочанная': 50.0, 'unit': 'гр'},...                варка   \n",
              "2  [{'Капуста квашеная': 116.7, 'unit': 'гр'}, {'...  варка,жарка,тушение   \n",
              "3  [{'Квас': 0.2, 'unit': 'л'}, {'Лук репчатый': ...                сырое   \n",
              "4  [{'Вода': 0.3, 'unit': 'л'}, {'Картошка': 0.3,...                варка   \n",
              "\n",
              "                                          Инструкции dish_type        Дата  \\\n",
              "0  Подготовить указанные ингредиенты для приготов...    первое  05.06.2015   \n",
              "1  Необходимые ингредиенты\\r\\nНарезаем лук, морко...    первое  27.06.2015   \n",
              "2  Честно признаюсь, у меня не было репы на момен...    первое  12.02.2013   \n",
              "3  \\r\\nНачинаем мы приготовление тюри с того, что...    первое  02.03.2011   \n",
              "4  Подготовить ингредиенты. Для приготовления суп...    первое  28.01.2013   \n",
              "\n",
              "                  photo                                             source  \\\n",
              "0  photo_1000menu_1.jpg  https://1000.menu/cooking/33395-rassolnik-s-pe...   \n",
              "1  photo_1000menu_2.jpg  https://1000.menu/cooking/25399-sup-pure-iz-be...   \n",
              "2  photo_1000menu_3.jpg       https://1000.menu/cooking/5159-postnje-shchi   \n",
              "3  photo_1000menu_4.jpg               https://1000.menu/cooking/5085-turya   \n",
              "4  photo_1000menu_5.jpg  https://1000.menu/cooking/38765-fasolevyi-sup-...   \n",
              "\n",
              "                                   composition_inter  \n",
              "0  [{'product_id': 4253, 'name_source': 'Перловая...  \n",
              "1  [{'product_id': 2286, 'name_source': 'Капуста ...  \n",
              "2  [{'product_id': 0, 'name_source': 'Капуста ква...  \n",
              "3  [{'product_id': 0, 'name_source': 'Квас', 'uni...  \n",
              "4  [{'product_id': 828, 'name_source': 'Вода', 'u...  "
            ],
            "text/html": [
              "\n",
              "  <div id=\"df-f9e50eb9-a963-41c8-82c6-a46a1f52aa18\">\n",
              "    <div class=\"colab-df-container\">\n",
              "      <div>\n",
              "<style scoped>\n",
              "    .dataframe tbody tr th:only-of-type {\n",
              "        vertical-align: middle;\n",
              "    }\n",
              "\n",
              "    .dataframe tbody tr th {\n",
              "        vertical-align: top;\n",
              "    }\n",
              "\n",
              "    .dataframe thead th {\n",
              "        text-align: right;\n",
              "    }\n",
              "</style>\n",
              "<table border=\"1\" class=\"dataframe\">\n",
              "  <thead>\n",
              "    <tr style=\"text-align: right;\">\n",
              "      <th></th>\n",
              "      <th>Unnamed: 0</th>\n",
              "      <th>name</th>\n",
              "      <th>composition</th>\n",
              "      <th>cooking_type</th>\n",
              "      <th>Инструкции</th>\n",
              "      <th>dish_type</th>\n",
              "      <th>Дата</th>\n",
              "      <th>photo</th>\n",
              "      <th>source</th>\n",
              "      <th>composition_inter</th>\n",
              "    </tr>\n",
              "  </thead>\n",
              "  <tbody>\n",
              "    <tr>\n",
              "      <th>0</th>\n",
              "      <td>0</td>\n",
              "      <td>рассольник классический с перловкой и солеными...</td>\n",
              "      <td>[{'Перловка': 0.1, 'unit': 'стак. (200 мл)'}, ...</td>\n",
              "      <td>варка,жарка</td>\n",
              "      <td>Подготовить указанные ингредиенты для приготов...</td>\n",
              "      <td>первое</td>\n",
              "      <td>05.06.2015</td>\n",
              "      <td>photo_1000menu_1.jpg</td>\n",
              "      <td>https://1000.menu/cooking/33395-rassolnik-s-pe...</td>\n",
              "      <td>[{'product_id': 4253, 'name_source': 'Перловая...</td>\n",
              "    </tr>\n",
              "    <tr>\n",
              "      <th>1</th>\n",
              "      <td>1</td>\n",
              "      <td>Суп пюре из белокочаной капусты</td>\n",
              "      <td>[{'Капуста белокочанная': 50.0, 'unit': 'гр'},...</td>\n",
              "      <td>варка</td>\n",
              "      <td>Необходимые ингредиенты\\r\\nНарезаем лук, морко...</td>\n",
              "      <td>первое</td>\n",
              "      <td>27.06.2015</td>\n",
              "      <td>photo_1000menu_2.jpg</td>\n",
              "      <td>https://1000.menu/cooking/25399-sup-pure-iz-be...</td>\n",
              "      <td>[{'product_id': 2286, 'name_source': 'Капуста ...</td>\n",
              "    </tr>\n",
              "    <tr>\n",
              "      <th>2</th>\n",
              "      <td>2</td>\n",
              "      <td>Постные щи из квашеной капусты</td>\n",
              "      <td>[{'Капуста квашеная': 116.7, 'unit': 'гр'}, {'...</td>\n",
              "      <td>варка,жарка,тушение</td>\n",
              "      <td>Честно признаюсь, у меня не было репы на момен...</td>\n",
              "      <td>первое</td>\n",
              "      <td>12.02.2013</td>\n",
              "      <td>photo_1000menu_3.jpg</td>\n",
              "      <td>https://1000.menu/cooking/5159-postnje-shchi</td>\n",
              "      <td>[{'product_id': 0, 'name_source': 'Капуста ква...</td>\n",
              "    </tr>\n",
              "    <tr>\n",
              "      <th>3</th>\n",
              "      <td>3</td>\n",
              "      <td>Тюря- простой суп быстро и вкусно</td>\n",
              "      <td>[{'Квас': 0.2, 'unit': 'л'}, {'Лук репчатый': ...</td>\n",
              "      <td>сырое</td>\n",
              "      <td>\\r\\nНачинаем мы приготовление тюри с того, что...</td>\n",
              "      <td>первое</td>\n",
              "      <td>02.03.2011</td>\n",
              "      <td>photo_1000menu_4.jpg</td>\n",
              "      <td>https://1000.menu/cooking/5085-turya</td>\n",
              "      <td>[{'product_id': 0, 'name_source': 'Квас', 'uni...</td>\n",
              "    </tr>\n",
              "    <tr>\n",
              "      <th>4</th>\n",
              "      <td>4</td>\n",
              "      <td>Фасолевый суп из красной фасоли</td>\n",
              "      <td>[{'Вода': 0.3, 'unit': 'л'}, {'Картошка': 0.3,...</td>\n",
              "      <td>варка</td>\n",
              "      <td>Подготовить ингредиенты. Для приготовления суп...</td>\n",
              "      <td>первое</td>\n",
              "      <td>28.01.2013</td>\n",
              "      <td>photo_1000menu_5.jpg</td>\n",
              "      <td>https://1000.menu/cooking/38765-fasolevyi-sup-...</td>\n",
              "      <td>[{'product_id': 828, 'name_source': 'Вода', 'u...</td>\n",
              "    </tr>\n",
              "  </tbody>\n",
              "</table>\n",
              "</div>\n",
              "      <button class=\"colab-df-convert\" onclick=\"convertToInteractive('df-f9e50eb9-a963-41c8-82c6-a46a1f52aa18')\"\n",
              "              title=\"Convert this dataframe to an interactive table.\"\n",
              "              style=\"display:none;\">\n",
              "        \n",
              "  <svg xmlns=\"http://www.w3.org/2000/svg\" height=\"24px\"viewBox=\"0 0 24 24\"\n",
              "       width=\"24px\">\n",
              "    <path d=\"M0 0h24v24H0V0z\" fill=\"none\"/>\n",
              "    <path d=\"M18.56 5.44l.94 2.06.94-2.06 2.06-.94-2.06-.94-.94-2.06-.94 2.06-2.06.94zm-11 1L8.5 8.5l.94-2.06 2.06-.94-2.06-.94L8.5 2.5l-.94 2.06-2.06.94zm10 10l.94 2.06.94-2.06 2.06-.94-2.06-.94-.94-2.06-.94 2.06-2.06.94z\"/><path d=\"M17.41 7.96l-1.37-1.37c-.4-.4-.92-.59-1.43-.59-.52 0-1.04.2-1.43.59L10.3 9.45l-7.72 7.72c-.78.78-.78 2.05 0 2.83L4 21.41c.39.39.9.59 1.41.59.51 0 1.02-.2 1.41-.59l7.78-7.78 2.81-2.81c.8-.78.8-2.07 0-2.86zM5.41 20L4 18.59l7.72-7.72 1.47 1.35L5.41 20z\"/>\n",
              "  </svg>\n",
              "      </button>\n",
              "      \n",
              "  <style>\n",
              "    .colab-df-container {\n",
              "      display:flex;\n",
              "      flex-wrap:wrap;\n",
              "      gap: 12px;\n",
              "    }\n",
              "\n",
              "    .colab-df-convert {\n",
              "      background-color: #E8F0FE;\n",
              "      border: none;\n",
              "      border-radius: 50%;\n",
              "      cursor: pointer;\n",
              "      display: none;\n",
              "      fill: #1967D2;\n",
              "      height: 32px;\n",
              "      padding: 0 0 0 0;\n",
              "      width: 32px;\n",
              "    }\n",
              "\n",
              "    .colab-df-convert:hover {\n",
              "      background-color: #E2EBFA;\n",
              "      box-shadow: 0px 1px 2px rgba(60, 64, 67, 0.3), 0px 1px 3px 1px rgba(60, 64, 67, 0.15);\n",
              "      fill: #174EA6;\n",
              "    }\n",
              "\n",
              "    [theme=dark] .colab-df-convert {\n",
              "      background-color: #3B4455;\n",
              "      fill: #D2E3FC;\n",
              "    }\n",
              "\n",
              "    [theme=dark] .colab-df-convert:hover {\n",
              "      background-color: #434B5C;\n",
              "      box-shadow: 0px 1px 3px 1px rgba(0, 0, 0, 0.15);\n",
              "      filter: drop-shadow(0px 1px 2px rgba(0, 0, 0, 0.3));\n",
              "      fill: #FFFFFF;\n",
              "    }\n",
              "  </style>\n",
              "\n",
              "      <script>\n",
              "        const buttonEl =\n",
              "          document.querySelector('#df-f9e50eb9-a963-41c8-82c6-a46a1f52aa18 button.colab-df-convert');\n",
              "        buttonEl.style.display =\n",
              "          google.colab.kernel.accessAllowed ? 'block' : 'none';\n",
              "\n",
              "        async function convertToInteractive(key) {\n",
              "          const element = document.querySelector('#df-f9e50eb9-a963-41c8-82c6-a46a1f52aa18');\n",
              "          const dataTable =\n",
              "            await google.colab.kernel.invokeFunction('convertToInteractive',\n",
              "                                                     [key], {});\n",
              "          if (!dataTable) return;\n",
              "\n",
              "          const docLinkHtml = 'Like what you see? Visit the ' +\n",
              "            '<a target=\"_blank\" href=https://colab.research.google.com/notebooks/data_table.ipynb>data table notebook</a>'\n",
              "            + ' to learn more about interactive tables.';\n",
              "          element.innerHTML = '';\n",
              "          dataTable['output_type'] = 'display_data';\n",
              "          await google.colab.output.renderOutput(dataTable, element);\n",
              "          const docLink = document.createElement('div');\n",
              "          docLink.innerHTML = docLinkHtml;\n",
              "          element.appendChild(docLink);\n",
              "        }\n",
              "      </script>\n",
              "    </div>\n",
              "  </div>\n",
              "  "
            ]
          },
          "metadata": {},
          "execution_count": 17
        }
      ]
    },
    {
      "cell_type": "code",
      "source": [
        "df_rec.shape"
      ],
      "metadata": {
        "colab": {
          "base_uri": "https://localhost:8080/"
        },
        "id": "Dw_onuR6vKZ7",
        "outputId": "eb6ab521-1783-44cd-a204-5711da724819"
      },
      "execution_count": 18,
      "outputs": [
        {
          "output_type": "execute_result",
          "data": {
            "text/plain": [
              "(27884, 10)"
            ]
          },
          "metadata": {},
          "execution_count": 18
        }
      ]
    },
    {
      "cell_type": "code",
      "source": [
        "data = df_rec.loc[:5000, 'Инструкции']"
      ],
      "metadata": {
        "id": "avKRjc2dvKdJ"
      },
      "execution_count": 19,
      "outputs": []
    },
    {
      "cell_type": "code",
      "source": [
        "import re\n",
        "from sklearn.model_selection import train_test_split\n",
        "\n",
        "def build_text_files(data_json, dest_path):\n",
        "    f = open(dest_path, 'w')\n",
        "    data = ''\n",
        "    for texts in data_json:\n",
        "        summary = str(texts).strip()\n",
        "        summary = re.sub(r\"\\s\", \" \", summary)\n",
        "        data += summary + \"  \"\n",
        "    f.write(data)"
      ],
      "metadata": {
        "id": "PR_WHjvDvKgw"
      },
      "execution_count": 20,
      "outputs": []
    },
    {
      "cell_type": "code",
      "source": [
        "train, test = train_test_split(data, test_size=0.15)\n",
        "\n",
        "build_text_files(train,'train_dataset.txt')\n",
        "build_text_files(test,'test_dataset.txt')"
      ],
      "metadata": {
        "id": "8-Tc29CXuGId"
      },
      "execution_count": 21,
      "outputs": []
    },
    {
      "cell_type": "code",
      "source": [
        "print(\"Train dataset length: \"+ str(len(train)))\n",
        "print(\"Test dataset length: \"+ str(len(test)))"
      ],
      "metadata": {
        "colab": {
          "base_uri": "https://localhost:8080/"
        },
        "id": "ghO0BnyfxeM1",
        "outputId": "bf89f35f-4c01-44c5-9e15-1a0f5a6dba12"
      },
      "execution_count": 22,
      "outputs": [
        {
          "output_type": "stream",
          "name": "stdout",
          "text": [
            "Train dataset length: 4250\n",
            "Test dataset length: 751\n"
          ]
        }
      ]
    },
    {
      "cell_type": "code",
      "source": [
        "!pip install transformers accelerate"
      ],
      "metadata": {
        "colab": {
          "base_uri": "https://localhost:8080/"
        },
        "id": "QVEld8f5TvFU",
        "outputId": "4b5a5ab0-e692-49f8-b197-f29052f49988"
      },
      "execution_count": 23,
      "outputs": [
        {
          "output_type": "stream",
          "name": "stdout",
          "text": [
            "Looking in indexes: https://pypi.org/simple, https://us-python.pkg.dev/colab-wheels/public/simple/\n",
            "Requirement already satisfied: transformers in /usr/local/lib/python3.10/dist-packages (4.29.2)\n",
            "Requirement already satisfied: accelerate in /usr/local/lib/python3.10/dist-packages (0.19.0)\n",
            "Requirement already satisfied: filelock in /usr/local/lib/python3.10/dist-packages (from transformers) (3.12.0)\n",
            "Requirement already satisfied: huggingface-hub<1.0,>=0.14.1 in /usr/local/lib/python3.10/dist-packages (from transformers) (0.15.1)\n",
            "Requirement already satisfied: numpy>=1.17 in /usr/local/lib/python3.10/dist-packages (from transformers) (1.22.4)\n",
            "Requirement already satisfied: packaging>=20.0 in /usr/local/lib/python3.10/dist-packages (from transformers) (23.1)\n",
            "Requirement already satisfied: pyyaml>=5.1 in /usr/local/lib/python3.10/dist-packages (from transformers) (6.0)\n",
            "Requirement already satisfied: regex!=2019.12.17 in /usr/local/lib/python3.10/dist-packages (from transformers) (2022.10.31)\n",
            "Requirement already satisfied: requests in /usr/local/lib/python3.10/dist-packages (from transformers) (2.27.1)\n",
            "Requirement already satisfied: tokenizers!=0.11.3,<0.14,>=0.11.1 in /usr/local/lib/python3.10/dist-packages (from transformers) (0.13.3)\n",
            "Requirement already satisfied: tqdm>=4.27 in /usr/local/lib/python3.10/dist-packages (from transformers) (4.65.0)\n",
            "Requirement already satisfied: psutil in /usr/local/lib/python3.10/dist-packages (from accelerate) (5.9.5)\n",
            "Requirement already satisfied: torch>=1.6.0 in /usr/local/lib/python3.10/dist-packages (from accelerate) (2.0.1+cu118)\n",
            "Requirement already satisfied: fsspec in /usr/local/lib/python3.10/dist-packages (from huggingface-hub<1.0,>=0.14.1->transformers) (2023.4.0)\n",
            "Requirement already satisfied: typing-extensions>=3.7.4.3 in /usr/local/lib/python3.10/dist-packages (from huggingface-hub<1.0,>=0.14.1->transformers) (4.5.0)\n",
            "Requirement already satisfied: sympy in /usr/local/lib/python3.10/dist-packages (from torch>=1.6.0->accelerate) (1.11.1)\n",
            "Requirement already satisfied: networkx in /usr/local/lib/python3.10/dist-packages (from torch>=1.6.0->accelerate) (3.1)\n",
            "Requirement already satisfied: jinja2 in /usr/local/lib/python3.10/dist-packages (from torch>=1.6.0->accelerate) (3.1.2)\n",
            "Requirement already satisfied: triton==2.0.0 in /usr/local/lib/python3.10/dist-packages (from torch>=1.6.0->accelerate) (2.0.0)\n",
            "Requirement already satisfied: cmake in /usr/local/lib/python3.10/dist-packages (from triton==2.0.0->torch>=1.6.0->accelerate) (3.25.2)\n",
            "Requirement already satisfied: lit in /usr/local/lib/python3.10/dist-packages (from triton==2.0.0->torch>=1.6.0->accelerate) (16.0.5)\n",
            "Requirement already satisfied: urllib3<1.27,>=1.21.1 in /usr/local/lib/python3.10/dist-packages (from requests->transformers) (1.26.15)\n",
            "Requirement already satisfied: certifi>=2017.4.17 in /usr/local/lib/python3.10/dist-packages (from requests->transformers) (2022.12.7)\n",
            "Requirement already satisfied: charset-normalizer~=2.0.0 in /usr/local/lib/python3.10/dist-packages (from requests->transformers) (2.0.12)\n",
            "Requirement already satisfied: idna<4,>=2.5 in /usr/local/lib/python3.10/dist-packages (from requests->transformers) (3.4)\n",
            "Requirement already satisfied: MarkupSafe>=2.0 in /usr/local/lib/python3.10/dist-packages (from jinja2->torch>=1.6.0->accelerate) (2.1.2)\n",
            "Requirement already satisfied: mpmath>=0.19 in /usr/local/lib/python3.10/dist-packages (from sympy->torch>=1.6.0->accelerate) (1.3.0)\n"
          ]
        }
      ]
    },
    {
      "cell_type": "code",
      "source": [
        "!pip install transformers"
      ],
      "metadata": {
        "colab": {
          "base_uri": "https://localhost:8080/"
        },
        "id": "6VSLnYz-xeRV",
        "outputId": "bf128d8d-55d5-47a9-d6f4-0bbd497d7744"
      },
      "execution_count": 24,
      "outputs": [
        {
          "output_type": "stream",
          "name": "stdout",
          "text": [
            "Looking in indexes: https://pypi.org/simple, https://us-python.pkg.dev/colab-wheels/public/simple/\n",
            "Requirement already satisfied: transformers in /usr/local/lib/python3.10/dist-packages (4.29.2)\n",
            "Requirement already satisfied: filelock in /usr/local/lib/python3.10/dist-packages (from transformers) (3.12.0)\n",
            "Requirement already satisfied: huggingface-hub<1.0,>=0.14.1 in /usr/local/lib/python3.10/dist-packages (from transformers) (0.15.1)\n",
            "Requirement already satisfied: numpy>=1.17 in /usr/local/lib/python3.10/dist-packages (from transformers) (1.22.4)\n",
            "Requirement already satisfied: packaging>=20.0 in /usr/local/lib/python3.10/dist-packages (from transformers) (23.1)\n",
            "Requirement already satisfied: pyyaml>=5.1 in /usr/local/lib/python3.10/dist-packages (from transformers) (6.0)\n",
            "Requirement already satisfied: regex!=2019.12.17 in /usr/local/lib/python3.10/dist-packages (from transformers) (2022.10.31)\n",
            "Requirement already satisfied: requests in /usr/local/lib/python3.10/dist-packages (from transformers) (2.27.1)\n",
            "Requirement already satisfied: tokenizers!=0.11.3,<0.14,>=0.11.1 in /usr/local/lib/python3.10/dist-packages (from transformers) (0.13.3)\n",
            "Requirement already satisfied: tqdm>=4.27 in /usr/local/lib/python3.10/dist-packages (from transformers) (4.65.0)\n",
            "Requirement already satisfied: fsspec in /usr/local/lib/python3.10/dist-packages (from huggingface-hub<1.0,>=0.14.1->transformers) (2023.4.0)\n",
            "Requirement already satisfied: typing-extensions>=3.7.4.3 in /usr/local/lib/python3.10/dist-packages (from huggingface-hub<1.0,>=0.14.1->transformers) (4.5.0)\n",
            "Requirement already satisfied: urllib3<1.27,>=1.21.1 in /usr/local/lib/python3.10/dist-packages (from requests->transformers) (1.26.15)\n",
            "Requirement already satisfied: certifi>=2017.4.17 in /usr/local/lib/python3.10/dist-packages (from requests->transformers) (2022.12.7)\n",
            "Requirement already satisfied: charset-normalizer~=2.0.0 in /usr/local/lib/python3.10/dist-packages (from requests->transformers) (2.0.12)\n",
            "Requirement already satisfied: idna<4,>=2.5 in /usr/local/lib/python3.10/dist-packages (from requests->transformers) (3.4)\n"
          ]
        }
      ]
    },
    {
      "cell_type": "code",
      "source": [
        "from transformers import AutoTokenizer\n",
        "#sberbank-ai/rugpt3large_based_on_gpt2\n",
        "#sberbank-ai/rugpt3medium_based_on_gpt2\n",
        "#sberbank-ai/rugpt3small_based_on_gpt2\n",
        "\n",
        "tokenizer = AutoTokenizer.from_pretrained(\"sberbank-ai/rugpt3small_based_on_gpt2\")"
      ],
      "metadata": {
        "colab": {
          "base_uri": "https://localhost:8080/"
        },
        "id": "RUitgumvxeUd",
        "outputId": "9daad99d-95a6-4e74-d403-fcc4c9f52984"
      },
      "execution_count": 25,
      "outputs": [
        {
          "output_type": "stream",
          "name": "stderr",
          "text": [
            "Special tokens have been added in the vocabulary, make sure the associated word embeddings are fine-tuned or trained.\n"
          ]
        }
      ]
    },
    {
      "cell_type": "code",
      "source": [
        "train_path = 'train_dataset.txt'\n",
        "test_path = 'test_dataset.txt'"
      ],
      "metadata": {
        "id": "3zMu8apwxeXc"
      },
      "execution_count": 26,
      "outputs": []
    },
    {
      "cell_type": "code",
      "source": [
        "from transformers import TextDataset, DataCollatorForLanguageModeling\n",
        "\n",
        "def load_dataset(train_path, test_path, tokenizer):\n",
        "    train_dataset = TextDataset(\n",
        "          tokenizer=tokenizer,\n",
        "          file_path=train_path,\n",
        "          block_size=128)\n",
        "\n",
        "    test_dataset = TextDataset(\n",
        "          tokenizer=tokenizer,\n",
        "          file_path=test_path,\n",
        "          block_size=128)\n",
        "\n",
        "    data_collator = DataCollatorForLanguageModeling(\n",
        "        tokenizer=tokenizer, mlm=False,\n",
        "    )\n",
        "    return train_dataset, test_dataset, data_collator\n",
        "\n",
        "train_dataset, test_dataset, data_collator = load_dataset(train_path, test_path, tokenizer)"
      ],
      "metadata": {
        "colab": {
          "base_uri": "https://localhost:8080/"
        },
        "id": "qPfPHgP2xece",
        "outputId": "f872e538-4241-4a18-a364-185d0925c034"
      },
      "execution_count": 27,
      "outputs": [
        {
          "output_type": "stream",
          "name": "stderr",
          "text": [
            "/usr/local/lib/python3.10/dist-packages/transformers/data/datasets/language_modeling.py:53: FutureWarning: This dataset will be removed from the library soon, preprocessing should be handled with the 🤗 Datasets library. You can have a look at this example script for pointers: https://github.com/huggingface/transformers/blob/main/examples/pytorch/language-modeling/run_mlm.py\n",
            "  warnings.warn(\n"
          ]
        }
      ]
    },
    {
      "cell_type": "code",
      "source": [
        "from transformers import Trainer, TrainingArguments, AutoModelForCausalLM\n",
        "\n",
        "model = AutoModelForCausalLM.from_pretrained(\"sberbank-ai/rugpt3small_based_on_gpt2\")"
      ],
      "metadata": {
        "id": "wbtTNlujxelm"
      },
      "execution_count": 28,
      "outputs": []
    },
    {
      "cell_type": "code",
      "source": [
        "training_args = TrainingArguments(\n",
        "     \"phrase\",\n",
        "    evaluation_strategy = \"epoch\",\n",
        "    per_device_train_batch_size=4,\n",
        "    per_device_eval_batch_size=4,\n",
        "    num_train_epochs=2,\n",
        "    learning_rate=1e-5,\n",
        "    weight_decay=0.01,\n",
        "    save_strategy='no',\n",
        "    report_to='none',\n",
        "    )"
      ],
      "metadata": {
        "id": "BoMEAIPmuGMf"
      },
      "execution_count": 29,
      "outputs": []
    },
    {
      "cell_type": "code",
      "source": [
        "trainer = Trainer(\n",
        "    model=model,\n",
        "    args=training_args,\n",
        "    data_collator=data_collator,\n",
        "    train_dataset=train_dataset,\n",
        "    eval_dataset=test_dataset\n",
        ")"
      ],
      "metadata": {
        "id": "tKS1MQiIOA-U"
      },
      "execution_count": 30,
      "outputs": []
    },
    {
      "cell_type": "code",
      "source": [
        "trainer.train()"
      ],
      "metadata": {
        "colab": {
          "base_uri": "https://localhost:8080/",
          "height": 245
        },
        "id": "dBlMRza9UAeC",
        "outputId": "20e42197-b38f-4f00-b1b6-6d1ca6250e3b"
      },
      "execution_count": 31,
      "outputs": [
        {
          "output_type": "stream",
          "name": "stderr",
          "text": [
            "/usr/local/lib/python3.10/dist-packages/transformers/optimization.py:407: FutureWarning: This implementation of AdamW is deprecated and will be removed in a future version. Use the PyTorch implementation torch.optim.AdamW instead, or set `no_deprecation_warning=True` to disable this warning\n",
            "  warnings.warn(\n"
          ]
        },
        {
          "output_type": "display_data",
          "data": {
            "text/plain": [
              "<IPython.core.display.HTML object>"
            ],
            "text/html": [
              "\n",
              "    <div>\n",
              "      \n",
              "      <progress value='3346' max='3346' style='width:300px; height:20px; vertical-align: middle;'></progress>\n",
              "      [3346/3346 10:26, Epoch 2/2]\n",
              "    </div>\n",
              "    <table border=\"1\" class=\"dataframe\">\n",
              "  <thead>\n",
              " <tr style=\"text-align: left;\">\n",
              "      <th>Epoch</th>\n",
              "      <th>Training Loss</th>\n",
              "      <th>Validation Loss</th>\n",
              "    </tr>\n",
              "  </thead>\n",
              "  <tbody>\n",
              "    <tr>\n",
              "      <td>1</td>\n",
              "      <td>2.405400</td>\n",
              "      <td>2.242479</td>\n",
              "    </tr>\n",
              "    <tr>\n",
              "      <td>2</td>\n",
              "      <td>2.307600</td>\n",
              "      <td>2.218620</td>\n",
              "    </tr>\n",
              "  </tbody>\n",
              "</table><p>"
            ]
          },
          "metadata": {}
        },
        {
          "output_type": "execute_result",
          "data": {
            "text/plain": [
              "TrainOutput(global_step=3346, training_loss=2.3735113514445887, metrics={'train_runtime': 630.0976, 'train_samples_per_second': 21.241, 'train_steps_per_second': 5.31, 'total_flos': 874283139072000.0, 'train_loss': 2.3735113514445887, 'epoch': 2.0})"
            ]
          },
          "metadata": {},
          "execution_count": 31
        }
      ]
    },
    {
      "cell_type": "code",
      "source": [
        "trainer.save_model()"
      ],
      "metadata": {
        "id": "knEFUcaSUAi_"
      },
      "execution_count": 32,
      "outputs": []
    },
    {
      "cell_type": "code",
      "source": [
        "tokenizer.save_pretrained('gpt_chf')\n",
        "model.save_pretrained('model_gpt_chf')"
      ],
      "metadata": {
        "id": "DGsYQHRAUAnY"
      },
      "execution_count": 34,
      "outputs": []
    },
    {
      "cell_type": "code",
      "source": [
        "tokenizer = AutoTokenizer.from_pretrained(\"gpt_chf\")\n",
        "model1 = AutoModelForCausalLM.from_pretrained(\"model_gpt_chf\")"
      ],
      "metadata": {
        "id": "-eJBI0-5UArn"
      },
      "execution_count": 35,
      "outputs": []
    },
    {
      "cell_type": "code",
      "source": [
        "prefix = \"берем свежие томаты \""
      ],
      "metadata": {
        "id": "YuRko33kXBgK"
      },
      "execution_count": 36,
      "outputs": []
    },
    {
      "cell_type": "code",
      "source": [
        "prefix = \"берем клубнику \""
      ],
      "metadata": {
        "id": "IxLb9bUeXBje"
      },
      "execution_count": 37,
      "outputs": []
    },
    {
      "cell_type": "code",
      "source": [
        "tokens = tokenizer(prefix, return_tensors='pt')\n",
        "#tokens = {k: v.to(model.device) for k, v in tokens.items()}"
      ],
      "metadata": {
        "id": "tNMBQdiPXBm3"
      },
      "execution_count": 38,
      "outputs": []
    },
    {
      "cell_type": "code",
      "source": [
        "#для теста оставляю длину +50\n",
        "\n",
        "size = tokens['input_ids'].shape[1]\n",
        "output = model1.generate( \n",
        "    **tokens, \n",
        "    #end_token=end_token_id,\n",
        "    do_sample=False, \n",
        "    max_length=size+50, \n",
        "    repetition_penalty=5., \n",
        "    temperature=0.5,\n",
        "    num_beams=2,\n",
        ")\n",
        "\n",
        "decoded = tokenizer.decode(output[0])\n",
        "result = decoded[len(prefix):]\n",
        "print(prefix + result)"
      ],
      "metadata": {
        "colab": {
          "base_uri": "https://localhost:8080/"
        },
        "id": "Nxjt2KWNXBp-",
        "outputId": "0b31fbcb-d9d1-4f8c-aea2-e30bd7df51dd"
      },
      "execution_count": 39,
      "outputs": [
        {
          "output_type": "stream",
          "name": "stderr",
          "text": [
            "Setting `pad_token_id` to `eos_token_id`:50256 for open-end generation.\n"
          ]
        },
        {
          "output_type": "stream",
          "name": "stdout",
          "text": [
            "берем клубнику  и нарежем ее кубиками. Посолим, поперчим и отправим в кастрюлю с кипящим бульоном. Варим до мягкости картофеля (около 10 минут).  2. В кастрюле разогреваем растительное масло и обжа\n"
          ]
        }
      ]
    },
    {
      "cell_type": "code",
      "source": [
        "def gpt_generate(prefix):\n",
        "  tokens = tokenizer(prefix, return_tensors='pt')\n",
        "  size = tokens['input_ids'].shape[1]\n",
        "  output = model1.generate( \n",
        "      **tokens, \n",
        "      #end_token=end_token_id,\n",
        "      do_sample=False, \n",
        "      max_length=size+50, \n",
        "      repetition_penalty=5., \n",
        "      temperature=0.5,\n",
        "      num_beams=2,\n",
        "  )\n",
        "\n",
        "  decoded = tokenizer.decode(output[0])\n",
        "  result = decoded[len(prefix):]\n",
        "  return prefix + result"
      ],
      "metadata": {
        "id": "EhP-UTP0XTum"
      },
      "execution_count": 40,
      "outputs": []
    },
    {
      "cell_type": "code",
      "source": [
        "gpt_generate(prefix)"
      ],
      "metadata": {
        "colab": {
          "base_uri": "https://localhost:8080/",
          "height": 70
        },
        "id": "yySIbu4JXTy9",
        "outputId": "eb733654-24cc-473d-e4be-da937ba70e4e"
      },
      "execution_count": 41,
      "outputs": [
        {
          "output_type": "stream",
          "name": "stderr",
          "text": [
            "Setting `pad_token_id` to `eos_token_id`:50256 for open-end generation.\n"
          ]
        },
        {
          "output_type": "execute_result",
          "data": {
            "text/plain": [
              "'берем клубнику  и нарежем ее кубиками. Посолим, поперчим и отправим в кастрюлю с кипящим бульоном. Варим до мягкости картофеля (около 10 минут).  2. В кастрюле разогреваем растительное масло и обжа'"
            ],
            "application/vnd.google.colaboratory.intrinsic+json": {
              "type": "string"
            }
          },
          "metadata": {},
          "execution_count": 41
        }
      ]
    },
    {
      "cell_type": "code",
      "source": [
        "data_new = data.apply(lambda x: preprocess_txt(str(x)))"
      ],
      "metadata": {
        "id": "gE81H5m-XT2o"
      },
      "execution_count": 42,
      "outputs": []
    },
    {
      "cell_type": "code",
      "source": [
        "data_new[:10]"
      ],
      "metadata": {
        "colab": {
          "base_uri": "https://localhost:8080/"
        },
        "id": "swhdOoKWXT6L",
        "outputId": "c88de436-2e38-4ef8-b926-ca437bb24401"
      },
      "execution_count": 43,
      "outputs": [
        {
          "output_type": "execute_result",
          "data": {
            "text/plain": [
              "0    [подготовить, указанный, ингредиент, приготовл...\n",
              "1    [необходимый, ингредиент, нарезать, лук, морко...\n",
              "2    [честно, признаться, репа, момент, приготовлен...\n",
              "3    [начинать, приготовление, тюри, заранее, подго...\n",
              "4    [подготовить, ингредиент, приготовление, суп, ...\n",
              "5    [мясо, нарезать, порционный, кусочек, оставлят...\n",
              "6    [брать, продукт, список, показать, фото, нагля...\n",
              "7    [продукт, приготовление, турецкий, суп, булгур...\n",
              "8    [приготовить, постный, гороховый, суп, подгото...\n",
              "9    [подготовить, указанный, продукт, создание, су...\n",
              "Name: Инструкции, dtype: object"
            ]
          },
          "metadata": {},
          "execution_count": 43
        }
      ]
    },
    {
      "cell_type": "code",
      "source": [
        "data_new.shape"
      ],
      "metadata": {
        "colab": {
          "base_uri": "https://localhost:8080/"
        },
        "id": "lkEU4rykXo-I",
        "outputId": "1ec3b6d7-1d69-4938-e3d2-d435f97fd36e"
      },
      "execution_count": 44,
      "outputs": [
        {
          "output_type": "execute_result",
          "data": {
            "text/plain": [
              "(5001,)"
            ]
          },
          "metadata": {},
          "execution_count": 44
        }
      ]
    },
    {
      "cell_type": "code",
      "source": [
        "from sklearn.feature_extraction.text import CountVectorizer\n",
        "from sklearn.linear_model import LogisticRegression\n",
        "\n",
        "vectorizer = CountVectorizer(ngram_range=(1, 2))"
      ],
      "metadata": {
        "id": "iu8nhJMHXpCN"
      },
      "execution_count": 45,
      "outputs": []
    },
    {
      "cell_type": "code",
      "source": [
        "idxs = set(np.random.randint(0, len(index_map), len(data)))"
      ],
      "metadata": {
        "id": "QWB1DYR0XpGA"
      },
      "execution_count": 46,
      "outputs": []
    },
    {
      "cell_type": "code",
      "source": [
        "negative_texts = [\" \".join(preprocess_txt(index_map[i])) for i in idxs]"
      ],
      "metadata": {
        "id": "DJr7j_30XpJy"
      },
      "execution_count": 47,
      "outputs": []
    },
    {
      "cell_type": "code",
      "source": [
        "len(negative_texts)"
      ],
      "metadata": {
        "colab": {
          "base_uri": "https://localhost:8080/"
        },
        "id": "2zY5coCNXpNN",
        "outputId": "f439054a-9535-47db-a9f5-03ae1ab37228"
      },
      "execution_count": 48,
      "outputs": [
        {
          "output_type": "execute_result",
          "data": {
            "text/plain": [
              "4989"
            ]
          },
          "metadata": {},
          "execution_count": 48
        }
      ]
    },
    {
      "cell_type": "code",
      "source": [
        "positive_texts = [\" \".join(val) for val in data_new.values]"
      ],
      "metadata": {
        "id": "Lao46nq7XpRH"
      },
      "execution_count": 49,
      "outputs": []
    },
    {
      "cell_type": "code",
      "source": [
        "len(positive_texts)"
      ],
      "metadata": {
        "colab": {
          "base_uri": "https://localhost:8080/"
        },
        "id": "AYqOwcPdXT9T",
        "outputId": "17a6f516-aa58-49e1-e4a0-2a9f009b215c"
      },
      "execution_count": 50,
      "outputs": [
        {
          "output_type": "execute_result",
          "data": {
            "text/plain": [
              "5001"
            ]
          },
          "metadata": {},
          "execution_count": 50
        }
      ]
    },
    {
      "cell_type": "code",
      "source": [
        "negative_texts[13], positive_texts[13]"
      ],
      "metadata": {
        "colab": {
          "base_uri": "https://localhost:8080/"
        },
        "id": "cxeuJ92GX4MC",
        "outputId": "e11f963b-c0e2-4c6e-b81b-a2c513eb06b5"
      },
      "execution_count": 51,
      "outputs": [
        {
          "output_type": "execute_result",
          "data": {
            "text/plain": [
              "('вкус пеницилин',\n",
              " 'приготовить ингредиент опёнок супчик хороший брать крупный оставить целый вкусно красиво набор овощ желание увеличить добавить макароны круп суп питательный сытный опёнок очищать земля мусор промывать проточный вода класть кастрюля заливать чистый вода добавлять соль варить 30 минута вода вариться опёнок сливать заливать свежеть вода приготовить овощ грибной супарепчатый лук чистить мелко реж морковь чистить натирать средний тёрка сковорода разогревать растительный масло класть подготовить репчатый лук морковь обжаривать овощ среднее огонь золотистость картофель чистить нарезать крупный кубик кастрюля опёнок класть овощной зажарка морковь репчатый лука добавлять порезать картофель ставить огонь доводить кипение убавлять огонь среднее добавлять соль вкус чёрный перец горошек варить 20 минутдобавлять лавровый лист сделать грибной суп ароматный варить 57 минута выключать огонь суп оставлять плита крышка потомиться 15 минута желание добавить суп мелко порезать зелень укроп петрушка усилить вкус суп сделать ароматнеезатем грибной суп разливать супница подавать стол желание грибной суп опёнок подать сметана свежеть зелень чеснок ржаной хлеб получаться вкусно приятный аппетит')"
            ]
          },
          "metadata": {},
          "execution_count": 51
        }
      ]
    },
    {
      "cell_type": "code",
      "source": [
        "dataset = negative_texts + positive_texts\n",
        "labels = np.zeros(len(dataset))\n",
        "labels[len(negative_texts):] = np.ones(len(positive_texts))"
      ],
      "metadata": {
        "id": "m3JrFN2QX4Pv"
      },
      "execution_count": 52,
      "outputs": []
    },
    {
      "cell_type": "code",
      "source": [
        "from sklearn.model_selection import train_test_split\n",
        "\n",
        "X_train, X_test, y_train, y_test = train_test_split(dataset, labels, test_size=0.2, stratify=labels,\n",
        "                                                    random_state=13)"
      ],
      "metadata": {
        "id": "d2LuULEmX4Uk"
      },
      "execution_count": 53,
      "outputs": []
    },
    {
      "cell_type": "code",
      "source": [
        "!pip install catboost"
      ],
      "metadata": {
        "colab": {
          "base_uri": "https://localhost:8080/"
        },
        "id": "lzLfAk9uX4YT",
        "outputId": "5fb76984-65e6-4d6e-83f3-edb2d414b3cc"
      },
      "execution_count": 54,
      "outputs": [
        {
          "output_type": "stream",
          "name": "stdout",
          "text": [
            "Looking in indexes: https://pypi.org/simple, https://us-python.pkg.dev/colab-wheels/public/simple/\n",
            "Collecting catboost\n",
            "  Downloading catboost-1.2-cp310-cp310-manylinux2014_x86_64.whl (98.6 MB)\n",
            "\u001b[2K     \u001b[90m━━━━━━━━━━━━━━━━━━━━━━━━━━━━━━━━━━━━━━━━\u001b[0m \u001b[32m98.6/98.6 MB\u001b[0m \u001b[31m2.4 MB/s\u001b[0m eta \u001b[36m0:00:00\u001b[0m\n",
            "\u001b[?25hRequirement already satisfied: graphviz in /usr/local/lib/python3.10/dist-packages (from catboost) (0.20.1)\n",
            "Requirement already satisfied: matplotlib in /usr/local/lib/python3.10/dist-packages (from catboost) (3.7.1)\n",
            "Requirement already satisfied: numpy>=1.16.0 in /usr/local/lib/python3.10/dist-packages (from catboost) (1.22.4)\n",
            "Requirement already satisfied: pandas>=0.24 in /usr/local/lib/python3.10/dist-packages (from catboost) (1.5.3)\n",
            "Requirement already satisfied: scipy in /usr/local/lib/python3.10/dist-packages (from catboost) (1.10.1)\n",
            "Requirement already satisfied: plotly in /usr/local/lib/python3.10/dist-packages (from catboost) (5.13.1)\n",
            "Requirement already satisfied: six in /usr/local/lib/python3.10/dist-packages (from catboost) (1.16.0)\n",
            "Requirement already satisfied: python-dateutil>=2.8.1 in /usr/local/lib/python3.10/dist-packages (from pandas>=0.24->catboost) (2.8.2)\n",
            "Requirement already satisfied: pytz>=2020.1 in /usr/local/lib/python3.10/dist-packages (from pandas>=0.24->catboost) (2022.7.1)\n",
            "Requirement already satisfied: contourpy>=1.0.1 in /usr/local/lib/python3.10/dist-packages (from matplotlib->catboost) (1.0.7)\n",
            "Requirement already satisfied: cycler>=0.10 in /usr/local/lib/python3.10/dist-packages (from matplotlib->catboost) (0.11.0)\n",
            "Requirement already satisfied: fonttools>=4.22.0 in /usr/local/lib/python3.10/dist-packages (from matplotlib->catboost) (4.39.3)\n",
            "Requirement already satisfied: kiwisolver>=1.0.1 in /usr/local/lib/python3.10/dist-packages (from matplotlib->catboost) (1.4.4)\n",
            "Requirement already satisfied: packaging>=20.0 in /usr/local/lib/python3.10/dist-packages (from matplotlib->catboost) (23.1)\n",
            "Requirement already satisfied: pillow>=6.2.0 in /usr/local/lib/python3.10/dist-packages (from matplotlib->catboost) (8.4.0)\n",
            "Requirement already satisfied: pyparsing>=2.3.1 in /usr/local/lib/python3.10/dist-packages (from matplotlib->catboost) (3.0.9)\n",
            "Requirement already satisfied: tenacity>=6.2.0 in /usr/local/lib/python3.10/dist-packages (from plotly->catboost) (8.2.2)\n",
            "Installing collected packages: catboost\n",
            "Successfully installed catboost-1.2\n"
          ]
        }
      ]
    },
    {
      "cell_type": "code",
      "source": [
        "from catboost import CatBoostClassifier\n",
        "cat = CatBoostClassifier()\n",
        "x_train_vec = vectorizer.fit_transform(X_train)\n",
        "x_test_vec = vectorizer.transform(X_test)\n",
        "\n",
        "cat_new = cat.fit(x_train_vec, y_train)"
      ],
      "metadata": {
        "colab": {
          "base_uri": "https://localhost:8080/"
        },
        "id": "08IFbdtWYBf4",
        "outputId": "2a556d7c-cc35-4cc3-e48a-c1e696719aa7"
      },
      "execution_count": 55,
      "outputs": [
        {
          "output_type": "stream",
          "name": "stdout",
          "text": [
            "Learning rate set to 0.025025\n",
            "0:\tlearn: 0.6436662\ttotal: 3.56s\tremaining: 59m 16s\n",
            "1:\tlearn: 0.5988075\ttotal: 6.54s\tremaining: 54m 24s\n",
            "2:\tlearn: 0.5592588\ttotal: 9.12s\tremaining: 50m 30s\n",
            "3:\tlearn: 0.5212441\ttotal: 11.5s\tremaining: 47m 54s\n",
            "4:\tlearn: 0.4873052\ttotal: 14.2s\tremaining: 47m 3s\n",
            "5:\tlearn: 0.4548853\ttotal: 17.6s\tremaining: 48m 35s\n",
            "6:\tlearn: 0.4274436\ttotal: 22.4s\tremaining: 52m 56s\n",
            "7:\tlearn: 0.4013688\ttotal: 24.5s\tremaining: 50m 41s\n",
            "8:\tlearn: 0.3777522\ttotal: 26.1s\tremaining: 47m 59s\n",
            "9:\tlearn: 0.3555251\ttotal: 27.9s\tremaining: 46m 1s\n",
            "10:\tlearn: 0.3328967\ttotal: 30s\tremaining: 45m\n",
            "11:\tlearn: 0.3153006\ttotal: 31.5s\tremaining: 43m 14s\n",
            "12:\tlearn: 0.2989453\ttotal: 32.5s\tremaining: 41m 3s\n",
            "13:\tlearn: 0.2837025\ttotal: 33.4s\tremaining: 39m 10s\n",
            "14:\tlearn: 0.2697593\ttotal: 34.9s\tremaining: 38m 9s\n",
            "15:\tlearn: 0.2555292\ttotal: 36.4s\tremaining: 37m 17s\n",
            "16:\tlearn: 0.2428330\ttotal: 38s\tremaining: 36m 39s\n",
            "17:\tlearn: 0.2315095\ttotal: 39.2s\tremaining: 35m 36s\n",
            "18:\tlearn: 0.2200345\ttotal: 40.1s\tremaining: 34m 30s\n",
            "19:\tlearn: 0.2097711\ttotal: 41s\tremaining: 33m 30s\n",
            "20:\tlearn: 0.1997465\ttotal: 42s\tremaining: 32m 36s\n",
            "21:\tlearn: 0.1897677\ttotal: 42.9s\tremaining: 31m 47s\n",
            "22:\tlearn: 0.1809372\ttotal: 43.8s\tremaining: 31m 1s\n",
            "23:\tlearn: 0.1734270\ttotal: 44.7s\tremaining: 30m 19s\n",
            "24:\tlearn: 0.1657378\ttotal: 45.7s\tremaining: 29m 40s\n",
            "25:\tlearn: 0.1584932\ttotal: 46.6s\tremaining: 29m 5s\n",
            "26:\tlearn: 0.1517106\ttotal: 47.5s\tremaining: 28m 32s\n",
            "27:\tlearn: 0.1453357\ttotal: 48.5s\tremaining: 28m 2s\n",
            "28:\tlearn: 0.1393785\ttotal: 50.1s\tremaining: 27m 56s\n",
            "29:\tlearn: 0.1337574\ttotal: 51.7s\tremaining: 27m 50s\n",
            "30:\tlearn: 0.1290975\ttotal: 53.3s\tremaining: 27m 46s\n",
            "31:\tlearn: 0.1243462\ttotal: 54.3s\tremaining: 27m 21s\n",
            "32:\tlearn: 0.1198906\ttotal: 55.2s\tremaining: 26m 57s\n",
            "33:\tlearn: 0.1160660\ttotal: 56.1s\tremaining: 26m 35s\n",
            "34:\tlearn: 0.1124741\ttotal: 57.1s\tremaining: 26m 13s\n",
            "35:\tlearn: 0.1091678\ttotal: 58s\tremaining: 25m 53s\n",
            "36:\tlearn: 0.1052278\ttotal: 58.9s\tremaining: 25m 34s\n",
            "37:\tlearn: 0.1017936\ttotal: 59.9s\tremaining: 25m 16s\n",
            "38:\tlearn: 0.0987932\ttotal: 1m\tremaining: 24m 58s\n",
            "39:\tlearn: 0.0957346\ttotal: 1m 1s\tremaining: 24m 41s\n",
            "40:\tlearn: 0.0924754\ttotal: 1m 2s\tremaining: 24m 25s\n",
            "41:\tlearn: 0.0899825\ttotal: 1m 3s\tremaining: 24m 12s\n",
            "42:\tlearn: 0.0873985\ttotal: 1m 5s\tremaining: 24m 11s\n",
            "43:\tlearn: 0.0853199\ttotal: 1m 6s\tremaining: 24m 11s\n",
            "44:\tlearn: 0.0831769\ttotal: 1m 8s\tremaining: 24m 11s\n",
            "45:\tlearn: 0.0808632\ttotal: 1m 9s\tremaining: 23m 58s\n",
            "46:\tlearn: 0.0787428\ttotal: 1m 10s\tremaining: 23m 46s\n",
            "47:\tlearn: 0.0768720\ttotal: 1m 11s\tremaining: 23m 33s\n",
            "48:\tlearn: 0.0751869\ttotal: 1m 12s\tremaining: 23m 25s\n",
            "49:\tlearn: 0.0735293\ttotal: 1m 14s\tremaining: 23m 27s\n",
            "50:\tlearn: 0.0718629\ttotal: 1m 15s\tremaining: 23m 24s\n",
            "51:\tlearn: 0.0702702\ttotal: 1m 16s\tremaining: 23m 20s\n",
            "52:\tlearn: 0.0687685\ttotal: 1m 18s\tremaining: 23m 16s\n",
            "53:\tlearn: 0.0673910\ttotal: 1m 20s\tremaining: 23m 33s\n",
            "54:\tlearn: 0.0659886\ttotal: 1m 23s\tremaining: 23m 52s\n",
            "55:\tlearn: 0.0646562\ttotal: 1m 25s\tremaining: 24m 6s\n",
            "56:\tlearn: 0.0633785\ttotal: 1m 27s\tremaining: 24m 13s\n",
            "57:\tlearn: 0.0620894\ttotal: 1m 29s\tremaining: 24m 8s\n",
            "58:\tlearn: 0.0608079\ttotal: 1m 30s\tremaining: 23m 57s\n",
            "59:\tlearn: 0.0598226\ttotal: 1m 31s\tremaining: 23m 46s\n",
            "60:\tlearn: 0.0587266\ttotal: 1m 31s\tremaining: 23m 36s\n",
            "61:\tlearn: 0.0578036\ttotal: 1m 32s\tremaining: 23m 25s\n",
            "62:\tlearn: 0.0569319\ttotal: 1m 33s\tremaining: 23m 15s\n",
            "63:\tlearn: 0.0561252\ttotal: 1m 34s\tremaining: 23m 5s\n",
            "64:\tlearn: 0.0551882\ttotal: 1m 36s\tremaining: 23m 1s\n",
            "65:\tlearn: 0.0544780\ttotal: 1m 37s\tremaining: 22m 59s\n",
            "66:\tlearn: 0.0535818\ttotal: 1m 39s\tremaining: 22m 59s\n",
            "67:\tlearn: 0.0531326\ttotal: 1m 40s\tremaining: 22m 55s\n",
            "68:\tlearn: 0.0530234\ttotal: 1m 41s\tremaining: 22m 46s\n",
            "69:\tlearn: 0.0528945\ttotal: 1m 42s\tremaining: 22m 37s\n",
            "70:\tlearn: 0.0520877\ttotal: 1m 43s\tremaining: 22m 28s\n",
            "71:\tlearn: 0.0519662\ttotal: 1m 43s\tremaining: 22m 19s\n",
            "72:\tlearn: 0.0518421\ttotal: 1m 44s\tremaining: 22m 10s\n",
            "73:\tlearn: 0.0517340\ttotal: 1m 45s\tremaining: 22m 2s\n",
            "74:\tlearn: 0.0516214\ttotal: 1m 46s\tremaining: 21m 54s\n",
            "75:\tlearn: 0.0515259\ttotal: 1m 47s\tremaining: 21m 46s\n",
            "76:\tlearn: 0.0508937\ttotal: 1m 48s\tremaining: 21m 39s\n",
            "77:\tlearn: 0.0507998\ttotal: 1m 49s\tremaining: 21m 31s\n",
            "78:\tlearn: 0.0503176\ttotal: 1m 50s\tremaining: 21m 26s\n",
            "79:\tlearn: 0.0502257\ttotal: 1m 51s\tremaining: 21m 24s\n",
            "80:\tlearn: 0.0501235\ttotal: 1m 53s\tremaining: 21m 23s\n",
            "81:\tlearn: 0.0500342\ttotal: 1m 54s\tremaining: 21m 23s\n",
            "82:\tlearn: 0.0499311\ttotal: 1m 55s\tremaining: 21m 18s\n",
            "83:\tlearn: 0.0498365\ttotal: 1m 56s\tremaining: 21m 12s\n",
            "84:\tlearn: 0.0497452\ttotal: 1m 57s\tremaining: 21m 5s\n",
            "85:\tlearn: 0.0496585\ttotal: 1m 58s\tremaining: 20m 58s\n",
            "86:\tlearn: 0.0495753\ttotal: 1m 59s\tremaining: 20m 51s\n",
            "87:\tlearn: 0.0494993\ttotal: 2m\tremaining: 20m 48s\n",
            "88:\tlearn: 0.0494226\ttotal: 2m 1s\tremaining: 20m 44s\n",
            "89:\tlearn: 0.0493400\ttotal: 2m 2s\tremaining: 20m 37s\n",
            "90:\tlearn: 0.0492628\ttotal: 2m 3s\tremaining: 20m 31s\n",
            "91:\tlearn: 0.0491813\ttotal: 2m 4s\tremaining: 20m 26s\n",
            "92:\tlearn: 0.0485087\ttotal: 2m 5s\tremaining: 20m 20s\n",
            "93:\tlearn: 0.0478470\ttotal: 2m 6s\tremaining: 20m 19s\n",
            "94:\tlearn: 0.0477360\ttotal: 2m 8s\tremaining: 20m 19s\n",
            "95:\tlearn: 0.0476614\ttotal: 2m 9s\tremaining: 20m 19s\n",
            "96:\tlearn: 0.0476048\ttotal: 2m 10s\tremaining: 20m 16s\n",
            "97:\tlearn: 0.0475334\ttotal: 2m 11s\tremaining: 20m 11s\n",
            "98:\tlearn: 0.0474368\ttotal: 2m 12s\tremaining: 20m 6s\n",
            "99:\tlearn: 0.0473744\ttotal: 2m 13s\tremaining: 20m 1s\n",
            "100:\tlearn: 0.0471197\ttotal: 2m 14s\tremaining: 19m 56s\n",
            "101:\tlearn: 0.0470570\ttotal: 2m 15s\tremaining: 19m 50s\n",
            "102:\tlearn: 0.0470022\ttotal: 2m 16s\tremaining: 19m 45s\n",
            "103:\tlearn: 0.0469460\ttotal: 2m 17s\tremaining: 19m 40s\n",
            "104:\tlearn: 0.0468926\ttotal: 2m 17s\tremaining: 19m 35s\n",
            "105:\tlearn: 0.0468373\ttotal: 2m 18s\tremaining: 19m 30s\n",
            "106:\tlearn: 0.0467856\ttotal: 2m 19s\tremaining: 19m 25s\n",
            "107:\tlearn: 0.0467251\ttotal: 2m 20s\tremaining: 19m 21s\n",
            "108:\tlearn: 0.0466668\ttotal: 2m 22s\tremaining: 19m 22s\n",
            "109:\tlearn: 0.0466204\ttotal: 2m 23s\tremaining: 19m 22s\n",
            "110:\tlearn: 0.0465584\ttotal: 2m 25s\tremaining: 19m 23s\n",
            "111:\tlearn: 0.0459955\ttotal: 2m 26s\tremaining: 19m 23s\n",
            "112:\tlearn: 0.0459371\ttotal: 2m 28s\tremaining: 19m 23s\n",
            "113:\tlearn: 0.0458916\ttotal: 2m 29s\tremaining: 19m 18s\n",
            "114:\tlearn: 0.0458176\ttotal: 2m 30s\tremaining: 19m 14s\n",
            "115:\tlearn: 0.0457697\ttotal: 2m 30s\tremaining: 19m 10s\n",
            "116:\tlearn: 0.0457181\ttotal: 2m 31s\tremaining: 19m 5s\n",
            "117:\tlearn: 0.0456644\ttotal: 2m 32s\tremaining: 19m 1s\n",
            "118:\tlearn: 0.0456168\ttotal: 2m 33s\tremaining: 18m 57s\n",
            "119:\tlearn: 0.0455645\ttotal: 2m 34s\tremaining: 18m 53s\n",
            "120:\tlearn: 0.0455052\ttotal: 2m 35s\tremaining: 18m 49s\n",
            "121:\tlearn: 0.0454639\ttotal: 2m 37s\tremaining: 18m 50s\n",
            "122:\tlearn: 0.0454065\ttotal: 2m 38s\tremaining: 18m 49s\n",
            "123:\tlearn: 0.0453561\ttotal: 2m 40s\tremaining: 18m 50s\n",
            "124:\tlearn: 0.0453182\ttotal: 2m 41s\tremaining: 18m 47s\n",
            "125:\tlearn: 0.0452819\ttotal: 2m 41s\tremaining: 18m 43s\n",
            "126:\tlearn: 0.0445890\ttotal: 2m 42s\tremaining: 18m 39s\n",
            "127:\tlearn: 0.0445429\ttotal: 2m 43s\tremaining: 18m 36s\n",
            "128:\tlearn: 0.0444995\ttotal: 2m 44s\tremaining: 18m 32s\n",
            "129:\tlearn: 0.0444538\ttotal: 2m 45s\tremaining: 18m 28s\n",
            "130:\tlearn: 0.0444182\ttotal: 2m 46s\tremaining: 18m 24s\n",
            "131:\tlearn: 0.0443725\ttotal: 2m 47s\tremaining: 18m 21s\n",
            "132:\tlearn: 0.0443384\ttotal: 2m 48s\tremaining: 18m 17s\n",
            "133:\tlearn: 0.0442979\ttotal: 2m 49s\tremaining: 18m 13s\n",
            "134:\tlearn: 0.0442571\ttotal: 2m 50s\tremaining: 18m 10s\n",
            "135:\tlearn: 0.0442071\ttotal: 2m 51s\tremaining: 18m 11s\n",
            "136:\tlearn: 0.0441461\ttotal: 2m 53s\tremaining: 18m 11s\n",
            "137:\tlearn: 0.0441112\ttotal: 2m 54s\tremaining: 18m 11s\n",
            "138:\tlearn: 0.0440611\ttotal: 2m 55s\tremaining: 18m 9s\n",
            "139:\tlearn: 0.0440273\ttotal: 2m 56s\tremaining: 18m 5s\n",
            "140:\tlearn: 0.0439938\ttotal: 2m 57s\tremaining: 18m 1s\n",
            "141:\tlearn: 0.0439622\ttotal: 2m 58s\tremaining: 17m 58s\n",
            "142:\tlearn: 0.0439243\ttotal: 2m 59s\tremaining: 17m 55s\n",
            "143:\tlearn: 0.0438873\ttotal: 3m\tremaining: 17m 51s\n",
            "144:\tlearn: 0.0438541\ttotal: 3m 1s\tremaining: 17m 48s\n",
            "145:\tlearn: 0.0438211\ttotal: 3m 2s\tremaining: 17m 45s\n",
            "146:\tlearn: 0.0437799\ttotal: 3m 2s\tremaining: 17m 41s\n",
            "147:\tlearn: 0.0437500\ttotal: 3m 3s\tremaining: 17m 38s\n",
            "148:\tlearn: 0.0437132\ttotal: 3m 4s\tremaining: 17m 35s\n",
            "149:\tlearn: 0.0436727\ttotal: 3m 6s\tremaining: 17m 37s\n",
            "150:\tlearn: 0.0436412\ttotal: 3m 8s\tremaining: 17m 39s\n",
            "151:\tlearn: 0.0436073\ttotal: 3m 9s\tremaining: 17m 39s\n",
            "152:\tlearn: 0.0430381\ttotal: 3m 11s\tremaining: 17m 37s\n",
            "153:\tlearn: 0.0430040\ttotal: 3m 11s\tremaining: 17m 34s\n",
            "154:\tlearn: 0.0429725\ttotal: 3m 12s\tremaining: 17m 31s\n",
            "155:\tlearn: 0.0429416\ttotal: 3m 13s\tremaining: 17m 28s\n",
            "156:\tlearn: 0.0429059\ttotal: 3m 14s\tremaining: 17m 25s\n",
            "157:\tlearn: 0.0424775\ttotal: 3m 15s\tremaining: 17m 22s\n",
            "158:\tlearn: 0.0424449\ttotal: 3m 16s\tremaining: 17m 19s\n",
            "159:\tlearn: 0.0424123\ttotal: 3m 17s\tremaining: 17m 16s\n",
            "160:\tlearn: 0.0423815\ttotal: 3m 18s\tremaining: 17m 13s\n",
            "161:\tlearn: 0.0423531\ttotal: 3m 19s\tremaining: 17m 10s\n",
            "162:\tlearn: 0.0423112\ttotal: 3m 20s\tremaining: 17m 7s\n",
            "163:\tlearn: 0.0419911\ttotal: 3m 21s\tremaining: 17m 6s\n",
            "164:\tlearn: 0.0419609\ttotal: 3m 22s\tremaining: 17m 6s\n",
            "165:\tlearn: 0.0419308\ttotal: 3m 24s\tremaining: 17m 7s\n",
            "166:\tlearn: 0.0419014\ttotal: 3m 25s\tremaining: 17m 6s\n",
            "167:\tlearn: 0.0418727\ttotal: 3m 26s\tremaining: 17m 3s\n",
            "168:\tlearn: 0.0418322\ttotal: 3m 27s\tremaining: 17m\n",
            "169:\tlearn: 0.0417921\ttotal: 3m 28s\tremaining: 16m 58s\n",
            "170:\tlearn: 0.0417630\ttotal: 3m 29s\tremaining: 16m 55s\n",
            "171:\tlearn: 0.0417315\ttotal: 3m 30s\tremaining: 16m 52s\n",
            "172:\tlearn: 0.0416984\ttotal: 3m 31s\tremaining: 16m 49s\n",
            "173:\tlearn: 0.0416685\ttotal: 3m 32s\tremaining: 16m 47s\n",
            "174:\tlearn: 0.0416255\ttotal: 3m 33s\tremaining: 16m 44s\n",
            "175:\tlearn: 0.0416007\ttotal: 3m 33s\tremaining: 16m 41s\n",
            "176:\tlearn: 0.0415705\ttotal: 3m 34s\tremaining: 16m 38s\n",
            "177:\tlearn: 0.0415408\ttotal: 3m 35s\tremaining: 16m 36s\n",
            "178:\tlearn: 0.0415029\ttotal: 3m 37s\tremaining: 16m 36s\n",
            "179:\tlearn: 0.0414785\ttotal: 3m 38s\tremaining: 16m 36s\n",
            "180:\tlearn: 0.0414370\ttotal: 3m 40s\tremaining: 16m 36s\n",
            "181:\tlearn: 0.0414026\ttotal: 3m 41s\tremaining: 16m 34s\n",
            "182:\tlearn: 0.0413726\ttotal: 3m 42s\tremaining: 16m 32s\n",
            "183:\tlearn: 0.0413460\ttotal: 3m 43s\tremaining: 16m 29s\n",
            "184:\tlearn: 0.0413067\ttotal: 3m 44s\tremaining: 16m 27s\n",
            "185:\tlearn: 0.0412813\ttotal: 3m 44s\tremaining: 16m 24s\n",
            "186:\tlearn: 0.0412560\ttotal: 3m 45s\tremaining: 16m 22s\n",
            "187:\tlearn: 0.0412203\ttotal: 3m 46s\tremaining: 16m 19s\n",
            "188:\tlearn: 0.0411956\ttotal: 3m 47s\tremaining: 16m 17s\n",
            "189:\tlearn: 0.0411700\ttotal: 3m 48s\tremaining: 16m 14s\n",
            "190:\tlearn: 0.0411398\ttotal: 3m 49s\tremaining: 16m 12s\n",
            "191:\tlearn: 0.0411113\ttotal: 3m 50s\tremaining: 16m 9s\n",
            "192:\tlearn: 0.0410832\ttotal: 3m 51s\tremaining: 16m 9s\n",
            "193:\tlearn: 0.0404591\ttotal: 3m 53s\tremaining: 16m 10s\n",
            "194:\tlearn: 0.0404326\ttotal: 3m 55s\tremaining: 16m 10s\n",
            "195:\tlearn: 0.0404048\ttotal: 3m 56s\tremaining: 16m 9s\n",
            "196:\tlearn: 0.0403745\ttotal: 3m 57s\tremaining: 16m 6s\n",
            "197:\tlearn: 0.0403477\ttotal: 3m 58s\tremaining: 16m 4s\n",
            "198:\tlearn: 0.0403185\ttotal: 3m 58s\tremaining: 16m 1s\n",
            "199:\tlearn: 0.0402908\ttotal: 3m 59s\tremaining: 15m 59s\n",
            "200:\tlearn: 0.0402652\ttotal: 4m\tremaining: 15m 57s\n",
            "201:\tlearn: 0.0397099\ttotal: 4m 1s\tremaining: 15m 54s\n",
            "202:\tlearn: 0.0396776\ttotal: 4m 2s\tremaining: 15m 52s\n",
            "203:\tlearn: 0.0392196\ttotal: 4m 3s\tremaining: 15m 50s\n",
            "204:\tlearn: 0.0391850\ttotal: 4m 4s\tremaining: 15m 47s\n",
            "205:\tlearn: 0.0391545\ttotal: 4m 5s\tremaining: 15m 45s\n",
            "206:\tlearn: 0.0391293\ttotal: 4m 6s\tremaining: 15m 45s\n",
            "207:\tlearn: 0.0390907\ttotal: 4m 8s\tremaining: 15m 45s\n",
            "208:\tlearn: 0.0390642\ttotal: 4m 9s\tremaining: 15m 45s\n",
            "209:\tlearn: 0.0390396\ttotal: 4m 11s\tremaining: 15m 44s\n",
            "210:\tlearn: 0.0390129\ttotal: 4m 11s\tremaining: 15m 41s\n",
            "211:\tlearn: 0.0389831\ttotal: 4m 12s\tremaining: 15m 39s\n",
            "212:\tlearn: 0.0389592\ttotal: 4m 13s\tremaining: 15m 37s\n",
            "213:\tlearn: 0.0389349\ttotal: 4m 14s\tremaining: 15m 35s\n",
            "214:\tlearn: 0.0389056\ttotal: 4m 15s\tremaining: 15m 32s\n",
            "215:\tlearn: 0.0388794\ttotal: 4m 16s\tremaining: 15m 30s\n",
            "216:\tlearn: 0.0388528\ttotal: 4m 17s\tremaining: 15m 28s\n",
            "217:\tlearn: 0.0388246\ttotal: 4m 18s\tremaining: 15m 26s\n",
            "218:\tlearn: 0.0388030\ttotal: 4m 19s\tremaining: 15m 24s\n",
            "219:\tlearn: 0.0387676\ttotal: 4m 20s\tremaining: 15m 21s\n",
            "220:\tlearn: 0.0387448\ttotal: 4m 21s\tremaining: 15m 20s\n",
            "221:\tlearn: 0.0387154\ttotal: 4m 22s\tremaining: 15m 20s\n",
            "222:\tlearn: 0.0386925\ttotal: 4m 24s\tremaining: 15m 20s\n",
            "223:\tlearn: 0.0386680\ttotal: 4m 25s\tremaining: 15m 20s\n",
            "224:\tlearn: 0.0386447\ttotal: 4m 26s\tremaining: 15m 18s\n",
            "225:\tlearn: 0.0386145\ttotal: 4m 27s\tremaining: 15m 16s\n",
            "226:\tlearn: 0.0385934\ttotal: 4m 28s\tremaining: 15m 13s\n",
            "227:\tlearn: 0.0385735\ttotal: 4m 29s\tremaining: 15m 11s\n",
            "228:\tlearn: 0.0385510\ttotal: 4m 30s\tremaining: 15m 9s\n",
            "229:\tlearn: 0.0385278\ttotal: 4m 31s\tremaining: 15m 7s\n",
            "230:\tlearn: 0.0384997\ttotal: 4m 32s\tremaining: 15m 5s\n",
            "231:\tlearn: 0.0384719\ttotal: 4m 32s\tremaining: 15m 3s\n",
            "232:\tlearn: 0.0384481\ttotal: 4m 33s\tremaining: 15m 1s\n",
            "233:\tlearn: 0.0384288\ttotal: 4m 34s\tremaining: 14m 59s\n",
            "234:\tlearn: 0.0384031\ttotal: 4m 35s\tremaining: 14m 57s\n",
            "235:\tlearn: 0.0383798\ttotal: 4m 37s\tremaining: 14m 56s\n",
            "236:\tlearn: 0.0383568\ttotal: 4m 38s\tremaining: 14m 56s\n",
            "237:\tlearn: 0.0383255\ttotal: 4m 40s\tremaining: 14m 56s\n",
            "238:\tlearn: 0.0383028\ttotal: 4m 41s\tremaining: 14m 55s\n",
            "239:\tlearn: 0.0382756\ttotal: 4m 42s\tremaining: 14m 53s\n",
            "240:\tlearn: 0.0382525\ttotal: 4m 42s\tremaining: 14m 51s\n",
            "241:\tlearn: 0.0382161\ttotal: 4m 43s\tremaining: 14m 49s\n",
            "242:\tlearn: 0.0381936\ttotal: 4m 44s\tremaining: 14m 47s\n",
            "243:\tlearn: 0.0381694\ttotal: 4m 45s\tremaining: 14m 45s\n",
            "244:\tlearn: 0.0381409\ttotal: 4m 46s\tremaining: 14m 43s\n",
            "245:\tlearn: 0.0381177\ttotal: 4m 47s\tremaining: 14m 41s\n",
            "246:\tlearn: 0.0380948\ttotal: 4m 48s\tremaining: 14m 39s\n",
            "247:\tlearn: 0.0375516\ttotal: 4m 49s\tremaining: 14m 37s\n",
            "248:\tlearn: 0.0375280\ttotal: 4m 50s\tremaining: 14m 35s\n",
            "249:\tlearn: 0.0375049\ttotal: 4m 51s\tremaining: 14m 34s\n",
            "250:\tlearn: 0.0374758\ttotal: 4m 53s\tremaining: 14m 35s\n",
            "251:\tlearn: 0.0374545\ttotal: 4m 56s\tremaining: 14m 39s\n",
            "252:\tlearn: 0.0374329\ttotal: 4m 57s\tremaining: 14m 37s\n",
            "253:\tlearn: 0.0374098\ttotal: 4m 57s\tremaining: 14m 35s\n",
            "254:\tlearn: 0.0373861\ttotal: 4m 58s\tremaining: 14m 33s\n",
            "255:\tlearn: 0.0373662\ttotal: 4m 59s\tremaining: 14m 31s\n",
            "256:\tlearn: 0.0373459\ttotal: 5m\tremaining: 14m 29s\n",
            "257:\tlearn: 0.0368186\ttotal: 5m 1s\tremaining: 14m 27s\n",
            "258:\tlearn: 0.0367976\ttotal: 5m 2s\tremaining: 14m 25s\n",
            "259:\tlearn: 0.0367760\ttotal: 5m 3s\tremaining: 14m 23s\n",
            "260:\tlearn: 0.0367545\ttotal: 5m 4s\tremaining: 14m 21s\n",
            "261:\tlearn: 0.0367212\ttotal: 5m 5s\tremaining: 14m 19s\n",
            "262:\tlearn: 0.0366889\ttotal: 5m 6s\tremaining: 14m 17s\n",
            "263:\tlearn: 0.0366564\ttotal: 5m 7s\tremaining: 14m 16s\n",
            "264:\tlearn: 0.0366336\ttotal: 5m 8s\tremaining: 14m 16s\n",
            "265:\tlearn: 0.0366098\ttotal: 5m 10s\tremaining: 14m 16s\n",
            "266:\tlearn: 0.0365931\ttotal: 5m 11s\tremaining: 14m 15s\n",
            "267:\tlearn: 0.0365688\ttotal: 5m 12s\tremaining: 14m 13s\n",
            "268:\tlearn: 0.0360657\ttotal: 5m 13s\tremaining: 14m 11s\n",
            "269:\tlearn: 0.0360473\ttotal: 5m 14s\tremaining: 14m 9s\n",
            "270:\tlearn: 0.0360282\ttotal: 5m 15s\tremaining: 14m 8s\n",
            "271:\tlearn: 0.0360062\ttotal: 5m 16s\tremaining: 14m 6s\n",
            "272:\tlearn: 0.0359607\ttotal: 5m 17s\tremaining: 14m 4s\n",
            "273:\tlearn: 0.0359408\ttotal: 5m 18s\tremaining: 14m 2s\n",
            "274:\tlearn: 0.0359146\ttotal: 5m 18s\tremaining: 14m\n",
            "275:\tlearn: 0.0358845\ttotal: 5m 19s\tremaining: 13m 58s\n",
            "276:\tlearn: 0.0358588\ttotal: 5m 20s\tremaining: 13m 57s\n",
            "277:\tlearn: 0.0358370\ttotal: 5m 21s\tremaining: 13m 55s\n",
            "278:\tlearn: 0.0358187\ttotal: 5m 23s\tremaining: 13m 55s\n",
            "279:\tlearn: 0.0357989\ttotal: 5m 24s\tremaining: 13m 55s\n",
            "280:\tlearn: 0.0353275\ttotal: 5m 26s\tremaining: 13m 55s\n",
            "281:\tlearn: 0.0353051\ttotal: 5m 27s\tremaining: 13m 53s\n",
            "282:\tlearn: 0.0352770\ttotal: 5m 28s\tremaining: 13m 51s\n",
            "283:\tlearn: 0.0352584\ttotal: 5m 29s\tremaining: 13m 49s\n",
            "284:\tlearn: 0.0352365\ttotal: 5m 30s\tremaining: 13m 47s\n",
            "285:\tlearn: 0.0352112\ttotal: 5m 30s\tremaining: 13m 46s\n",
            "286:\tlearn: 0.0351860\ttotal: 5m 31s\tremaining: 13m 44s\n",
            "287:\tlearn: 0.0351659\ttotal: 5m 32s\tremaining: 13m 42s\n",
            "288:\tlearn: 0.0351444\ttotal: 5m 33s\tremaining: 13m 40s\n",
            "289:\tlearn: 0.0351192\ttotal: 5m 34s\tremaining: 13m 38s\n",
            "290:\tlearn: 0.0347265\ttotal: 5m 35s\tremaining: 13m 37s\n",
            "291:\tlearn: 0.0347032\ttotal: 5m 36s\tremaining: 13m 35s\n",
            "292:\tlearn: 0.0346859\ttotal: 5m 37s\tremaining: 13m 35s\n",
            "293:\tlearn: 0.0346638\ttotal: 5m 39s\tremaining: 13m 34s\n",
            "294:\tlearn: 0.0346485\ttotal: 5m 40s\tremaining: 13m 34s\n",
            "295:\tlearn: 0.0346243\ttotal: 5m 41s\tremaining: 13m 33s\n",
            "296:\tlearn: 0.0346027\ttotal: 5m 42s\tremaining: 13m 31s\n",
            "297:\tlearn: 0.0345836\ttotal: 5m 43s\tremaining: 13m 29s\n",
            "298:\tlearn: 0.0345618\ttotal: 5m 44s\tremaining: 13m 28s\n",
            "299:\tlearn: 0.0345378\ttotal: 5m 45s\tremaining: 13m 26s\n",
            "300:\tlearn: 0.0340996\ttotal: 5m 46s\tremaining: 13m 25s\n",
            "301:\tlearn: 0.0340759\ttotal: 5m 47s\tremaining: 13m 23s\n",
            "302:\tlearn: 0.0340445\ttotal: 5m 48s\tremaining: 13m 21s\n",
            "303:\tlearn: 0.0340255\ttotal: 5m 49s\tremaining: 13m 19s\n",
            "304:\tlearn: 0.0339987\ttotal: 5m 50s\tremaining: 13m 18s\n",
            "305:\tlearn: 0.0339842\ttotal: 5m 51s\tremaining: 13m 16s\n",
            "306:\tlearn: 0.0339629\ttotal: 5m 52s\tremaining: 13m 16s\n",
            "307:\tlearn: 0.0339393\ttotal: 5m 54s\tremaining: 13m 15s\n",
            "308:\tlearn: 0.0339222\ttotal: 5m 55s\tremaining: 13m 15s\n",
            "309:\tlearn: 0.0339049\ttotal: 5m 56s\tremaining: 13m 14s\n",
            "310:\tlearn: 0.0338878\ttotal: 5m 57s\tremaining: 13m 12s\n",
            "311:\tlearn: 0.0338677\ttotal: 5m 58s\tremaining: 13m 10s\n",
            "312:\tlearn: 0.0338531\ttotal: 5m 59s\tremaining: 13m 9s\n",
            "313:\tlearn: 0.0338352\ttotal: 6m\tremaining: 13m 7s\n",
            "314:\tlearn: 0.0338169\ttotal: 6m 1s\tremaining: 13m 5s\n",
            "315:\tlearn: 0.0338019\ttotal: 6m 2s\tremaining: 13m 4s\n",
            "316:\tlearn: 0.0337836\ttotal: 6m 3s\tremaining: 13m 2s\n",
            "317:\tlearn: 0.0337557\ttotal: 6m 4s\tremaining: 13m\n",
            "318:\tlearn: 0.0337321\ttotal: 6m 5s\tremaining: 12m 59s\n",
            "319:\tlearn: 0.0337125\ttotal: 6m 5s\tremaining: 12m 57s\n",
            "320:\tlearn: 0.0333173\ttotal: 6m 7s\tremaining: 12m 57s\n",
            "321:\tlearn: 0.0333001\ttotal: 6m 8s\tremaining: 12m 56s\n",
            "322:\tlearn: 0.0332819\ttotal: 6m 10s\tremaining: 12m 56s\n",
            "323:\tlearn: 0.0332651\ttotal: 6m 11s\tremaining: 12m 55s\n",
            "324:\tlearn: 0.0332466\ttotal: 6m 12s\tremaining: 12m 53s\n",
            "325:\tlearn: 0.0332296\ttotal: 6m 13s\tremaining: 12m 51s\n",
            "326:\tlearn: 0.0332081\ttotal: 6m 14s\tremaining: 12m 50s\n",
            "327:\tlearn: 0.0331908\ttotal: 6m 15s\tremaining: 12m 48s\n",
            "328:\tlearn: 0.0328423\ttotal: 6m 16s\tremaining: 12m 47s\n",
            "329:\tlearn: 0.0325023\ttotal: 6m 17s\tremaining: 12m 45s\n",
            "330:\tlearn: 0.0324770\ttotal: 6m 18s\tremaining: 12m 44s\n",
            "331:\tlearn: 0.0324512\ttotal: 6m 18s\tremaining: 12m 42s\n",
            "332:\tlearn: 0.0324266\ttotal: 6m 19s\tremaining: 12m 40s\n",
            "333:\tlearn: 0.0324078\ttotal: 6m 20s\tremaining: 12m 39s\n",
            "334:\tlearn: 0.0323897\ttotal: 6m 21s\tremaining: 12m 38s\n",
            "335:\tlearn: 0.0323716\ttotal: 6m 23s\tremaining: 12m 37s\n",
            "336:\tlearn: 0.0323564\ttotal: 6m 25s\tremaining: 12m 37s\n",
            "337:\tlearn: 0.0323227\ttotal: 6m 26s\tremaining: 12m 36s\n",
            "338:\tlearn: 0.0323054\ttotal: 6m 27s\tremaining: 12m 35s\n",
            "339:\tlearn: 0.0322893\ttotal: 6m 28s\tremaining: 12m 33s\n",
            "340:\tlearn: 0.0322720\ttotal: 6m 29s\tremaining: 12m 31s\n",
            "341:\tlearn: 0.0322526\ttotal: 6m 30s\tremaining: 12m 30s\n",
            "342:\tlearn: 0.0322329\ttotal: 6m 30s\tremaining: 12m 28s\n",
            "343:\tlearn: 0.0322134\ttotal: 6m 31s\tremaining: 12m 27s\n",
            "344:\tlearn: 0.0317812\ttotal: 6m 32s\tremaining: 12m 25s\n",
            "345:\tlearn: 0.0317585\ttotal: 6m 33s\tremaining: 12m 24s\n",
            "346:\tlearn: 0.0314012\ttotal: 6m 34s\tremaining: 12m 22s\n",
            "347:\tlearn: 0.0313757\ttotal: 6m 35s\tremaining: 12m 21s\n",
            "348:\tlearn: 0.0313508\ttotal: 6m 36s\tremaining: 12m 20s\n",
            "349:\tlearn: 0.0313329\ttotal: 6m 38s\tremaining: 12m 19s\n",
            "350:\tlearn: 0.0313153\ttotal: 6m 39s\tremaining: 12m 19s\n",
            "351:\tlearn: 0.0312992\ttotal: 6m 41s\tremaining: 12m 18s\n",
            "352:\tlearn: 0.0312822\ttotal: 6m 42s\tremaining: 12m 17s\n",
            "353:\tlearn: 0.0312642\ttotal: 6m 43s\tremaining: 12m 15s\n",
            "354:\tlearn: 0.0312439\ttotal: 6m 43s\tremaining: 12m 13s\n",
            "355:\tlearn: 0.0312279\ttotal: 6m 44s\tremaining: 12m 12s\n",
            "356:\tlearn: 0.0312084\ttotal: 6m 45s\tremaining: 12m 10s\n",
            "357:\tlearn: 0.0311917\ttotal: 6m 46s\tremaining: 12m 9s\n",
            "358:\tlearn: 0.0311771\ttotal: 6m 47s\tremaining: 12m 7s\n",
            "359:\tlearn: 0.0311586\ttotal: 6m 48s\tremaining: 12m 6s\n",
            "360:\tlearn: 0.0311382\ttotal: 6m 49s\tremaining: 12m 4s\n",
            "361:\tlearn: 0.0311162\ttotal: 6m 50s\tremaining: 12m 3s\n",
            "362:\tlearn: 0.0306682\ttotal: 6m 51s\tremaining: 12m 1s\n",
            "363:\tlearn: 0.0306513\ttotal: 6m 52s\tremaining: 12m 1s\n",
            "364:\tlearn: 0.0306335\ttotal: 6m 54s\tremaining: 12m\n",
            "365:\tlearn: 0.0306123\ttotal: 6m 55s\tremaining: 12m\n",
            "366:\tlearn: 0.0305918\ttotal: 6m 56s\tremaining: 11m 59s\n",
            "367:\tlearn: 0.0301867\ttotal: 6m 57s\tremaining: 11m 57s\n",
            "368:\tlearn: 0.0301637\ttotal: 6m 58s\tremaining: 11m 56s\n",
            "369:\tlearn: 0.0301461\ttotal: 6m 59s\tremaining: 11m 54s\n",
            "370:\tlearn: 0.0301262\ttotal: 7m\tremaining: 11m 53s\n",
            "371:\tlearn: 0.0300992\ttotal: 7m 1s\tremaining: 11m 51s\n",
            "372:\tlearn: 0.0300797\ttotal: 7m 2s\tremaining: 11m 49s\n",
            "373:\tlearn: 0.0300639\ttotal: 7m 3s\tremaining: 11m 48s\n",
            "374:\tlearn: 0.0300445\ttotal: 7m 4s\tremaining: 11m 46s\n",
            "375:\tlearn: 0.0300238\ttotal: 7m 5s\tremaining: 11m 45s\n",
            "376:\tlearn: 0.0296341\ttotal: 7m 6s\tremaining: 11m 44s\n",
            "377:\tlearn: 0.0296053\ttotal: 7m 7s\tremaining: 11m 43s\n",
            "378:\tlearn: 0.0295883\ttotal: 7m 8s\tremaining: 11m 42s\n",
            "379:\tlearn: 0.0295723\ttotal: 7m 10s\tremaining: 11m 42s\n",
            "380:\tlearn: 0.0295573\ttotal: 7m 11s\tremaining: 11m 41s\n",
            "381:\tlearn: 0.0295375\ttotal: 7m 12s\tremaining: 11m 39s\n",
            "382:\tlearn: 0.0292438\ttotal: 7m 13s\tremaining: 11m 38s\n",
            "383:\tlearn: 0.0292214\ttotal: 7m 14s\tremaining: 11m 36s\n",
            "384:\tlearn: 0.0292026\ttotal: 7m 15s\tremaining: 11m 35s\n",
            "385:\tlearn: 0.0291832\ttotal: 7m 16s\tremaining: 11m 33s\n",
            "386:\tlearn: 0.0291693\ttotal: 7m 17s\tremaining: 11m 32s\n",
            "387:\tlearn: 0.0291510\ttotal: 7m 18s\tremaining: 11m 30s\n",
            "388:\tlearn: 0.0291326\ttotal: 7m 18s\tremaining: 11m 29s\n",
            "389:\tlearn: 0.0291201\ttotal: 7m 19s\tremaining: 11m 27s\n",
            "390:\tlearn: 0.0291033\ttotal: 7m 20s\tremaining: 11m 26s\n",
            "391:\tlearn: 0.0290900\ttotal: 7m 22s\tremaining: 11m 25s\n",
            "392:\tlearn: 0.0290717\ttotal: 7m 23s\tremaining: 11m 25s\n",
            "393:\tlearn: 0.0287860\ttotal: 7m 25s\tremaining: 11m 24s\n",
            "394:\tlearn: 0.0287606\ttotal: 7m 26s\tremaining: 11m 23s\n",
            "395:\tlearn: 0.0287456\ttotal: 7m 27s\tremaining: 11m 22s\n",
            "396:\tlearn: 0.0284840\ttotal: 7m 28s\tremaining: 11m 20s\n",
            "397:\tlearn: 0.0284680\ttotal: 7m 29s\tremaining: 11m 19s\n",
            "398:\tlearn: 0.0280705\ttotal: 7m 30s\tremaining: 11m 17s\n",
            "399:\tlearn: 0.0280474\ttotal: 7m 30s\tremaining: 11m 16s\n",
            "400:\tlearn: 0.0280321\ttotal: 7m 31s\tremaining: 11m 14s\n",
            "401:\tlearn: 0.0280184\ttotal: 7m 32s\tremaining: 11m 13s\n",
            "402:\tlearn: 0.0280037\ttotal: 7m 33s\tremaining: 11m 12s\n",
            "403:\tlearn: 0.0279818\ttotal: 7m 34s\tremaining: 11m 10s\n",
            "404:\tlearn: 0.0277758\ttotal: 7m 35s\tremaining: 11m 9s\n",
            "405:\tlearn: 0.0277602\ttotal: 7m 36s\tremaining: 11m 8s\n",
            "406:\tlearn: 0.0277462\ttotal: 7m 38s\tremaining: 11m 7s\n",
            "407:\tlearn: 0.0277324\ttotal: 7m 39s\tremaining: 11m 6s\n",
            "408:\tlearn: 0.0277164\ttotal: 7m 41s\tremaining: 11m 6s\n",
            "409:\tlearn: 0.0277012\ttotal: 7m 41s\tremaining: 11m 4s\n",
            "410:\tlearn: 0.0276812\ttotal: 7m 42s\tremaining: 11m 3s\n",
            "411:\tlearn: 0.0276680\ttotal: 7m 43s\tremaining: 11m 1s\n",
            "412:\tlearn: 0.0276416\ttotal: 7m 44s\tremaining: 11m\n",
            "413:\tlearn: 0.0273649\ttotal: 7m 45s\tremaining: 10m 58s\n",
            "414:\tlearn: 0.0273462\ttotal: 7m 46s\tremaining: 10m 57s\n",
            "415:\tlearn: 0.0273324\ttotal: 7m 47s\tremaining: 10m 56s\n",
            "416:\tlearn: 0.0273127\ttotal: 7m 48s\tremaining: 10m 54s\n",
            "417:\tlearn: 0.0272937\ttotal: 7m 49s\tremaining: 10m 53s\n",
            "418:\tlearn: 0.0272798\ttotal: 7m 50s\tremaining: 10m 51s\n",
            "419:\tlearn: 0.0272661\ttotal: 7m 51s\tremaining: 10m 50s\n",
            "420:\tlearn: 0.0272511\ttotal: 7m 52s\tremaining: 10m 50s\n",
            "421:\tlearn: 0.0272397\ttotal: 7m 54s\tremaining: 10m 49s\n",
            "422:\tlearn: 0.0272258\ttotal: 7m 55s\tremaining: 10m 48s\n",
            "423:\tlearn: 0.0271398\ttotal: 7m 56s\tremaining: 10m 47s\n",
            "424:\tlearn: 0.0269664\ttotal: 7m 57s\tremaining: 10m 46s\n",
            "425:\tlearn: 0.0269430\ttotal: 7m 58s\tremaining: 10m 44s\n",
            "426:\tlearn: 0.0269184\ttotal: 7m 59s\tremaining: 10m 43s\n",
            "427:\tlearn: 0.0269040\ttotal: 8m\tremaining: 10m 42s\n",
            "428:\tlearn: 0.0268922\ttotal: 8m 1s\tremaining: 10m 40s\n",
            "429:\tlearn: 0.0268787\ttotal: 8m 2s\tremaining: 10m 39s\n",
            "430:\tlearn: 0.0268582\ttotal: 8m 3s\tremaining: 10m 37s\n",
            "431:\tlearn: 0.0268455\ttotal: 8m 4s\tremaining: 10m 36s\n",
            "432:\tlearn: 0.0268323\ttotal: 8m 4s\tremaining: 10m 35s\n",
            "433:\tlearn: 0.0268124\ttotal: 8m 5s\tremaining: 10m 33s\n",
            "434:\tlearn: 0.0268001\ttotal: 8m 7s\tremaining: 10m 32s\n",
            "435:\tlearn: 0.0266496\ttotal: 8m 8s\tremaining: 10m 32s\n",
            "436:\tlearn: 0.0266320\ttotal: 8m 10s\tremaining: 10m 31s\n",
            "437:\tlearn: 0.0266179\ttotal: 8m 11s\tremaining: 10m 30s\n",
            "438:\tlearn: 0.0266047\ttotal: 8m 12s\tremaining: 10m 29s\n",
            "439:\tlearn: 0.0265927\ttotal: 8m 13s\tremaining: 10m 27s\n",
            "440:\tlearn: 0.0265805\ttotal: 8m 14s\tremaining: 10m 26s\n",
            "441:\tlearn: 0.0262763\ttotal: 8m 15s\tremaining: 10m 24s\n",
            "442:\tlearn: 0.0262650\ttotal: 8m 15s\tremaining: 10m 23s\n",
            "443:\tlearn: 0.0262526\ttotal: 8m 16s\tremaining: 10m 22s\n",
            "444:\tlearn: 0.0259925\ttotal: 8m 17s\tremaining: 10m 20s\n",
            "445:\tlearn: 0.0257126\ttotal: 8m 18s\tremaining: 10m 19s\n",
            "446:\tlearn: 0.0256917\ttotal: 8m 19s\tremaining: 10m 18s\n",
            "447:\tlearn: 0.0256695\ttotal: 8m 20s\tremaining: 10m 16s\n",
            "448:\tlearn: 0.0256550\ttotal: 8m 21s\tremaining: 10m 15s\n",
            "449:\tlearn: 0.0256427\ttotal: 8m 23s\tremaining: 10m 15s\n",
            "450:\tlearn: 0.0256195\ttotal: 8m 24s\tremaining: 10m 14s\n",
            "451:\tlearn: 0.0256002\ttotal: 8m 26s\tremaining: 10m 13s\n",
            "452:\tlearn: 0.0255866\ttotal: 8m 27s\tremaining: 10m 12s\n",
            "453:\tlearn: 0.0255748\ttotal: 8m 27s\tremaining: 10m 10s\n",
            "454:\tlearn: 0.0255608\ttotal: 8m 28s\tremaining: 10m 9s\n",
            "455:\tlearn: 0.0255500\ttotal: 8m 29s\tremaining: 10m 8s\n",
            "456:\tlearn: 0.0255285\ttotal: 8m 30s\tremaining: 10m 6s\n",
            "457:\tlearn: 0.0252194\ttotal: 8m 31s\tremaining: 10m 5s\n",
            "458:\tlearn: 0.0251961\ttotal: 8m 32s\tremaining: 10m 4s\n",
            "459:\tlearn: 0.0251765\ttotal: 8m 33s\tremaining: 10m 2s\n",
            "460:\tlearn: 0.0251645\ttotal: 8m 34s\tremaining: 10m 1s\n",
            "461:\tlearn: 0.0251527\ttotal: 8m 35s\tremaining: 9m 59s\n",
            "462:\tlearn: 0.0251321\ttotal: 8m 36s\tremaining: 9m 58s\n",
            "463:\tlearn: 0.0251194\ttotal: 8m 37s\tremaining: 9m 58s\n",
            "464:\tlearn: 0.0251065\ttotal: 8m 39s\tremaining: 9m 57s\n",
            "465:\tlearn: 0.0250946\ttotal: 8m 40s\tremaining: 9m 56s\n",
            "466:\tlearn: 0.0250832\ttotal: 8m 41s\tremaining: 9m 55s\n",
            "467:\tlearn: 0.0250699\ttotal: 8m 42s\tremaining: 9m 54s\n",
            "468:\tlearn: 0.0250588\ttotal: 8m 43s\tremaining: 9m 52s\n",
            "469:\tlearn: 0.0250467\ttotal: 8m 44s\tremaining: 9m 51s\n",
            "470:\tlearn: 0.0250355\ttotal: 8m 45s\tremaining: 9m 50s\n",
            "471:\tlearn: 0.0247860\ttotal: 8m 46s\tremaining: 9m 48s\n",
            "472:\tlearn: 0.0247672\ttotal: 8m 47s\tremaining: 9m 47s\n",
            "473:\tlearn: 0.0247477\ttotal: 8m 48s\tremaining: 9m 46s\n",
            "474:\tlearn: 0.0245284\ttotal: 8m 49s\tremaining: 9m 44s\n",
            "475:\tlearn: 0.0245164\ttotal: 8m 49s\tremaining: 9m 43s\n",
            "476:\tlearn: 0.0245048\ttotal: 8m 50s\tremaining: 9m 42s\n",
            "477:\tlearn: 0.0244933\ttotal: 8m 52s\tremaining: 9m 41s\n",
            "478:\tlearn: 0.0242357\ttotal: 8m 54s\tremaining: 9m 40s\n",
            "479:\tlearn: 0.0240026\ttotal: 8m 55s\tremaining: 9m 40s\n",
            "480:\tlearn: 0.0239818\ttotal: 8m 56s\tremaining: 9m 39s\n",
            "481:\tlearn: 0.0239609\ttotal: 8m 57s\tremaining: 9m 37s\n",
            "482:\tlearn: 0.0239414\ttotal: 8m 58s\tremaining: 9m 36s\n",
            "483:\tlearn: 0.0239283\ttotal: 8m 59s\tremaining: 9m 35s\n",
            "484:\tlearn: 0.0239171\ttotal: 9m\tremaining: 9m 33s\n",
            "485:\tlearn: 0.0237463\ttotal: 9m 1s\tremaining: 9m 32s\n",
            "486:\tlearn: 0.0237349\ttotal: 9m 2s\tremaining: 9m 31s\n",
            "487:\tlearn: 0.0237217\ttotal: 9m 3s\tremaining: 9m 29s\n",
            "488:\tlearn: 0.0234793\ttotal: 9m 3s\tremaining: 9m 28s\n",
            "489:\tlearn: 0.0234614\ttotal: 9m 4s\tremaining: 9m 27s\n",
            "490:\tlearn: 0.0234433\ttotal: 9m 5s\tremaining: 9m 25s\n",
            "491:\tlearn: 0.0234318\ttotal: 9m 7s\tremaining: 9m 25s\n",
            "492:\tlearn: 0.0234197\ttotal: 9m 8s\tremaining: 9m 24s\n",
            "493:\tlearn: 0.0234083\ttotal: 9m 10s\tremaining: 9m 23s\n",
            "494:\tlearn: 0.0233890\ttotal: 9m 11s\tremaining: 9m 22s\n",
            "495:\tlearn: 0.0233783\ttotal: 9m 12s\tremaining: 9m 21s\n",
            "496:\tlearn: 0.0233601\ttotal: 9m 13s\tremaining: 9m 19s\n",
            "497:\tlearn: 0.0233497\ttotal: 9m 13s\tremaining: 9m 18s\n",
            "498:\tlearn: 0.0233381\ttotal: 9m 14s\tremaining: 9m 17s\n",
            "499:\tlearn: 0.0233193\ttotal: 9m 15s\tremaining: 9m 15s\n",
            "500:\tlearn: 0.0233079\ttotal: 9m 16s\tremaining: 9m 14s\n",
            "501:\tlearn: 0.0232974\ttotal: 9m 17s\tremaining: 9m 13s\n",
            "502:\tlearn: 0.0232865\ttotal: 9m 18s\tremaining: 9m 11s\n",
            "503:\tlearn: 0.0232757\ttotal: 9m 19s\tremaining: 9m 10s\n",
            "504:\tlearn: 0.0230886\ttotal: 9m 20s\tremaining: 9m 9s\n",
            "505:\tlearn: 0.0230692\ttotal: 9m 21s\tremaining: 9m 8s\n",
            "506:\tlearn: 0.0229039\ttotal: 9m 23s\tremaining: 9m 7s\n",
            "507:\tlearn: 0.0227547\ttotal: 9m 25s\tremaining: 9m 7s\n",
            "508:\tlearn: 0.0227375\ttotal: 9m 26s\tremaining: 9m 6s\n",
            "509:\tlearn: 0.0227262\ttotal: 9m 27s\tremaining: 9m 4s\n",
            "510:\tlearn: 0.0227149\ttotal: 9m 27s\tremaining: 9m 3s\n",
            "511:\tlearn: 0.0227041\ttotal: 9m 28s\tremaining: 9m 2s\n",
            "512:\tlearn: 0.0226925\ttotal: 9m 29s\tremaining: 9m\n",
            "513:\tlearn: 0.0226818\ttotal: 9m 30s\tremaining: 8m 59s\n",
            "514:\tlearn: 0.0223400\ttotal: 9m 31s\tremaining: 8m 58s\n",
            "515:\tlearn: 0.0223226\ttotal: 9m 32s\tremaining: 8m 57s\n",
            "516:\tlearn: 0.0223119\ttotal: 9m 33s\tremaining: 8m 55s\n",
            "517:\tlearn: 0.0223010\ttotal: 9m 34s\tremaining: 8m 54s\n",
            "518:\tlearn: 0.0222848\ttotal: 9m 35s\tremaining: 8m 53s\n",
            "519:\tlearn: 0.0222741\ttotal: 9m 36s\tremaining: 8m 52s\n",
            "520:\tlearn: 0.0222554\ttotal: 9m 38s\tremaining: 8m 51s\n",
            "521:\tlearn: 0.0220461\ttotal: 9m 39s\tremaining: 8m 50s\n",
            "522:\tlearn: 0.0220303\ttotal: 9m 40s\tremaining: 8m 49s\n",
            "523:\tlearn: 0.0220128\ttotal: 9m 41s\tremaining: 8m 48s\n",
            "524:\tlearn: 0.0220035\ttotal: 9m 42s\tremaining: 8m 47s\n",
            "525:\tlearn: 0.0219856\ttotal: 9m 43s\tremaining: 8m 45s\n",
            "526:\tlearn: 0.0219696\ttotal: 9m 44s\tremaining: 8m 44s\n",
            "527:\tlearn: 0.0219596\ttotal: 9m 45s\tremaining: 8m 43s\n",
            "528:\tlearn: 0.0219506\ttotal: 9m 46s\tremaining: 8m 42s\n",
            "529:\tlearn: 0.0219409\ttotal: 9m 47s\tremaining: 8m 40s\n",
            "530:\tlearn: 0.0219301\ttotal: 9m 48s\tremaining: 8m 39s\n",
            "531:\tlearn: 0.0218521\ttotal: 9m 49s\tremaining: 8m 38s\n",
            "532:\tlearn: 0.0218364\ttotal: 9m 49s\tremaining: 8m 36s\n",
            "533:\tlearn: 0.0218262\ttotal: 9m 51s\tremaining: 8m 35s\n",
            "534:\tlearn: 0.0216520\ttotal: 9m 52s\tremaining: 8m 35s\n",
            "535:\tlearn: 0.0216344\ttotal: 9m 54s\tremaining: 8m 34s\n",
            "536:\tlearn: 0.0216240\ttotal: 9m 55s\tremaining: 8m 33s\n",
            "537:\tlearn: 0.0216140\ttotal: 9m 56s\tremaining: 8m 32s\n",
            "538:\tlearn: 0.0214264\ttotal: 9m 57s\tremaining: 8m 31s\n",
            "539:\tlearn: 0.0214155\ttotal: 9m 58s\tremaining: 8m 29s\n",
            "540:\tlearn: 0.0214050\ttotal: 9m 59s\tremaining: 8m 28s\n",
            "541:\tlearn: 0.0213966\ttotal: 10m\tremaining: 8m 27s\n",
            "542:\tlearn: 0.0213866\ttotal: 10m 1s\tremaining: 8m 25s\n",
            "543:\tlearn: 0.0213718\ttotal: 10m 2s\tremaining: 8m 24s\n",
            "544:\tlearn: 0.0212318\ttotal: 10m 2s\tremaining: 8m 23s\n",
            "545:\tlearn: 0.0212168\ttotal: 10m 3s\tremaining: 8m 22s\n",
            "546:\tlearn: 0.0212074\ttotal: 10m 4s\tremaining: 8m 20s\n",
            "547:\tlearn: 0.0211976\ttotal: 10m 5s\tremaining: 8m 19s\n",
            "548:\tlearn: 0.0210281\ttotal: 10m 7s\tremaining: 8m 18s\n",
            "549:\tlearn: 0.0210110\ttotal: 10m 8s\tremaining: 8m 18s\n",
            "550:\tlearn: 0.0208113\ttotal: 10m 10s\tremaining: 8m 17s\n",
            "551:\tlearn: 0.0208009\ttotal: 10m 11s\tremaining: 8m 16s\n",
            "552:\tlearn: 0.0207910\ttotal: 10m 12s\tremaining: 8m 14s\n",
            "553:\tlearn: 0.0207830\ttotal: 10m 13s\tremaining: 8m 13s\n",
            "554:\tlearn: 0.0207668\ttotal: 10m 13s\tremaining: 8m 12s\n",
            "555:\tlearn: 0.0207574\ttotal: 10m 14s\tremaining: 8m 11s\n",
            "556:\tlearn: 0.0206845\ttotal: 10m 15s\tremaining: 8m 9s\n",
            "557:\tlearn: 0.0206754\ttotal: 10m 16s\tremaining: 8m 8s\n",
            "558:\tlearn: 0.0206662\ttotal: 10m 17s\tremaining: 8m 7s\n",
            "559:\tlearn: 0.0206563\ttotal: 10m 18s\tremaining: 8m 5s\n",
            "560:\tlearn: 0.0206471\ttotal: 10m 19s\tremaining: 8m 4s\n",
            "561:\tlearn: 0.0204943\ttotal: 10m 20s\tremaining: 8m 3s\n",
            "562:\tlearn: 0.0204849\ttotal: 10m 21s\tremaining: 8m 2s\n",
            "563:\tlearn: 0.0202236\ttotal: 10m 23s\tremaining: 8m 2s\n",
            "564:\tlearn: 0.0202079\ttotal: 10m 25s\tremaining: 8m 1s\n",
            "565:\tlearn: 0.0201988\ttotal: 10m 26s\tremaining: 8m\n",
            "566:\tlearn: 0.0201896\ttotal: 10m 26s\tremaining: 7m 58s\n",
            "567:\tlearn: 0.0200613\ttotal: 10m 27s\tremaining: 7m 57s\n",
            "568:\tlearn: 0.0200523\ttotal: 10m 28s\tremaining: 7m 56s\n",
            "569:\tlearn: 0.0200351\ttotal: 10m 29s\tremaining: 7m 55s\n",
            "570:\tlearn: 0.0200279\ttotal: 10m 30s\tremaining: 7m 53s\n",
            "571:\tlearn: 0.0200190\ttotal: 10m 31s\tremaining: 7m 52s\n",
            "572:\tlearn: 0.0200021\ttotal: 10m 32s\tremaining: 7m 51s\n",
            "573:\tlearn: 0.0199950\ttotal: 10m 33s\tremaining: 7m 50s\n",
            "574:\tlearn: 0.0199860\ttotal: 10m 34s\tremaining: 7m 48s\n",
            "575:\tlearn: 0.0199705\ttotal: 10m 35s\tremaining: 7m 47s\n",
            "576:\tlearn: 0.0199548\ttotal: 10m 36s\tremaining: 7m 46s\n",
            "577:\tlearn: 0.0199466\ttotal: 10m 38s\tremaining: 7m 45s\n",
            "578:\tlearn: 0.0197330\ttotal: 10m 39s\tremaining: 7m 45s\n",
            "579:\tlearn: 0.0197192\ttotal: 10m 40s\tremaining: 7m 44s\n",
            "580:\tlearn: 0.0197087\ttotal: 10m 41s\tremaining: 7m 42s\n",
            "581:\tlearn: 0.0196952\ttotal: 10m 42s\tremaining: 7m 41s\n",
            "582:\tlearn: 0.0195698\ttotal: 10m 43s\tremaining: 7m 40s\n",
            "583:\tlearn: 0.0195597\ttotal: 10m 44s\tremaining: 7m 39s\n",
            "584:\tlearn: 0.0195515\ttotal: 10m 45s\tremaining: 7m 37s\n",
            "585:\tlearn: 0.0195426\ttotal: 10m 46s\tremaining: 7m 36s\n",
            "586:\tlearn: 0.0195333\ttotal: 10m 47s\tremaining: 7m 35s\n",
            "587:\tlearn: 0.0195244\ttotal: 10m 48s\tremaining: 7m 34s\n",
            "588:\tlearn: 0.0194061\ttotal: 10m 49s\tremaining: 7m 32s\n",
            "589:\tlearn: 0.0193882\ttotal: 10m 50s\tremaining: 7m 31s\n",
            "590:\tlearn: 0.0193793\ttotal: 10m 51s\tremaining: 7m 30s\n",
            "591:\tlearn: 0.0193706\ttotal: 10m 52s\tremaining: 7m 29s\n",
            "592:\tlearn: 0.0193022\ttotal: 10m 54s\tremaining: 7m 29s\n",
            "593:\tlearn: 0.0192870\ttotal: 10m 55s\tremaining: 7m 28s\n",
            "594:\tlearn: 0.0192785\ttotal: 10m 56s\tremaining: 7m 26s\n",
            "595:\tlearn: 0.0192663\ttotal: 10m 57s\tremaining: 7m 25s\n",
            "596:\tlearn: 0.0192578\ttotal: 10m 58s\tremaining: 7m 24s\n",
            "597:\tlearn: 0.0190975\ttotal: 10m 59s\tremaining: 7m 23s\n",
            "598:\tlearn: 0.0190814\ttotal: 11m\tremaining: 7m 22s\n",
            "599:\tlearn: 0.0190728\ttotal: 11m 1s\tremaining: 7m 20s\n",
            "600:\tlearn: 0.0190649\ttotal: 11m 2s\tremaining: 7m 19s\n",
            "601:\tlearn: 0.0190570\ttotal: 11m 2s\tremaining: 7m 18s\n",
            "602:\tlearn: 0.0188984\ttotal: 11m 3s\tremaining: 7m 17s\n",
            "603:\tlearn: 0.0188901\ttotal: 11m 4s\tremaining: 7m 15s\n",
            "604:\tlearn: 0.0188820\ttotal: 11m 5s\tremaining: 7m 14s\n",
            "605:\tlearn: 0.0188743\ttotal: 11m 7s\tremaining: 7m 13s\n",
            "606:\tlearn: 0.0188659\ttotal: 11m 8s\tremaining: 7m 13s\n",
            "607:\tlearn: 0.0187527\ttotal: 11m 10s\tremaining: 7m 12s\n",
            "608:\tlearn: 0.0187397\ttotal: 11m 11s\tremaining: 7m 11s\n",
            "609:\tlearn: 0.0187312\ttotal: 11m 12s\tremaining: 7m 9s\n",
            "610:\tlearn: 0.0187230\ttotal: 11m 13s\tremaining: 7m 8s\n",
            "611:\tlearn: 0.0187167\ttotal: 11m 13s\tremaining: 7m 7s\n",
            "612:\tlearn: 0.0187085\ttotal: 11m 14s\tremaining: 7m 6s\n",
            "613:\tlearn: 0.0185924\ttotal: 11m 15s\tremaining: 7m 4s\n",
            "614:\tlearn: 0.0185783\ttotal: 11m 16s\tremaining: 7m 3s\n",
            "615:\tlearn: 0.0185714\ttotal: 11m 17s\tremaining: 7m 2s\n",
            "616:\tlearn: 0.0185638\ttotal: 11m 18s\tremaining: 7m 1s\n",
            "617:\tlearn: 0.0185557\ttotal: 11m 19s\tremaining: 7m\n",
            "618:\tlearn: 0.0185409\ttotal: 11m 20s\tremaining: 6m 58s\n",
            "619:\tlearn: 0.0185350\ttotal: 11m 21s\tremaining: 6m 57s\n",
            "620:\tlearn: 0.0184714\ttotal: 11m 23s\tremaining: 6m 57s\n",
            "621:\tlearn: 0.0184633\ttotal: 11m 24s\tremaining: 6m 56s\n",
            "622:\tlearn: 0.0182910\ttotal: 11m 26s\tremaining: 6m 55s\n",
            "623:\tlearn: 0.0182788\ttotal: 11m 26s\tremaining: 6m 53s\n",
            "624:\tlearn: 0.0182640\ttotal: 11m 27s\tremaining: 6m 52s\n",
            "625:\tlearn: 0.0182559\ttotal: 11m 28s\tremaining: 6m 51s\n",
            "626:\tlearn: 0.0182494\ttotal: 11m 29s\tremaining: 6m 50s\n",
            "627:\tlearn: 0.0182407\ttotal: 11m 30s\tremaining: 6m 49s\n",
            "628:\tlearn: 0.0182346\ttotal: 11m 31s\tremaining: 6m 47s\n",
            "629:\tlearn: 0.0182267\ttotal: 11m 32s\tremaining: 6m 46s\n",
            "630:\tlearn: 0.0182188\ttotal: 11m 33s\tremaining: 6m 45s\n",
            "631:\tlearn: 0.0180756\ttotal: 11m 34s\tremaining: 6m 44s\n",
            "632:\tlearn: 0.0180640\ttotal: 11m 34s\tremaining: 6m 42s\n",
            "633:\tlearn: 0.0180577\ttotal: 11m 36s\tremaining: 6m 41s\n",
            "634:\tlearn: 0.0180492\ttotal: 11m 37s\tremaining: 6m 40s\n",
            "635:\tlearn: 0.0179495\ttotal: 11m 39s\tremaining: 6m 40s\n",
            "636:\tlearn: 0.0179366\ttotal: 11m 40s\tremaining: 6m 39s\n",
            "637:\tlearn: 0.0179286\ttotal: 11m 41s\tremaining: 6m 37s\n",
            "638:\tlearn: 0.0178398\ttotal: 11m 42s\tremaining: 6m 36s\n",
            "639:\tlearn: 0.0178294\ttotal: 11m 43s\tremaining: 6m 35s\n",
            "640:\tlearn: 0.0178220\ttotal: 11m 44s\tremaining: 6m 34s\n",
            "641:\tlearn: 0.0178141\ttotal: 11m 45s\tremaining: 6m 33s\n",
            "642:\tlearn: 0.0178016\ttotal: 11m 45s\tremaining: 6m 31s\n",
            "643:\tlearn: 0.0177958\ttotal: 11m 46s\tremaining: 6m 30s\n",
            "644:\tlearn: 0.0177869\ttotal: 11m 47s\tremaining: 6m 29s\n",
            "645:\tlearn: 0.0175843\ttotal: 11m 48s\tremaining: 6m 28s\n",
            "646:\tlearn: 0.0175061\ttotal: 11m 49s\tremaining: 6m 27s\n",
            "647:\tlearn: 0.0174956\ttotal: 11m 50s\tremaining: 6m 25s\n",
            "648:\tlearn: 0.0174894\ttotal: 11m 51s\tremaining: 6m 25s\n",
            "649:\tlearn: 0.0174822\ttotal: 11m 53s\tremaining: 6m 24s\n",
            "650:\tlearn: 0.0174748\ttotal: 11m 55s\tremaining: 6m 23s\n",
            "651:\tlearn: 0.0174673\ttotal: 11m 56s\tremaining: 6m 22s\n",
            "652:\tlearn: 0.0174597\ttotal: 11m 57s\tremaining: 6m 21s\n",
            "653:\tlearn: 0.0174546\ttotal: 11m 57s\tremaining: 6m 19s\n",
            "654:\tlearn: 0.0173709\ttotal: 11m 58s\tremaining: 6m 18s\n",
            "655:\tlearn: 0.0173583\ttotal: 11m 59s\tremaining: 6m 17s\n",
            "656:\tlearn: 0.0173522\ttotal: 12m\tremaining: 6m 16s\n",
            "657:\tlearn: 0.0173448\ttotal: 12m 1s\tremaining: 6m 15s\n",
            "658:\tlearn: 0.0173327\ttotal: 12m 2s\tremaining: 6m 13s\n",
            "659:\tlearn: 0.0173253\ttotal: 12m 3s\tremaining: 6m 12s\n",
            "660:\tlearn: 0.0173177\ttotal: 12m 4s\tremaining: 6m 11s\n",
            "661:\tlearn: 0.0173127\ttotal: 12m 5s\tremaining: 6m 10s\n",
            "662:\tlearn: 0.0173016\ttotal: 12m 6s\tremaining: 6m 9s\n",
            "663:\tlearn: 0.0172943\ttotal: 12m 7s\tremaining: 6m 8s\n",
            "664:\tlearn: 0.0172866\ttotal: 12m 9s\tremaining: 6m 7s\n",
            "665:\tlearn: 0.0172796\ttotal: 12m 10s\tremaining: 6m 6s\n",
            "666:\tlearn: 0.0172704\ttotal: 12m 11s\tremaining: 6m 5s\n",
            "667:\tlearn: 0.0172630\ttotal: 12m 12s\tremaining: 6m 4s\n",
            "668:\tlearn: 0.0172559\ttotal: 12m 13s\tremaining: 6m 2s\n",
            "669:\tlearn: 0.0172508\ttotal: 12m 14s\tremaining: 6m 1s\n",
            "670:\tlearn: 0.0172429\ttotal: 12m 15s\tremaining: 6m\n",
            "671:\tlearn: 0.0172362\ttotal: 12m 16s\tremaining: 5m 59s\n",
            "672:\tlearn: 0.0171535\ttotal: 12m 17s\tremaining: 5m 58s\n",
            "673:\tlearn: 0.0171436\ttotal: 12m 17s\tremaining: 5m 56s\n",
            "674:\tlearn: 0.0171365\ttotal: 12m 18s\tremaining: 5m 55s\n",
            "675:\tlearn: 0.0171316\ttotal: 12m 19s\tremaining: 5m 54s\n",
            "676:\tlearn: 0.0171249\ttotal: 12m 20s\tremaining: 5m 53s\n",
            "677:\tlearn: 0.0171182\ttotal: 12m 22s\tremaining: 5m 52s\n",
            "678:\tlearn: 0.0171110\ttotal: 12m 23s\tremaining: 5m 51s\n",
            "679:\tlearn: 0.0171004\ttotal: 12m 25s\tremaining: 5m 50s\n",
            "680:\tlearn: 0.0169241\ttotal: 12m 26s\tremaining: 5m 49s\n",
            "681:\tlearn: 0.0169053\ttotal: 12m 27s\tremaining: 5m 48s\n",
            "682:\tlearn: 0.0168925\ttotal: 12m 28s\tremaining: 5m 47s\n",
            "683:\tlearn: 0.0168880\ttotal: 12m 29s\tremaining: 5m 46s\n",
            "684:\tlearn: 0.0168801\ttotal: 12m 29s\tremaining: 5m 44s\n",
            "685:\tlearn: 0.0167299\ttotal: 12m 30s\tremaining: 5m 43s\n",
            "686:\tlearn: 0.0167145\ttotal: 12m 31s\tremaining: 5m 42s\n",
            "687:\tlearn: 0.0167073\ttotal: 12m 32s\tremaining: 5m 41s\n",
            "688:\tlearn: 0.0167003\ttotal: 12m 33s\tremaining: 5m 40s\n",
            "689:\tlearn: 0.0164952\ttotal: 12m 34s\tremaining: 5m 38s\n",
            "690:\tlearn: 0.0164867\ttotal: 12m 35s\tremaining: 5m 37s\n",
            "691:\tlearn: 0.0164785\ttotal: 12m 36s\tremaining: 5m 36s\n",
            "692:\tlearn: 0.0164735\ttotal: 12m 38s\tremaining: 5m 35s\n",
            "693:\tlearn: 0.0164658\ttotal: 12m 39s\tremaining: 5m 34s\n",
            "694:\tlearn: 0.0164561\ttotal: 12m 40s\tremaining: 5m 33s\n",
            "695:\tlearn: 0.0163551\ttotal: 12m 41s\tremaining: 5m 32s\n",
            "696:\tlearn: 0.0163429\ttotal: 12m 42s\tremaining: 5m 31s\n",
            "697:\tlearn: 0.0163371\ttotal: 12m 43s\tremaining: 5m 30s\n",
            "698:\tlearn: 0.0163293\ttotal: 12m 44s\tremaining: 5m 29s\n",
            "699:\tlearn: 0.0163245\ttotal: 12m 45s\tremaining: 5m 28s\n",
            "700:\tlearn: 0.0161931\ttotal: 12m 46s\tremaining: 5m 26s\n",
            "701:\tlearn: 0.0161859\ttotal: 12m 47s\tremaining: 5m 25s\n",
            "702:\tlearn: 0.0161746\ttotal: 12m 48s\tremaining: 5m 24s\n",
            "703:\tlearn: 0.0161699\ttotal: 12m 48s\tremaining: 5m 23s\n",
            "704:\tlearn: 0.0161624\ttotal: 12m 49s\tremaining: 5m 22s\n",
            "705:\tlearn: 0.0161572\ttotal: 12m 50s\tremaining: 5m 21s\n",
            "706:\tlearn: 0.0161525\ttotal: 12m 52s\tremaining: 5m 20s\n",
            "707:\tlearn: 0.0160619\ttotal: 12m 54s\tremaining: 5m 19s\n",
            "708:\tlearn: 0.0160571\ttotal: 12m 55s\tremaining: 5m 18s\n",
            "709:\tlearn: 0.0160499\ttotal: 12m 56s\tremaining: 5m 17s\n",
            "710:\tlearn: 0.0160448\ttotal: 12m 57s\tremaining: 5m 15s\n",
            "711:\tlearn: 0.0160346\ttotal: 12m 58s\tremaining: 5m 14s\n",
            "712:\tlearn: 0.0160248\ttotal: 12m 59s\tremaining: 5m 13s\n",
            "713:\tlearn: 0.0160184\ttotal: 13m\tremaining: 5m 12s\n",
            "714:\tlearn: 0.0159358\ttotal: 13m\tremaining: 5m 11s\n",
            "715:\tlearn: 0.0159242\ttotal: 13m 1s\tremaining: 5m 10s\n",
            "716:\tlearn: 0.0159171\ttotal: 13m 2s\tremaining: 5m 8s\n",
            "717:\tlearn: 0.0159124\ttotal: 13m 3s\tremaining: 5m 7s\n",
            "718:\tlearn: 0.0159052\ttotal: 13m 4s\tremaining: 5m 6s\n",
            "719:\tlearn: 0.0159007\ttotal: 13m 5s\tremaining: 5m 5s\n",
            "720:\tlearn: 0.0158935\ttotal: 13m 6s\tremaining: 5m 4s\n",
            "721:\tlearn: 0.0158891\ttotal: 13m 8s\tremaining: 5m 3s\n",
            "722:\tlearn: 0.0158821\ttotal: 13m 9s\tremaining: 5m 2s\n",
            "723:\tlearn: 0.0157666\ttotal: 13m 10s\tremaining: 5m 1s\n",
            "724:\tlearn: 0.0157569\ttotal: 13m 11s\tremaining: 5m\n",
            "725:\tlearn: 0.0157519\ttotal: 13m 12s\tremaining: 4m 59s\n",
            "726:\tlearn: 0.0157450\ttotal: 13m 13s\tremaining: 4m 58s\n",
            "727:\tlearn: 0.0155958\ttotal: 13m 14s\tremaining: 4m 56s\n",
            "728:\tlearn: 0.0155906\ttotal: 13m 15s\tremaining: 4m 55s\n",
            "729:\tlearn: 0.0155856\ttotal: 13m 16s\tremaining: 4m 54s\n",
            "730:\tlearn: 0.0154291\ttotal: 13m 17s\tremaining: 4m 53s\n",
            "731:\tlearn: 0.0154221\ttotal: 13m 18s\tremaining: 4m 52s\n",
            "732:\tlearn: 0.0154177\ttotal: 13m 19s\tremaining: 4m 51s\n",
            "733:\tlearn: 0.0154110\ttotal: 13m 19s\tremaining: 4m 49s\n",
            "734:\tlearn: 0.0154062\ttotal: 13m 21s\tremaining: 4m 48s\n",
            "735:\tlearn: 0.0154008\ttotal: 13m 22s\tremaining: 4m 47s\n",
            "736:\tlearn: 0.0153911\ttotal: 13m 24s\tremaining: 4m 47s\n",
            "737:\tlearn: 0.0152524\ttotal: 13m 25s\tremaining: 4m 46s\n",
            "738:\tlearn: 0.0152420\ttotal: 13m 26s\tremaining: 4m 44s\n",
            "739:\tlearn: 0.0152370\ttotal: 13m 27s\tremaining: 4m 43s\n",
            "740:\tlearn: 0.0152318\ttotal: 13m 28s\tremaining: 4m 42s\n",
            "741:\tlearn: 0.0152253\ttotal: 13m 29s\tremaining: 4m 41s\n",
            "742:\tlearn: 0.0151492\ttotal: 13m 30s\tremaining: 4m 40s\n",
            "743:\tlearn: 0.0151425\ttotal: 13m 31s\tremaining: 4m 39s\n",
            "744:\tlearn: 0.0151378\ttotal: 13m 31s\tremaining: 4m 37s\n",
            "745:\tlearn: 0.0151332\ttotal: 13m 32s\tremaining: 4m 36s\n",
            "746:\tlearn: 0.0151263\ttotal: 13m 33s\tremaining: 4m 35s\n",
            "747:\tlearn: 0.0151216\ttotal: 13m 34s\tremaining: 4m 34s\n",
            "748:\tlearn: 0.0151152\ttotal: 13m 35s\tremaining: 4m 33s\n",
            "749:\tlearn: 0.0151102\ttotal: 13m 37s\tremaining: 4m 32s\n",
            "750:\tlearn: 0.0151061\ttotal: 13m 38s\tremaining: 4m 31s\n",
            "751:\tlearn: 0.0150953\ttotal: 13m 40s\tremaining: 4m 30s\n",
            "752:\tlearn: 0.0150876\ttotal: 13m 41s\tremaining: 4m 29s\n",
            "753:\tlearn: 0.0150809\ttotal: 13m 41s\tremaining: 4m 28s\n",
            "754:\tlearn: 0.0150139\ttotal: 13m 42s\tremaining: 4m 27s\n",
            "755:\tlearn: 0.0150094\ttotal: 13m 43s\tremaining: 4m 25s\n",
            "756:\tlearn: 0.0150020\ttotal: 13m 44s\tremaining: 4m 24s\n",
            "757:\tlearn: 0.0149955\ttotal: 13m 45s\tremaining: 4m 23s\n",
            "758:\tlearn: 0.0149910\ttotal: 13m 46s\tremaining: 4m 22s\n",
            "759:\tlearn: 0.0149846\ttotal: 13m 47s\tremaining: 4m 21s\n",
            "760:\tlearn: 0.0149804\ttotal: 13m 48s\tremaining: 4m 20s\n",
            "761:\tlearn: 0.0149759\ttotal: 13m 49s\tremaining: 4m 18s\n",
            "762:\tlearn: 0.0149647\ttotal: 13m 49s\tremaining: 4m 17s\n",
            "763:\tlearn: 0.0149566\ttotal: 13m 51s\tremaining: 4m 16s\n",
            "764:\tlearn: 0.0149498\ttotal: 13m 52s\tremaining: 4m 15s\n",
            "765:\tlearn: 0.0148345\ttotal: 13m 54s\tremaining: 4m 14s\n",
            "766:\tlearn: 0.0148261\ttotal: 13m 55s\tremaining: 4m 13s\n",
            "767:\tlearn: 0.0147796\ttotal: 13m 56s\tremaining: 4m 12s\n",
            "768:\tlearn: 0.0147733\ttotal: 13m 57s\tremaining: 4m 11s\n",
            "769:\tlearn: 0.0147688\ttotal: 13m 58s\tremaining: 4m 10s\n",
            "770:\tlearn: 0.0147624\ttotal: 13m 59s\tremaining: 4m 9s\n",
            "771:\tlearn: 0.0147583\ttotal: 14m\tremaining: 4m 8s\n",
            "772:\tlearn: 0.0147095\ttotal: 14m 1s\tremaining: 4m 6s\n",
            "773:\tlearn: 0.0147037\ttotal: 14m 1s\tremaining: 4m 5s\n",
            "774:\tlearn: 0.0146952\ttotal: 14m 2s\tremaining: 4m 4s\n",
            "775:\tlearn: 0.0146889\ttotal: 14m 3s\tremaining: 4m 3s\n",
            "776:\tlearn: 0.0146849\ttotal: 14m 4s\tremaining: 4m 2s\n",
            "777:\tlearn: 0.0146785\ttotal: 14m 5s\tremaining: 4m 1s\n",
            "778:\tlearn: 0.0146722\ttotal: 14m 7s\tremaining: 4m\n",
            "779:\tlearn: 0.0145593\ttotal: 14m 9s\tremaining: 3m 59s\n",
            "780:\tlearn: 0.0144610\ttotal: 14m 10s\tremaining: 3m 58s\n",
            "781:\tlearn: 0.0144546\ttotal: 14m 11s\tremaining: 3m 57s\n",
            "782:\tlearn: 0.0144469\ttotal: 14m 12s\tremaining: 3m 56s\n",
            "783:\tlearn: 0.0144423\ttotal: 14m 12s\tremaining: 3m 55s\n",
            "784:\tlearn: 0.0143503\ttotal: 14m 13s\tremaining: 3m 53s\n",
            "785:\tlearn: 0.0143410\ttotal: 14m 14s\tremaining: 3m 52s\n",
            "786:\tlearn: 0.0143369\ttotal: 14m 15s\tremaining: 3m 51s\n",
            "787:\tlearn: 0.0143301\ttotal: 14m 16s\tremaining: 3m 50s\n",
            "788:\tlearn: 0.0143259\ttotal: 14m 17s\tremaining: 3m 49s\n",
            "789:\tlearn: 0.0143215\ttotal: 14m 18s\tremaining: 3m 48s\n",
            "790:\tlearn: 0.0142575\ttotal: 14m 19s\tremaining: 3m 47s\n",
            "791:\tlearn: 0.0142121\ttotal: 14m 20s\tremaining: 3m 45s\n",
            "792:\tlearn: 0.0142083\ttotal: 14m 21s\tremaining: 3m 44s\n",
            "793:\tlearn: 0.0142020\ttotal: 14m 23s\tremaining: 3m 44s\n",
            "794:\tlearn: 0.0141939\ttotal: 14m 25s\tremaining: 3m 43s\n",
            "795:\tlearn: 0.0141898\ttotal: 14m 25s\tremaining: 3m 41s\n",
            "796:\tlearn: 0.0141838\ttotal: 14m 26s\tremaining: 3m 40s\n",
            "797:\tlearn: 0.0141801\ttotal: 14m 27s\tremaining: 3m 39s\n",
            "798:\tlearn: 0.0141736\ttotal: 14m 28s\tremaining: 3m 38s\n",
            "799:\tlearn: 0.0141699\ttotal: 14m 29s\tremaining: 3m 37s\n",
            "800:\tlearn: 0.0141640\ttotal: 14m 30s\tremaining: 3m 36s\n",
            "801:\tlearn: 0.0141563\ttotal: 14m 31s\tremaining: 3m 35s\n",
            "802:\tlearn: 0.0141502\ttotal: 14m 32s\tremaining: 3m 34s\n",
            "803:\tlearn: 0.0141466\ttotal: 14m 33s\tremaining: 3m 32s\n",
            "804:\tlearn: 0.0141408\ttotal: 14m 34s\tremaining: 3m 31s\n",
            "805:\tlearn: 0.0141370\ttotal: 14m 35s\tremaining: 3m 30s\n",
            "806:\tlearn: 0.0141309\ttotal: 14m 36s\tremaining: 3m 29s\n",
            "807:\tlearn: 0.0141237\ttotal: 14m 38s\tremaining: 3m 28s\n",
            "808:\tlearn: 0.0141199\ttotal: 14m 39s\tremaining: 3m 27s\n",
            "809:\tlearn: 0.0140389\ttotal: 14m 40s\tremaining: 3m 26s\n",
            "810:\tlearn: 0.0140332\ttotal: 14m 41s\tremaining: 3m 25s\n",
            "811:\tlearn: 0.0140292\ttotal: 14m 42s\tremaining: 3m 24s\n",
            "812:\tlearn: 0.0140234\ttotal: 14m 43s\tremaining: 3m 23s\n",
            "813:\tlearn: 0.0140197\ttotal: 14m 44s\tremaining: 3m 22s\n",
            "814:\tlearn: 0.0140138\ttotal: 14m 45s\tremaining: 3m 20s\n",
            "815:\tlearn: 0.0138443\ttotal: 14m 46s\tremaining: 3m 19s\n",
            "816:\tlearn: 0.0138361\ttotal: 14m 47s\tremaining: 3m 18s\n",
            "817:\tlearn: 0.0138286\ttotal: 14m 48s\tremaining: 3m 17s\n",
            "818:\tlearn: 0.0137798\ttotal: 14m 48s\tremaining: 3m 16s\n",
            "819:\tlearn: 0.0137736\ttotal: 14m 49s\tremaining: 3m 15s\n",
            "820:\tlearn: 0.0137701\ttotal: 14m 51s\tremaining: 3m 14s\n",
            "821:\tlearn: 0.0137616\ttotal: 14m 52s\tremaining: 3m 13s\n",
            "822:\tlearn: 0.0137580\ttotal: 14m 54s\tremaining: 3m 12s\n",
            "823:\tlearn: 0.0137521\ttotal: 14m 55s\tremaining: 3m 11s\n",
            "824:\tlearn: 0.0137487\ttotal: 14m 56s\tremaining: 3m 10s\n",
            "825:\tlearn: 0.0137413\ttotal: 14m 57s\tremaining: 3m 9s\n",
            "826:\tlearn: 0.0137356\ttotal: 14m 58s\tremaining: 3m 7s\n",
            "827:\tlearn: 0.0137321\ttotal: 14m 59s\tremaining: 3m 6s\n",
            "828:\tlearn: 0.0137238\ttotal: 15m\tremaining: 3m 5s\n",
            "829:\tlearn: 0.0137140\ttotal: 15m\tremaining: 3m 4s\n",
            "830:\tlearn: 0.0137082\ttotal: 15m 1s\tremaining: 3m 3s\n",
            "831:\tlearn: 0.0137048\ttotal: 15m 2s\tremaining: 3m 2s\n",
            "832:\tlearn: 0.0136951\ttotal: 15m 3s\tremaining: 3m 1s\n",
            "833:\tlearn: 0.0135462\ttotal: 15m 4s\tremaining: 3m\n",
            "834:\tlearn: 0.0135097\ttotal: 15m 6s\tremaining: 2m 59s\n",
            "835:\tlearn: 0.0134311\ttotal: 15m 7s\tremaining: 2m 58s\n",
            "836:\tlearn: 0.0134228\ttotal: 15m 9s\tremaining: 2m 57s\n",
            "837:\tlearn: 0.0134188\ttotal: 15m 10s\tremaining: 2m 55s\n",
            "838:\tlearn: 0.0134147\ttotal: 15m 11s\tremaining: 2m 54s\n",
            "839:\tlearn: 0.0134105\ttotal: 15m 11s\tremaining: 2m 53s\n",
            "840:\tlearn: 0.0134019\ttotal: 15m 12s\tremaining: 2m 52s\n",
            "841:\tlearn: 0.0133977\ttotal: 15m 13s\tremaining: 2m 51s\n",
            "842:\tlearn: 0.0133917\ttotal: 15m 14s\tremaining: 2m 50s\n",
            "843:\tlearn: 0.0133882\ttotal: 15m 15s\tremaining: 2m 49s\n",
            "844:\tlearn: 0.0133823\ttotal: 15m 16s\tremaining: 2m 48s\n",
            "845:\tlearn: 0.0133788\ttotal: 15m 17s\tremaining: 2m 46s\n",
            "846:\tlearn: 0.0133748\ttotal: 15m 18s\tremaining: 2m 45s\n",
            "847:\tlearn: 0.0133688\ttotal: 15m 19s\tremaining: 2m 44s\n",
            "848:\tlearn: 0.0133655\ttotal: 15m 20s\tremaining: 2m 43s\n",
            "849:\tlearn: 0.0133619\ttotal: 15m 21s\tremaining: 2m 42s\n",
            "850:\tlearn: 0.0133564\ttotal: 15m 23s\tremaining: 2m 41s\n",
            "851:\tlearn: 0.0133368\ttotal: 15m 24s\tremaining: 2m 40s\n",
            "852:\tlearn: 0.0133310\ttotal: 15m 25s\tremaining: 2m 39s\n",
            "853:\tlearn: 0.0133277\ttotal: 15m 26s\tremaining: 2m 38s\n",
            "854:\tlearn: 0.0132615\ttotal: 15m 27s\tremaining: 2m 37s\n",
            "855:\tlearn: 0.0132533\ttotal: 15m 28s\tremaining: 2m 36s\n",
            "856:\tlearn: 0.0131775\ttotal: 15m 29s\tremaining: 2m 35s\n",
            "857:\tlearn: 0.0131714\ttotal: 15m 30s\tremaining: 2m 33s\n",
            "858:\tlearn: 0.0131674\ttotal: 15m 31s\tremaining: 2m 32s\n",
            "859:\tlearn: 0.0131600\ttotal: 15m 31s\tremaining: 2m 31s\n",
            "860:\tlearn: 0.0131564\ttotal: 15m 32s\tremaining: 2m 30s\n",
            "861:\tlearn: 0.0131505\ttotal: 15m 33s\tremaining: 2m 29s\n",
            "862:\tlearn: 0.0131475\ttotal: 15m 34s\tremaining: 2m 28s\n",
            "863:\tlearn: 0.0131420\ttotal: 15m 36s\tremaining: 2m 27s\n",
            "864:\tlearn: 0.0131366\ttotal: 15m 37s\tremaining: 2m 26s\n",
            "865:\tlearn: 0.0131313\ttotal: 15m 39s\tremaining: 2m 25s\n",
            "866:\tlearn: 0.0131277\ttotal: 15m 40s\tremaining: 2m 24s\n",
            "867:\tlearn: 0.0131242\ttotal: 15m 41s\tremaining: 2m 23s\n",
            "868:\tlearn: 0.0130905\ttotal: 15m 41s\tremaining: 2m 21s\n",
            "869:\tlearn: 0.0130834\ttotal: 15m 42s\tremaining: 2m 20s\n",
            "870:\tlearn: 0.0130801\ttotal: 15m 43s\tremaining: 2m 19s\n",
            "871:\tlearn: 0.0130744\ttotal: 15m 44s\tremaining: 2m 18s\n",
            "872:\tlearn: 0.0129694\ttotal: 15m 45s\tremaining: 2m 17s\n",
            "873:\tlearn: 0.0129605\ttotal: 15m 46s\tremaining: 2m 16s\n",
            "874:\tlearn: 0.0129549\ttotal: 15m 47s\tremaining: 2m 15s\n",
            "875:\tlearn: 0.0129515\ttotal: 15m 48s\tremaining: 2m 14s\n",
            "876:\tlearn: 0.0129445\ttotal: 15m 49s\tremaining: 2m 13s\n",
            "877:\tlearn: 0.0129408\ttotal: 15m 50s\tremaining: 2m 12s\n",
            "878:\tlearn: 0.0129351\ttotal: 15m 51s\tremaining: 2m 11s\n",
            "879:\tlearn: 0.0129318\ttotal: 15m 53s\tremaining: 2m 10s\n",
            "880:\tlearn: 0.0129280\ttotal: 15m 54s\tremaining: 2m 8s\n",
            "881:\tlearn: 0.0128739\ttotal: 15m 55s\tremaining: 2m 7s\n",
            "882:\tlearn: 0.0128693\ttotal: 15m 56s\tremaining: 2m 6s\n",
            "883:\tlearn: 0.0128659\ttotal: 15m 57s\tremaining: 2m 5s\n",
            "884:\tlearn: 0.0127598\ttotal: 15m 58s\tremaining: 2m 4s\n",
            "885:\tlearn: 0.0127287\ttotal: 15m 59s\tremaining: 2m 3s\n",
            "886:\tlearn: 0.0127251\ttotal: 16m\tremaining: 2m 2s\n",
            "887:\tlearn: 0.0127196\ttotal: 16m 1s\tremaining: 2m 1s\n",
            "888:\tlearn: 0.0127132\ttotal: 16m 2s\tremaining: 2m\n",
            "889:\tlearn: 0.0127039\ttotal: 16m 2s\tremaining: 1m 59s\n",
            "890:\tlearn: 0.0127001\ttotal: 16m 3s\tremaining: 1m 57s\n",
            "891:\tlearn: 0.0126965\ttotal: 16m 5s\tremaining: 1m 56s\n",
            "892:\tlearn: 0.0126898\ttotal: 16m 6s\tremaining: 1m 55s\n",
            "893:\tlearn: 0.0126866\ttotal: 16m 8s\tremaining: 1m 54s\n",
            "894:\tlearn: 0.0126834\ttotal: 16m 9s\tremaining: 1m 53s\n",
            "895:\tlearn: 0.0126798\ttotal: 16m 10s\tremaining: 1m 52s\n",
            "896:\tlearn: 0.0126741\ttotal: 16m 11s\tremaining: 1m 51s\n",
            "897:\tlearn: 0.0126709\ttotal: 16m 12s\tremaining: 1m 50s\n",
            "898:\tlearn: 0.0125808\ttotal: 16m 13s\tremaining: 1m 49s\n",
            "899:\tlearn: 0.0125731\ttotal: 16m 13s\tremaining: 1m 48s\n",
            "900:\tlearn: 0.0125676\ttotal: 16m 14s\tremaining: 1m 47s\n",
            "901:\tlearn: 0.0124711\ttotal: 16m 15s\tremaining: 1m 46s\n",
            "902:\tlearn: 0.0124661\ttotal: 16m 16s\tremaining: 1m 44s\n",
            "903:\tlearn: 0.0123985\ttotal: 16m 17s\tremaining: 1m 43s\n",
            "904:\tlearn: 0.0123904\ttotal: 16m 18s\tremaining: 1m 42s\n",
            "905:\tlearn: 0.0123874\ttotal: 16m 19s\tremaining: 1m 41s\n",
            "906:\tlearn: 0.0123818\ttotal: 16m 21s\tremaining: 1m 40s\n",
            "907:\tlearn: 0.0123787\ttotal: 16m 22s\tremaining: 1m 39s\n",
            "908:\tlearn: 0.0123757\ttotal: 16m 24s\tremaining: 1m 38s\n",
            "909:\tlearn: 0.0123689\ttotal: 16m 25s\tremaining: 1m 37s\n",
            "910:\tlearn: 0.0123657\ttotal: 16m 26s\tremaining: 1m 36s\n",
            "911:\tlearn: 0.0123604\ttotal: 16m 27s\tremaining: 1m 35s\n",
            "912:\tlearn: 0.0123223\ttotal: 16m 28s\tremaining: 1m 34s\n",
            "913:\tlearn: 0.0123139\ttotal: 16m 29s\tremaining: 1m 33s\n",
            "914:\tlearn: 0.0123113\ttotal: 16m 30s\tremaining: 1m 31s\n",
            "915:\tlearn: 0.0123058\ttotal: 16m 30s\tremaining: 1m 30s\n",
            "916:\tlearn: 0.0122540\ttotal: 16m 31s\tremaining: 1m 29s\n",
            "917:\tlearn: 0.0122466\ttotal: 16m 32s\tremaining: 1m 28s\n",
            "918:\tlearn: 0.0122437\ttotal: 16m 33s\tremaining: 1m 27s\n",
            "919:\tlearn: 0.0122385\ttotal: 16m 34s\tremaining: 1m 26s\n",
            "920:\tlearn: 0.0122352\ttotal: 16m 36s\tremaining: 1m 25s\n",
            "921:\tlearn: 0.0122323\ttotal: 16m 37s\tremaining: 1m 24s\n",
            "922:\tlearn: 0.0122272\ttotal: 16m 39s\tremaining: 1m 23s\n",
            "923:\tlearn: 0.0122209\ttotal: 16m 40s\tremaining: 1m 22s\n",
            "924:\tlearn: 0.0121860\ttotal: 16m 41s\tremaining: 1m 21s\n",
            "925:\tlearn: 0.0121802\ttotal: 16m 42s\tremaining: 1m 20s\n",
            "926:\tlearn: 0.0120783\ttotal: 16m 43s\tremaining: 1m 18s\n",
            "927:\tlearn: 0.0120727\ttotal: 16m 44s\tremaining: 1m 17s\n",
            "928:\tlearn: 0.0120676\ttotal: 16m 44s\tremaining: 1m 16s\n",
            "929:\tlearn: 0.0119727\ttotal: 16m 45s\tremaining: 1m 15s\n",
            "930:\tlearn: 0.0119667\ttotal: 16m 46s\tremaining: 1m 14s\n",
            "931:\tlearn: 0.0119627\ttotal: 16m 47s\tremaining: 1m 13s\n",
            "932:\tlearn: 0.0119599\ttotal: 16m 48s\tremaining: 1m 12s\n",
            "933:\tlearn: 0.0119548\ttotal: 16m 49s\tremaining: 1m 11s\n",
            "934:\tlearn: 0.0119517\ttotal: 16m 51s\tremaining: 1m 10s\n",
            "935:\tlearn: 0.0119471\ttotal: 16m 52s\tremaining: 1m 9s\n",
            "936:\tlearn: 0.0119441\ttotal: 16m 54s\tremaining: 1m 8s\n",
            "937:\tlearn: 0.0119394\ttotal: 16m 55s\tremaining: 1m 7s\n",
            "938:\tlearn: 0.0119343\ttotal: 16m 56s\tremaining: 1m 6s\n",
            "939:\tlearn: 0.0119313\ttotal: 16m 57s\tremaining: 1m 4s\n",
            "940:\tlearn: 0.0119285\ttotal: 16m 58s\tremaining: 1m 3s\n",
            "941:\tlearn: 0.0118471\ttotal: 16m 58s\tremaining: 1m 2s\n",
            "942:\tlearn: 0.0118043\ttotal: 16m 59s\tremaining: 1m 1s\n",
            "943:\tlearn: 0.0118003\ttotal: 17m\tremaining: 1m\n",
            "944:\tlearn: 0.0117953\ttotal: 17m 1s\tremaining: 59.5s\n",
            "945:\tlearn: 0.0117923\ttotal: 17m 2s\tremaining: 58.4s\n",
            "946:\tlearn: 0.0117892\ttotal: 17m 3s\tremaining: 57.3s\n",
            "947:\tlearn: 0.0117859\ttotal: 17m 4s\tremaining: 56.2s\n",
            "948:\tlearn: 0.0117810\ttotal: 17m 6s\tremaining: 55.1s\n",
            "949:\tlearn: 0.0117780\ttotal: 17m 7s\tremaining: 54.1s\n",
            "950:\tlearn: 0.0117749\ttotal: 17m 9s\tremaining: 53s\n",
            "951:\tlearn: 0.0117219\ttotal: 17m 10s\tremaining: 51.9s\n",
            "952:\tlearn: 0.0116814\ttotal: 17m 11s\tremaining: 50.9s\n",
            "953:\tlearn: 0.0116733\ttotal: 17m 12s\tremaining: 49.8s\n",
            "954:\tlearn: 0.0116706\ttotal: 17m 12s\tremaining: 48.7s\n",
            "955:\tlearn: 0.0116676\ttotal: 17m 13s\tremaining: 47.6s\n",
            "956:\tlearn: 0.0116617\ttotal: 17m 14s\tremaining: 46.5s\n",
            "957:\tlearn: 0.0116535\ttotal: 17m 15s\tremaining: 45.4s\n",
            "958:\tlearn: 0.0116535\ttotal: 17m 16s\tremaining: 44.3s\n",
            "959:\tlearn: 0.0116535\ttotal: 17m 17s\tremaining: 43.2s\n",
            "960:\tlearn: 0.0116504\ttotal: 17m 18s\tremaining: 42.1s\n",
            "961:\tlearn: 0.0116477\ttotal: 17m 19s\tremaining: 41.1s\n",
            "962:\tlearn: 0.0115396\ttotal: 17m 21s\tremaining: 40s\n",
            "963:\tlearn: 0.0115328\ttotal: 17m 22s\tremaining: 38.9s\n",
            "964:\tlearn: 0.0115299\ttotal: 17m 24s\tremaining: 37.9s\n",
            "965:\tlearn: 0.0115271\ttotal: 17m 25s\tremaining: 36.8s\n",
            "966:\tlearn: 0.0115225\ttotal: 17m 26s\tremaining: 35.7s\n",
            "967:\tlearn: 0.0115161\ttotal: 17m 27s\tremaining: 34.6s\n",
            "968:\tlearn: 0.0115075\ttotal: 17m 28s\tremaining: 33.5s\n",
            "969:\tlearn: 0.0115044\ttotal: 17m 29s\tremaining: 32.4s\n",
            "970:\tlearn: 0.0115044\ttotal: 17m 29s\tremaining: 31.4s\n",
            "971:\tlearn: 0.0115015\ttotal: 17m 30s\tremaining: 30.3s\n",
            "972:\tlearn: 0.0114942\ttotal: 17m 31s\tremaining: 29.2s\n",
            "973:\tlearn: 0.0114914\ttotal: 17m 32s\tremaining: 28.1s\n",
            "974:\tlearn: 0.0114885\ttotal: 17m 33s\tremaining: 27s\n",
            "975:\tlearn: 0.0114835\ttotal: 17m 34s\tremaining: 25.9s\n",
            "976:\tlearn: 0.0114807\ttotal: 17m 36s\tremaining: 24.9s\n",
            "977:\tlearn: 0.0114779\ttotal: 17m 37s\tremaining: 23.8s\n",
            "978:\tlearn: 0.0113793\ttotal: 17m 39s\tremaining: 22.7s\n",
            "979:\tlearn: 0.0113747\ttotal: 17m 40s\tremaining: 21.6s\n",
            "980:\tlearn: 0.0113720\ttotal: 17m 41s\tremaining: 20.6s\n",
            "981:\tlearn: 0.0113147\ttotal: 17m 42s\tremaining: 19.5s\n",
            "982:\tlearn: 0.0112754\ttotal: 17m 43s\tremaining: 18.4s\n",
            "983:\tlearn: 0.0112695\ttotal: 17m 43s\tremaining: 17.3s\n",
            "984:\tlearn: 0.0112668\ttotal: 17m 44s\tremaining: 16.2s\n",
            "985:\tlearn: 0.0112617\ttotal: 17m 45s\tremaining: 15.1s\n",
            "986:\tlearn: 0.0112588\ttotal: 17m 46s\tremaining: 14s\n",
            "987:\tlearn: 0.0112521\ttotal: 17m 47s\tremaining: 13s\n",
            "988:\tlearn: 0.0112253\ttotal: 17m 48s\tremaining: 11.9s\n",
            "989:\tlearn: 0.0111865\ttotal: 17m 49s\tremaining: 10.8s\n",
            "990:\tlearn: 0.0111839\ttotal: 17m 50s\tremaining: 9.73s\n",
            "991:\tlearn: 0.0111815\ttotal: 17m 52s\tremaining: 8.65s\n",
            "992:\tlearn: 0.0111767\ttotal: 17m 54s\tremaining: 7.57s\n",
            "993:\tlearn: 0.0111739\ttotal: 17m 55s\tremaining: 6.49s\n",
            "994:\tlearn: 0.0111715\ttotal: 17m 55s\tremaining: 5.41s\n",
            "995:\tlearn: 0.0111648\ttotal: 17m 56s\tremaining: 4.32s\n",
            "996:\tlearn: 0.0111098\ttotal: 17m 57s\tremaining: 3.24s\n",
            "997:\tlearn: 0.0111057\ttotal: 17m 58s\tremaining: 2.16s\n",
            "998:\tlearn: 0.0111033\ttotal: 17m 59s\tremaining: 1.08s\n",
            "999:\tlearn: 0.0110986\ttotal: 18m\tremaining: 0us\n"
          ]
        }
      ]
    },
    {
      "cell_type": "code",
      "source": [
        "input_txt = preprocess_txt('разогревать растительный масло класть подготовить репчатый лук морковь')\n",
        "vect = vectorizer.transform([\" \".join(input_txt)])\n",
        "prediction = cat_new.predict_proba(vect)\n",
        "print(prediction)"
      ],
      "metadata": {
        "colab": {
          "base_uri": "https://localhost:8080/"
        },
        "id": "6s3raxVYYBja",
        "outputId": "8e8e77b9-b05f-40a4-c9b6-fabde4e49375"
      },
      "execution_count": 56,
      "outputs": [
        {
          "output_type": "stream",
          "name": "stdout",
          "text": [
            "[[0.23688948 0.76311052]]\n"
          ]
        }
      ]
    },
    {
      "cell_type": "code",
      "source": [
        "from sklearn.metrics import accuracy_score\n",
        "accuracy_score(y_true=y_test, y_pred=cat_new.predict(x_test_vec))"
      ],
      "metadata": {
        "colab": {
          "base_uri": "https://localhost:8080/"
        },
        "id": "PDhz3rLNYBna",
        "outputId": "b176348d-5f1a-4c93-f267-c1d110a7c7d4"
      },
      "execution_count": 57,
      "outputs": [
        {
          "output_type": "execute_result",
          "data": {
            "text/plain": [
              "0.990990990990991"
            ]
          },
          "metadata": {},
          "execution_count": 57
        }
      ]
    },
    {
      "cell_type": "code",
      "source": [
        "import pickle\n",
        "with open('cat_new.pkl', 'wb') as f:\n",
        "   pickle.dump(cat_new, f)"
      ],
      "metadata": {
        "id": "6clJWtN4YBq5"
      },
      "execution_count": 58,
      "outputs": []
    },
    {
      "cell_type": "code",
      "source": [
        "with open('cat_new.pkl', 'rb') as f:\n",
        "  cat_new = pickle.load(f)"
      ],
      "metadata": {
        "id": "okXQdGxBYByu"
      },
      "execution_count": 59,
      "outputs": []
    },
    {
      "cell_type": "code",
      "source": [
        "def embed_txt(txt, idfs, midf):\n",
        "    n_ft = 0\n",
        "    vector_ft = np.zeros(100)\n",
        "    for word in txt:\n",
        "        if word in modelFT.wv:\n",
        "            vector_ft += modelFT.wv[word] * 1 # idfs.get(word, midf)\n",
        "            n_ft += 1 # idfs.get(word, midf)\n",
        "    return vector_ft / n_ft"
      ],
      "metadata": {
        "id": "NKjtzagUX4fR"
      },
      "execution_count": 60,
      "outputs": []
    },
    {
      "cell_type": "code",
      "source": [
        "import os\n",
        "import logging\n",
        "from telegram import Update\n",
        "from telegram.ext import Updater, CommandHandler, MessageHandler, filters, CallbackContext"
      ],
      "metadata": {
        "id": "AYM4hZgcUAwD"
      },
      "execution_count": 62,
      "outputs": []
    },
    {
      "cell_type": "code",
      "source": [
        "BOT_API = '5903651212:AAGqaqp7dN42arjsyElIrPYSkA8qpeSjA2g'\n",
        "updater = Updater(BOT_API, use_context=True)  # Токен API к Telegram\n",
        "dispatcher = updater.dispatcher"
      ],
      "metadata": {
        "colab": {
          "base_uri": "https://localhost:8080/",
          "height": 85
        },
        "id": "C3L_YrmnYiKg",
        "outputId": "5122b891-cdf6-4f94-8366-d6d3f3cb436c"
      },
      "execution_count": 64,
      "outputs": [
        {
          "output_type": "display_data",
          "data": {
            "text/plain": [
              "\u001b[31m╭─\u001b[0m\u001b[31m──────────────────────────────\u001b[0m\u001b[31m \u001b[0m\u001b[1;31mTraceback \u001b[0m\u001b[1;2;31m(most recent call last)\u001b[0m\u001b[31m \u001b[0m\u001b[31m───────────────────────────────\u001b[0m\u001b[31m─╮\u001b[0m\n",
              "\u001b[31m│\u001b[0m in \u001b[92m<cell line: 2>\u001b[0m:\u001b[94m2\u001b[0m                                                                              \u001b[31m│\u001b[0m\n",
              "\u001b[31m╰──────────────────────────────────────────────────────────────────────────────────────────────────╯\u001b[0m\n",
              "\u001b[1;91mTypeError: \u001b[0m\u001b[1;35mUpdater.__init__\u001b[0m\u001b[1m(\u001b[0m\u001b[1m)\u001b[0m got an unexpected keyword argument \u001b[32m'use_context'\u001b[0m\n"
            ],
            "text/html": [
              "<pre style=\"white-space:pre;overflow-x:auto;line-height:normal;font-family:Menlo,'DejaVu Sans Mono',consolas,'Courier New',monospace\"><span style=\"color: #800000; text-decoration-color: #800000\">╭─────────────────────────────── </span><span style=\"color: #800000; text-decoration-color: #800000; font-weight: bold\">Traceback </span><span style=\"color: #bf7f7f; text-decoration-color: #bf7f7f; font-weight: bold\">(most recent call last)</span><span style=\"color: #800000; text-decoration-color: #800000\"> ────────────────────────────────╮</span>\n",
              "<span style=\"color: #800000; text-decoration-color: #800000\">│</span> in <span style=\"color: #00ff00; text-decoration-color: #00ff00\">&lt;cell line: 2&gt;</span>:<span style=\"color: #0000ff; text-decoration-color: #0000ff\">2</span>                                                                              <span style=\"color: #800000; text-decoration-color: #800000\">│</span>\n",
              "<span style=\"color: #800000; text-decoration-color: #800000\">╰──────────────────────────────────────────────────────────────────────────────────────────────────╯</span>\n",
              "<span style=\"color: #ff0000; text-decoration-color: #ff0000; font-weight: bold\">TypeError: </span><span style=\"color: #800080; text-decoration-color: #800080; font-weight: bold\">Updater.__init__</span><span style=\"font-weight: bold\">()</span> got an unexpected keyword argument <span style=\"color: #008000; text-decoration-color: #008000\">'use_context'</span>\n",
              "</pre>\n"
            ]
          },
          "metadata": {}
        }
      ]
    },
    {
      "cell_type": "code",
      "source": [
        "key_time = ['время','час']\n",
        "#key_rec = ['рецепт', 'ингредиент', 'готовить']\n",
        "key_ciao = ['спасибо']\n",
        "def check_in_list(text, key_list):\n",
        "    for w in text:\n",
        "      if w in key_list:\n",
        "        flag = True\n",
        "        break\n",
        "      else:\n",
        "        flag = False\n",
        "    return flag"
      ],
      "metadata": {
        "id": "spGDoylVYiOv"
      },
      "execution_count": null,
      "outputs": []
    },
    {
      "cell_type": "code",
      "source": [
        "print(preprocess_txt1('сколько времени'))"
      ],
      "metadata": {
        "id": "mzodepDrYiS0"
      },
      "execution_count": null,
      "outputs": []
    },
    {
      "cell_type": "code",
      "source": [
        "check_in_list(['сколько', 'время'], key_time)"
      ],
      "metadata": {
        "id": "_eSGVsovYiWZ"
      },
      "execution_count": null,
      "outputs": []
    },
    {
      "cell_type": "code",
      "source": [
        "import datetime"
      ],
      "metadata": {
        "id": "rSmYkNAIYiZ0"
      },
      "execution_count": null,
      "outputs": []
    },
    {
      "cell_type": "code",
      "source": [
        "# тестирую финальную функцию\n",
        "def process(text):\n",
        "    input_txt = preprocess_txt(text)\n",
        "    input_txt1 = preprocess_txt1(text)\n",
        "    print(input_txt1) #без стоп-слов\n",
        "    vect = vectorizer.transform([\" \".join(input_txt)])\n",
        "    prediction = cat_new.predict(vect)\n",
        "    print(prediction)\n",
        "    \n",
        "    if check_in_list(input_txt1, key_time): \n",
        "      \n",
        "        now = datetime.datetime.now()       \n",
        "        print(now.strftime(\"%d-%m-%Y %H:%M\"))\n",
        "        return\n",
        "    \n",
        "    if check_in_list(input_txt1, key_ciao): \n",
        "            \n",
        "        print('Рад был помочь!')\n",
        "        return\n",
        "    pred = cat_new.predict_proba(vect)\n",
        "    print(pred)\n",
        "    if prediction == 0:\n",
        "        vect_ft = embed_txt(input_txt, {}, 1)\n",
        "        ft_index_val, distances = ft_index.get_nns_by_vector(vect_ft, 1, include_distances=True)\n",
        "        if distances[0] > 0.45:\n",
        "          print(distances[0])\n",
        "          print(\"Моя твоя не понимать\")\n",
        "          return\n",
        "        print(index_map[ft_index_val[0]])\n",
        "        return\n",
        "    \n",
        "    \n",
        "    #if prediction[0] == 1:\n",
        "        #gpt_generate(update.message.text)\n",
        "\n",
        "    print(gpt_generate(text))"
      ],
      "metadata": {
        "id": "BcdTty3DYidh"
      },
      "execution_count": null,
      "outputs": []
    },
    {
      "cell_type": "code",
      "source": [
        "process('разогревать растительный масло класть подготовить репчатый лук морковь')"
      ],
      "metadata": {
        "id": "oy_C7dUmYig8"
      },
      "execution_count": null,
      "outputs": []
    },
    {
      "cell_type": "code",
      "source": [
        "process('который час')"
      ],
      "metadata": {
        "id": "Pv17WbO0dkFj"
      },
      "execution_count": null,
      "outputs": []
    },
    {
      "cell_type": "code",
      "source": [
        "process('потерял ключи что делать')"
      ],
      "metadata": {
        "id": "uEcY13EbdkJb"
      },
      "execution_count": null,
      "outputs": []
    },
    {
      "cell_type": "code",
      "source": [
        "process('спасибо')"
      ],
      "metadata": {
        "id": "Meu9kdQIdkNi"
      },
      "execution_count": null,
      "outputs": []
    },
    {
      "cell_type": "code",
      "source": [
        "def startCommand(update: Update, context: CallbackContext):\n",
        "    update.message.reply_text('Чао! Я могу сказать, который час, придумать рецепт или просто поболтать')\n",
        "\n",
        "def textMessage(update: Update, context: CallbackContext):\n",
        "    input_txt = preprocess_txt(update.message.text)\n",
        "    input_txt1 = preprocess_txt1(update.message.text) #без стоп-слов\n",
        "    vect = vectorizer.transform([\" \".join(input_txt)])\n",
        "    prediction = cat_new.predict(vect)\n",
        "    #print(prediction)\n",
        "    \n",
        "    if check_in_list(input_txt1, key_ciao): \n",
        "            \n",
        "        update.message.reply_text('Рад был помочь!')\n",
        "        return\n",
        "    \n",
        "    if check_in_list(input_txt1, key_time): \n",
        "      \n",
        "        now = datetime.datetime.now()       \n",
        "        update.message.reply_text(now.strftime(\"%d-%m-%Y %H:%M\"))\n",
        "        return\n",
        "\n",
        "    #pred = lr_new.predict_proba(vect)\n",
        "    #print(pred)\n",
        "    if prediction == 0:\n",
        "        vect_ft = embed_txt(input_txt, {}, 1)\n",
        "        ft_index_val, distances = ft_index.get_nns_by_vector(vect_ft, 1, include_distances=True)\n",
        "        if distances[0] > 0.45:\n",
        "          print(distances[0])\n",
        "          update.message.reply_text(\"Не понял, уточните вопрос\")\n",
        "          return\n",
        "        update.message.reply_text(index_map[ft_index_val[0]])\n",
        "        return\n",
        "    \n",
        "    \n",
        "    #if prediction[0] == 1:\n",
        "        #gpt_generate(update.message.text)\n",
        "\n",
        "    update.message.reply_text(gpt_generate(update.message.text))"
      ],
      "metadata": {
        "id": "z4zW4LY5dwwD"
      },
      "execution_count": null,
      "outputs": []
    },
    {
      "cell_type": "code",
      "source": [
        "# on different commands - answer in Telegram\n",
        "dispatcher.add_handler(CommandHandler(\"start\", startCommand))\n",
        "dispatcher.add_handler(MessageHandler(Filters.text & ~Filters.command, textMessage))\n",
        "\n",
        "# Start the Bot\n",
        "updater.start_polling()\n",
        "updater.idle()"
      ],
      "metadata": {
        "id": "iSyOBmv9dw1X"
      },
      "execution_count": null,
      "outputs": []
    },
    {
      "cell_type": "code",
      "source": [
        "from IPython.display import Image\n",
        "Image('bot.png')"
      ],
      "metadata": {
        "id": "pV7q16pkdw6X"
      },
      "execution_count": null,
      "outputs": []
    },
    {
      "cell_type": "code",
      "source": [],
      "metadata": {
        "id": "gFY3zpvRdw-v"
      },
      "execution_count": null,
      "outputs": []
    },
    {
      "cell_type": "code",
      "source": [],
      "metadata": {
        "id": "eHkQ8flUYikm"
      },
      "execution_count": null,
      "outputs": []
    }
  ]
}